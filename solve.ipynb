{
 "cells": [
  {
   "cell_type": "code",
   "execution_count": 1,
   "id": "6892a8b3",
   "metadata": {},
   "outputs": [],
   "source": [
    "from gridsolver.solver.logger import set_colouring\n",
    "set_colouring(\"Rich\")\n",
    "from gridsolver.abstract_grids.grid_loading import create_from_str_and_class, create_from_file\n",
    "from gridsolver.solver import solver"
   ]
  },
  {
   "cell_type": "code",
   "execution_count": null,
   "id": "e5f2de97",
   "metadata": {
    "scrolled": false
   },
   "outputs": [],
   "source": [
    "g = create_from_str_and_class(\"6...27......9..1.2.47.......3..1.4..9..4.6.2...8..3......5....3.65.79........1...\", \"Sudoku\")\n",
    "solver.solve(g, -1)"
   ]
  },
  {
   "cell_type": "code",
   "execution_count": 2,
   "id": "6a5b5247",
   "metadata": {
    "scrolled": false
   },
   "outputs": [
    {
     "data": {
      "text/html": [
       "<pre style=\"white-space:pre;overflow-x:auto;line-height:normal;font-family:Menlo,'DejaVu Sans Mono',consolas,'Courier New',monospace\">Solving rule-based                                                                           \n",
       "</pre>\n"
      ],
      "text/plain": [
       "Solving rule-based                                                                           \n"
      ]
     },
     "metadata": {},
     "output_type": "display_data"
    },
    {
     "data": {
      "text/html": [
       "<pre style=\"white-space:pre;overflow-x:auto;line-height:normal;font-family:Menlo,'DejaVu Sans Mono',consolas,'Courier New',monospace\">Sudoku(9,9) - [54 rls, 0 ria, 0 gts, 0 gia]                                                  \n",
       "</pre>\n"
      ],
      "text/plain": [
       "Sudoku(9,9) - [54 rls, 0 ria, 0 gts, 0 gia]                                                  \n"
      ]
     },
     "metadata": {},
     "output_type": "display_data"
    },
    {
     "data": {
      "text/html": [
       "<pre style=\"white-space:pre;overflow-x:auto;line-height:normal;font-family:Menlo,'DejaVu Sans Mono',consolas,'Courier New',monospace\">┏━━━┯━━━┯━━━┯━━━┯━━━┯━━━┯━━━┯━━━┯━━━┓                                                        \n",
       "┃147│147│147│147│147│147│147│   │   ┃                                                        \n",
       "┃258│258│258│258│258│258│258│ 9 │ 2 ┃                                                        \n",
       "┃369│369│369│369│369│369│369│ = │ = ┃                                                        \n",
       "┠───┼───┼───┼───┼───┼───┼───┼───┼───┨                                                        \n",
       "┃147│147│147│147│   │   │147│147│147┃                                                        \n",
       "┃258│258│258│258│ 8 │ 4 │258│258│258┃                                                        \n",
       "┃369│369│369│369│ = │ = │369│369│369┃                                                        \n",
       "┠───┼───┼───┼───┼───┼───┼───┼───┼───┨                                                        \n",
       "┃147│147│   │147│   │147│147│147│   ┃                                                        \n",
       "┃258│258│ 8 │258│ 5 │258│258│258│ 1 ┃                                                        \n",
       "┃369│369│ = │369│ = │369│369│369│ = ┃                                                        \n",
       "┠───┼───┼───┼───┼───┼───┼───┼───┼───┨                                                        \n",
       "┃147│147│147│147│   │147│147│147│147┃                                                        \n",
       "┃258│258│258│258│ 4 │258│258│258│258┃                                                        \n",
       "┃369│369│369│369│ = │369│369│369│369┃                                                        \n",
       "┠───┼───┼───┼───┼───┼───┼───┼───┼───┨                                                        \n",
       "┃147│   │   │147│147│147│   │147│147┃                                                        \n",
       "┃258│ 2 │ 5 │258│258│258│ 9 │258│258┃                                                        \n",
       "┃369│ = │ = │369│369│369│ = │369│369┃                                                        \n",
       "┠───┼───┼───┼───┼───┼───┼───┼───┼───┨                                                        \n",
       "┃147│147│147│   │   │147│   │147│147┃                                                        \n",
       "┃258│258│258│ 7 │ 1 │258│ 5 │258│258┃                                                        \n",
       "┃369│369│369│ = │ = │369│ = │369│369┃                                                        \n",
       "┠───┼───┼───┼───┼───┼───┼───┼───┼───┨                                                        \n",
       "┃   │   │147│   │147│147│   │147│   ┃                                                        \n",
       "┃ 7 │ 5 │258│ 1 │258│258│ 4 │258│ 3 ┃                                                        \n",
       "┃ = │ = │369│ = │369│369│ = │369│ = ┃                                                        \n",
       "┠───┼───┼───┼───┼───┼───┼───┼───┼───┨                                                        \n",
       "┃   │147│147│   │147│147│147│147│   ┃                                                        \n",
       "┃ 3 │258│258│ 5 │258│258│258│258│ 9 ┃                                                        \n",
       "┃ = │369│369│ = │369│369│369│369│ = ┃                                                        \n",
       "┠───┼───┼───┼───┼───┼───┼───┼───┼───┨                                                        \n",
       "┃   │147│147│   │147│147│147│   │   ┃                                                        \n",
       "┃ 2 │258│258│ 4 │258│258│258│ 6 │ 5 ┃                                                        \n",
       "┃ = │369│369│ = │369│369│369│ = │ = ┃                                                        \n",
       "┗━━━┷━━━┷━━━┷━━━┷━━━┷━━━┷━━━┷━━━┷━━━┛                                                        \n",
       "                                                                                             \n",
       "</pre>\n"
      ],
      "text/plain": [
       "┏━━━┯━━━┯━━━┯━━━┯━━━┯━━━┯━━━┯━━━┯━━━┓                                                        \n",
       "┃147│147│147│147│147│147│147│   │   ┃                                                        \n",
       "┃258│258│258│258│258│258│258│ 9 │ 2 ┃                                                        \n",
       "┃369│369│369│369│369│369│369│ = │ = ┃                                                        \n",
       "┠───┼───┼───┼───┼───┼───┼───┼───┼───┨                                                        \n",
       "┃147│147│147│147│   │   │147│147│147┃                                                        \n",
       "┃258│258│258│258│ 8 │ 4 │258│258│258┃                                                        \n",
       "┃369│369│369│369│ = │ = │369│369│369┃                                                        \n",
       "┠───┼───┼───┼───┼───┼───┼───┼───┼───┨                                                        \n",
       "┃147│147│   │147│   │147│147│147│   ┃                                                        \n",
       "┃258│258│ 8 │258│ 5 │258│258│258│ 1 ┃                                                        \n",
       "┃369│369│ = │369│ = │369│369│369│ = ┃                                                        \n",
       "┠───┼───┼───┼───┼───┼───┼───┼───┼───┨                                                        \n",
       "┃147│147│147│147│   │147│147│147│147┃                                                        \n",
       "┃258│258│258│258│ 4 │258│258│258│258┃                                                        \n",
       "┃369│369│369│369│ = │369│369│369│369┃                                                        \n",
       "┠───┼───┼───┼───┼───┼───┼───┼───┼───┨                                                        \n",
       "┃147│   │   │147│147│147│   │147│147┃                                                        \n",
       "┃258│ 2 │ 5 │258│258│258│ 9 │258│258┃                                                        \n",
       "┃369│ = │ = │369│369│369│ = │369│369┃                                                        \n",
       "┠───┼───┼───┼───┼───┼───┼───┼───┼───┨                                                        \n",
       "┃147│147│147│   │   │147│   │147│147┃                                                        \n",
       "┃258│258│258│ 7 │ 1 │258│ 5 │258│258┃                                                        \n",
       "┃369│369│369│ = │ = │369│ = │369│369┃                                                        \n",
       "┠───┼───┼───┼───┼───┼───┼───┼───┼───┨                                                        \n",
       "┃   │   │147│   │147│147│   │147│   ┃                                                        \n",
       "┃ 7 │ 5 │258│ 1 │258│258│ 4 │258│ 3 ┃                                                        \n",
       "┃ = │ = │369│ = │369│369│ = │369│ = ┃                                                        \n",
       "┠───┼───┼───┼───┼───┼───┼───┼───┼───┨                                                        \n",
       "┃   │147│147│   │147│147│147│147│   ┃                                                        \n",
       "┃ 3 │258│258│ 5 │258│258│258│258│ 9 ┃                                                        \n",
       "┃ = │369│369│ = │369│369│369│369│ = ┃                                                        \n",
       "┠───┼───┼───┼───┼───┼───┼───┼───┼───┨                                                        \n",
       "┃   │147│147│   │147│147│147│   │   ┃                                                        \n",
       "┃ 2 │258│258│ 4 │258│258│258│ 6 │ 5 ┃                                                        \n",
       "┃ = │369│369│ = │369│369│369│ = │ = ┃                                                        \n",
       "┗━━━┷━━━┷━━━┷━━━┷━━━┷━━━┷━━━┷━━━┷━━━┛                                                        \n",
       "                                                                                             \n"
      ]
     },
     "metadata": {},
     "output_type": "display_data"
    },
    {
     "data": {
      "text/html": [
       "<pre style=\"white-space:pre;overflow-x:auto;line-height:normal;font-family:Menlo,'DejaVu Sans Mono',consolas,'Courier New',monospace\"><span style=\"color: #000080; text-decoration-color: #000080\">Step [0] - 0 (Normal)</span>                                                                        \n",
       "</pre>\n"
      ],
      "text/plain": [
       "\u001b[34mStep [0] - 0 (Normal)\u001b[0m                                                                        \n"
      ]
     },
     "metadata": {},
     "output_type": "display_data"
    },
    {
     "data": {
      "text/html": [
       "<pre style=\"white-space:pre;overflow-x:auto;line-height:normal;font-family:Menlo,'DejaVu Sans Mono',consolas,'Courier New',monospace\">Sudoku(9,9) - [54 rls, 0 ria, 0 gts, 0 gia]                                                  \n",
       "</pre>\n"
      ],
      "text/plain": [
       "Sudoku(9,9) - [54 rls, 0 ria, 0 gts, 0 gia]                                                  \n"
      ]
     },
     "metadata": {},
     "output_type": "display_data"
    },
    {
     "data": {
      "text/html": [
       "<pre style=\"white-space:pre;overflow-x:auto;line-height:normal;font-family:Menlo,'DejaVu Sans Mono',consolas,'Courier New',monospace\">┏━━━┯━━━┯━━━┯━━━┯━━━┯━━━┯━━━┯━━━┯━━━┓                                                        \n",
       "┃147│147│147│147│147│147│147│   │   ┃                                                        \n",
       "┃258│258│258│258│258│258│258│ 9 │ 2 ┃                                                        \n",
       "┃369│369│369│369│369│369│369│ = │ = ┃                                                        \n",
       "┠───┼───┼───┼───┼───┼───┼───┼───┼───┨                                                        \n",
       "┃147│147│147│147│   │   │147│147│147┃                                                        \n",
       "┃258│258│258│258│ 8 │ 4 │258│258│258┃                                                        \n",
       "┃369│369│369│369│ = │ = │369│369│369┃                                                        \n",
       "┠───┼───┼───┼───┼───┼───┼───┼───┼───┨                                                        \n",
       "┃147│147│   │147│   │147│147│147│   ┃                                                        \n",
       "┃258│258│ 8 │258│ 5 │258│258│258│ 1 ┃                                                        \n",
       "┃369│369│ = │369│ = │369│369│369│ = ┃                                                        \n",
       "┠───┼───┼───┼───┼───┼───┼───┼───┼───┨                                                        \n",
       "┃147│147│147│147│   │147│147│147│147┃                                                        \n",
       "┃258│258│258│258│ 4 │258│258│258│258┃                                                        \n",
       "┃369│369│369│369│ = │369│369│369│369┃                                                        \n",
       "┠───┼───┼───┼───┼───┼───┼───┼───┼───┨                                                        \n",
       "┃147│   │   │147│147│147│   │147│147┃                                                        \n",
       "┃258│ 2 │ 5 │258│258│258│ 9 │258│258┃                                                        \n",
       "┃369│ = │ = │369│369│369│ = │369│369┃                                                        \n",
       "┠───┼───┼───┼───┼───┼───┼───┼───┼───┨                                                        \n",
       "┃147│147│147│   │   │147│   │147│147┃                                                        \n",
       "┃258│258│258│ 7 │ 1 │258│ 5 │258│258┃                                                        \n",
       "┃369│369│369│ = │ = │369│ = │369│369┃                                                        \n",
       "┠───┼───┼───┼───┼───┼───┼───┼───┼───┨                                                        \n",
       "┃   │   │147│   │147│147│   │147│   ┃                                                        \n",
       "┃ 7 │ 5 │258│ 1 │258│258│ 4 │258│ 3 ┃                                                        \n",
       "┃ = │ = │369│ = │369│369│ = │369│ = ┃                                                        \n",
       "┠───┼───┼───┼───┼───┼───┼───┼───┼───┨                                                        \n",
       "┃   │147│147│   │147│147│147│147│   ┃                                                        \n",
       "┃ 3 │258│258│ 5 │258│258│258│258│ 9 ┃                                                        \n",
       "┃ = │369│369│ = │369│369│369│369│ = ┃                                                        \n",
       "┠───┼───┼───┼───┼───┼───┼───┼───┼───┨                                                        \n",
       "┃   │147│147│   │147│147│147│   │   ┃                                                        \n",
       "┃ 2 │258│258│ 4 │258│258│258│ 6 │ 5 ┃                                                        \n",
       "┃ = │369│369│ = │369│369│369│ = │ = ┃                                                        \n",
       "┗━━━┷━━━┷━━━┷━━━┷━━━┷━━━┷━━━┷━━━┷━━━┛                                                        \n",
       "                                                                                             \n",
       "</pre>\n"
      ],
      "text/plain": [
       "┏━━━┯━━━┯━━━┯━━━┯━━━┯━━━┯━━━┯━━━┯━━━┓                                                        \n",
       "┃147│147│147│147│147│147│147│   │   ┃                                                        \n",
       "┃258│258│258│258│258│258│258│ 9 │ 2 ┃                                                        \n",
       "┃369│369│369│369│369│369│369│ = │ = ┃                                                        \n",
       "┠───┼───┼───┼───┼───┼───┼───┼───┼───┨                                                        \n",
       "┃147│147│147│147│   │   │147│147│147┃                                                        \n",
       "┃258│258│258│258│ 8 │ 4 │258│258│258┃                                                        \n",
       "┃369│369│369│369│ = │ = │369│369│369┃                                                        \n",
       "┠───┼───┼───┼───┼───┼───┼───┼───┼───┨                                                        \n",
       "┃147│147│   │147│   │147│147│147│   ┃                                                        \n",
       "┃258│258│ 8 │258│ 5 │258│258│258│ 1 ┃                                                        \n",
       "┃369│369│ = │369│ = │369│369│369│ = ┃                                                        \n",
       "┠───┼───┼───┼───┼───┼───┼───┼───┼───┨                                                        \n",
       "┃147│147│147│147│   │147│147│147│147┃                                                        \n",
       "┃258│258│258│258│ 4 │258│258│258│258┃                                                        \n",
       "┃369│369│369│369│ = │369│369│369│369┃                                                        \n",
       "┠───┼───┼───┼───┼───┼───┼───┼───┼───┨                                                        \n",
       "┃147│   │   │147│147│147│   │147│147┃                                                        \n",
       "┃258│ 2 │ 5 │258│258│258│ 9 │258│258┃                                                        \n",
       "┃369│ = │ = │369│369│369│ = │369│369┃                                                        \n",
       "┠───┼───┼───┼───┼───┼───┼───┼───┼───┨                                                        \n",
       "┃147│147│147│   │   │147│   │147│147┃                                                        \n",
       "┃258│258│258│ 7 │ 1 │258│ 5 │258│258┃                                                        \n",
       "┃369│369│369│ = │ = │369│ = │369│369┃                                                        \n",
       "┠───┼───┼───┼───┼───┼───┼───┼───┼───┨                                                        \n",
       "┃   │   │147│   │147│147│   │147│   ┃                                                        \n",
       "┃ 7 │ 5 │258│ 1 │258│258│ 4 │258│ 3 ┃                                                        \n",
       "┃ = │ = │369│ = │369│369│ = │369│ = ┃                                                        \n",
       "┠───┼───┼───┼───┼───┼───┼───┼───┼───┨                                                        \n",
       "┃   │147│147│   │147│147│147│147│   ┃                                                        \n",
       "┃ 3 │258│258│ 5 │258│258│258│258│ 9 ┃                                                        \n",
       "┃ = │369│369│ = │369│369│369│369│ = ┃                                                        \n",
       "┠───┼───┼───┼───┼───┼───┼───┼───┼───┨                                                        \n",
       "┃   │147│147│   │147│147│147│   │   ┃                                                        \n",
       "┃ 2 │258│258│ 4 │258│258│258│ 6 │ 5 ┃                                                        \n",
       "┃ = │369│369│ = │369│369│369│ = │ = ┃                                                        \n",
       "┗━━━┷━━━┷━━━┷━━━┷━━━┷━━━┷━━━┷━━━┷━━━┛                                                        \n",
       "                                                                                             \n"
      ]
     },
     "metadata": {},
     "output_type": "display_data"
    },
    {
     "data": {
      "text/html": [
       "<pre style=\"white-space:pre;overflow-x:auto;line-height:normal;font-family:Menlo,'DejaVu Sans Mono',consolas,'Courier New',monospace\"><span style=\"color: #000080; text-decoration-color: #000080\">Step [0] - 1 (Normal)</span>                                                                        \n",
       "</pre>\n"
      ],
      "text/plain": [
       "\u001b[34mStep [0] - 1 (Normal)\u001b[0m                                                                        \n"
      ]
     },
     "metadata": {},
     "output_type": "display_data"
    },
    {
     "data": {
      "text/html": [
       "<pre style=\"white-space:pre;overflow-x:auto;line-height:normal;font-family:Menlo,'DejaVu Sans Mono',consolas,'Courier New',monospace\">Sudoku(9,9) - [27 rls, 27 ria, 145 gts, 243 gia]                                             \n",
       "</pre>\n"
      ],
      "text/plain": [
       "Sudoku(9,9) - [27 rls, 27 ria, 145 gts, 243 gia]                                             \n"
      ]
     },
     "metadata": {},
     "output_type": "display_data"
    },
    {
     "data": {
      "text/html": [
       "<pre style=\"white-space:pre;overflow-x:auto;line-height:normal;font-family:Menlo,'DejaVu Sans Mono',consolas,'Courier New',monospace\">┏━━━┯━━━┯━━━┯━━━┯━━━┯━━━┯━━━┯━━━┯━━━┓                                                        \n",
       "┃14<span style=\"color: #ff0000; text-decoration-color: #ff0000\">7</span>│147│147│<span style=\"color: #ff0000; text-decoration-color: #ff0000\">147</span>│<span style=\"color: #ff0000; text-decoration-color: #ff0000\">14</span>7│<span style=\"color: #ff0000; text-decoration-color: #ff0000\">147</span>│<span style=\"color: #ff0000; text-decoration-color: #ff0000\">147</span>│   │   ┃                                                        \n",
       "┃<span style=\"color: #ff0000; text-decoration-color: #ff0000\">2</span>5<span style=\"color: #ff0000; text-decoration-color: #ff0000\">8</span>│<span style=\"color: #ff0000; text-decoration-color: #ff0000\">258</span>│<span style=\"color: #ff0000; text-decoration-color: #ff0000\">258</span>│<span style=\"color: #ff0000; text-decoration-color: #ff0000\">258</span>│<span style=\"color: #ff0000; text-decoration-color: #ff0000\">258</span>│<span style=\"color: #ff0000; text-decoration-color: #ff0000\">2</span><span style=\"color: #0000ff; text-decoration-color: #0000ff\">1</span><span style=\"color: #ff0000; text-decoration-color: #ff0000\">8</span>│<span style=\"color: #ff0000; text-decoration-color: #ff0000\">2</span><span style=\"color: #0000ff; text-decoration-color: #0000ff\">8</span><span style=\"color: #ff0000; text-decoration-color: #ff0000\">8</span>│ 9 │ 2 ┃                                                        \n",
       "┃<span style=\"color: #ff0000; text-decoration-color: #ff0000\">3</span>6<span style=\"color: #ff0000; text-decoration-color: #ff0000\">9</span>│36<span style=\"color: #ff0000; text-decoration-color: #ff0000\">9</span>│36<span style=\"color: #ff0000; text-decoration-color: #ff0000\">9</span>│36<span style=\"color: #ff0000; text-decoration-color: #ff0000\">9</span>│36<span style=\"color: #ff0000; text-decoration-color: #ff0000\">9</span>│<span style=\"color: #ff0000; text-decoration-color: #ff0000\">3</span><span style=\"color: #00ff00; text-decoration-color: #00ff00\">=</span><span style=\"color: #ff0000; text-decoration-color: #ff0000\">9</span>│<span style=\"color: #ff0000; text-decoration-color: #ff0000\">3</span><span style=\"color: #00ff00; text-decoration-color: #00ff00\">=</span><span style=\"color: #ff0000; text-decoration-color: #ff0000\">9</span>│ = │ = ┃                                                        \n",
       "┠───┼───┼───┼───┼───┼───┼───┼───┼───┨                                                        \n",
       "┃1<span style=\"color: #ff0000; text-decoration-color: #ff0000\">47</span>│1<span style=\"color: #ff0000; text-decoration-color: #ff0000\">4</span>7│<span style=\"color: #ff0000; text-decoration-color: #ff0000\">147</span>│<span style=\"color: #ff0000; text-decoration-color: #ff0000\">147</span>│   │   │<span style=\"color: #ff0000; text-decoration-color: #ff0000\">14</span>7│<span style=\"color: #ff0000; text-decoration-color: #ff0000\">147</span>│<span style=\"color: #ff0000; text-decoration-color: #ff0000\">14</span>7┃                                                        \n",
       "┃<span style=\"color: #ff0000; text-decoration-color: #ff0000\">2</span>5<span style=\"color: #ff0000; text-decoration-color: #ff0000\">8</span>│<span style=\"color: #ff0000; text-decoration-color: #ff0000\">258</span>│<span style=\"color: #ff0000; text-decoration-color: #ff0000\">2</span><span style=\"color: #0000ff; text-decoration-color: #0000ff\">2</span><span style=\"color: #ff0000; text-decoration-color: #ff0000\">8</span>│2<span style=\"color: #ff0000; text-decoration-color: #ff0000\">58</span>│ 8 │ 4 │<span style=\"color: #ff0000; text-decoration-color: #ff0000\">258</span>│<span style=\"color: #ff0000; text-decoration-color: #ff0000\">2</span>5<span style=\"color: #ff0000; text-decoration-color: #ff0000\">8</span>│<span style=\"color: #ff0000; text-decoration-color: #ff0000\">258</span>┃                                                        \n",
       "┃<span style=\"color: #ff0000; text-decoration-color: #ff0000\">3</span>69│369│<span style=\"color: #ff0000; text-decoration-color: #ff0000\">3</span><span style=\"color: #00ff00; text-decoration-color: #00ff00\">=</span><span style=\"color: #ff0000; text-decoration-color: #ff0000\">9</span>│369│ = │ = │36<span style=\"color: #ff0000; text-decoration-color: #ff0000\">9</span>│<span style=\"color: #ff0000; text-decoration-color: #ff0000\">3</span><span style=\"color: #00ff00; text-decoration-color: #00ff00\">=</span><span style=\"color: #ff0000; text-decoration-color: #ff0000\">9</span>│<span style=\"color: #ff0000; text-decoration-color: #ff0000\">3</span>6<span style=\"color: #ff0000; text-decoration-color: #ff0000\">9</span>┃                                                        \n",
       "┠───┼───┼───┼───┼───┼───┼───┼───┼───┨                                                        \n",
       "┃<span style=\"color: #ff0000; text-decoration-color: #ff0000\">1</span>4<span style=\"color: #ff0000; text-decoration-color: #ff0000\">7</span>│<span style=\"color: #ff0000; text-decoration-color: #ff0000\">1</span>47│   │<span style=\"color: #ff0000; text-decoration-color: #ff0000\">147</span>│   │<span style=\"color: #ff0000; text-decoration-color: #ff0000\">14</span>7│<span style=\"color: #ff0000; text-decoration-color: #ff0000\">14</span>7│<span style=\"color: #ff0000; text-decoration-color: #ff0000\">1</span>47│   ┃                                                        \n",
       "┃<span style=\"color: #ff0000; text-decoration-color: #ff0000\">258</span>│<span style=\"color: #ff0000; text-decoration-color: #ff0000\">258</span>│ 8 │2<span style=\"color: #ff0000; text-decoration-color: #ff0000\">58</span>│ 5 │2<span style=\"color: #ff0000; text-decoration-color: #ff0000\">58</span>│<span style=\"color: #ff0000; text-decoration-color: #ff0000\">258</span>│<span style=\"color: #ff0000; text-decoration-color: #ff0000\">258</span>│ 1 ┃                                                        \n",
       "┃<span style=\"color: #ff0000; text-decoration-color: #ff0000\">3</span>69│369│ = │369│ = │369│36<span style=\"color: #ff0000; text-decoration-color: #ff0000\">9</span>│3<span style=\"color: #ff0000; text-decoration-color: #ff0000\">69</span>│ = ┃                                                        \n",
       "┠───┼───┼───┼───┼───┼───┼───┼───┼───┨                                                        \n",
       "┃1<span style=\"color: #ff0000; text-decoration-color: #ff0000\">47</span>│1<span style=\"color: #ff0000; text-decoration-color: #ff0000\">4</span>7│1<span style=\"color: #ff0000; text-decoration-color: #ff0000\">4</span>7│<span style=\"color: #ff0000; text-decoration-color: #ff0000\">147</span>│   │<span style=\"color: #ff0000; text-decoration-color: #ff0000\">147</span>│1<span style=\"color: #ff0000; text-decoration-color: #ff0000\">4</span>7│1<span style=\"color: #ff0000; text-decoration-color: #ff0000\">4</span>7│<span style=\"color: #ff0000; text-decoration-color: #ff0000\">14</span>7┃                                                        \n",
       "┃<span style=\"color: #ff0000; text-decoration-color: #ff0000\">25</span>8│<span style=\"color: #ff0000; text-decoration-color: #ff0000\">25</span>8│<span style=\"color: #ff0000; text-decoration-color: #ff0000\">258</span>│2<span style=\"color: #ff0000; text-decoration-color: #ff0000\">58</span>│ 4 │<span style=\"color: #ff0000; text-decoration-color: #ff0000\">2</span>5<span style=\"color: #ff0000; text-decoration-color: #ff0000\">8</span>│2<span style=\"color: #ff0000; text-decoration-color: #ff0000\">5</span>8│2<span style=\"color: #ff0000; text-decoration-color: #ff0000\">5</span>8│<span style=\"color: #ff0000; text-decoration-color: #ff0000\">25</span>8┃                                                        \n",
       "┃<span style=\"color: #ff0000; text-decoration-color: #ff0000\">3</span>69│369│369│<span style=\"color: #ff0000; text-decoration-color: #ff0000\">36</span>9│ = │<span style=\"color: #ff0000; text-decoration-color: #ff0000\">3</span><span style=\"color: #00ff00; text-decoration-color: #00ff00\">=</span><span style=\"color: #ff0000; text-decoration-color: #ff0000\">9</span>│36<span style=\"color: #ff0000; text-decoration-color: #ff0000\">9</span>│3<span style=\"color: #ff0000; text-decoration-color: #ff0000\">69</span>│<span style=\"color: #ff0000; text-decoration-color: #ff0000\">3</span>6<span style=\"color: #ff0000; text-decoration-color: #ff0000\">9</span>┃                                                        \n",
       "┠───┼───┼───┼───┼───┼───┼───┼───┼───┨                                                        \n",
       "┃14<span style=\"color: #ff0000; text-decoration-color: #ff0000\">7</span>│   │   │<span style=\"color: #ff0000; text-decoration-color: #ff0000\">147</span>│<span style=\"color: #ff0000; text-decoration-color: #ff0000\">147</span>│<span style=\"color: #ff0000; text-decoration-color: #ff0000\">147</span>│   │147│<span style=\"color: #ff0000; text-decoration-color: #ff0000\">1</span>47┃                                                        \n",
       "┃<span style=\"color: #ff0000; text-decoration-color: #ff0000\">25</span>8│ 2 │ 5 │<span style=\"color: #ff0000; text-decoration-color: #ff0000\">25</span>8│<span style=\"color: #ff0000; text-decoration-color: #ff0000\">258</span>│<span style=\"color: #ff0000; text-decoration-color: #ff0000\">25</span>8│ 9 │<span style=\"color: #ff0000; text-decoration-color: #ff0000\">25</span>8│<span style=\"color: #ff0000; text-decoration-color: #ff0000\">25</span>8┃                                                        \n",
       "┃<span style=\"color: #ff0000; text-decoration-color: #ff0000\">3</span>6<span style=\"color: #ff0000; text-decoration-color: #ff0000\">9</span>│ = │ = │36<span style=\"color: #ff0000; text-decoration-color: #ff0000\">9</span>│36<span style=\"color: #ff0000; text-decoration-color: #ff0000\">9</span>│36<span style=\"color: #ff0000; text-decoration-color: #ff0000\">9</span>│ = │3<span style=\"color: #ff0000; text-decoration-color: #ff0000\">69</span>│<span style=\"color: #ff0000; text-decoration-color: #ff0000\">3</span>6<span style=\"color: #ff0000; text-decoration-color: #ff0000\">9</span>┃                                                        \n",
       "┠───┼───┼───┼───┼───┼───┼───┼───┼───┨                                                        \n",
       "┃<span style=\"color: #ff0000; text-decoration-color: #ff0000\">1</span>4<span style=\"color: #ff0000; text-decoration-color: #ff0000\">7</span>│<span style=\"color: #ff0000; text-decoration-color: #ff0000\">1</span>4<span style=\"color: #ff0000; text-decoration-color: #ff0000\">7</span>│<span style=\"color: #ff0000; text-decoration-color: #ff0000\">1</span>4<span style=\"color: #ff0000; text-decoration-color: #ff0000\">7</span>│   │   │<span style=\"color: #ff0000; text-decoration-color: #ff0000\">147</span>│   │<span style=\"color: #ff0000; text-decoration-color: #ff0000\">1</span>4<span style=\"color: #ff0000; text-decoration-color: #ff0000\">7</span>│<span style=\"color: #ff0000; text-decoration-color: #ff0000\">1</span>4<span style=\"color: #ff0000; text-decoration-color: #ff0000\">7</span>┃                                                        \n",
       "┃<span style=\"color: #ff0000; text-decoration-color: #ff0000\">25</span>8│<span style=\"color: #ff0000; text-decoration-color: #ff0000\">25</span>8│<span style=\"color: #ff0000; text-decoration-color: #ff0000\">258</span>│ 7 │ 1 │2<span style=\"color: #ff0000; text-decoration-color: #ff0000\">58</span>│ 5 │2<span style=\"color: #ff0000; text-decoration-color: #ff0000\">5</span>8│<span style=\"color: #ff0000; text-decoration-color: #ff0000\">25</span>8┃                                                        \n",
       "┃<span style=\"color: #ff0000; text-decoration-color: #ff0000\">3</span>69│369│369│ = │ = │<span style=\"color: #ff0000; text-decoration-color: #ff0000\">36</span>9│ = │3<span style=\"color: #ff0000; text-decoration-color: #ff0000\">69</span>│<span style=\"color: #ff0000; text-decoration-color: #ff0000\">3</span>6<span style=\"color: #ff0000; text-decoration-color: #ff0000\">9</span>┃                                                        \n",
       "┠───┼───┼───┼───┼───┼───┼───┼───┼───┨                                                        \n",
       "┃   │   │<span style=\"color: #ff0000; text-decoration-color: #ff0000\">147</span>│   │<span style=\"color: #ff0000; text-decoration-color: #ff0000\">147</span>│<span style=\"color: #ff0000; text-decoration-color: #ff0000\">147</span>│   │<span style=\"color: #ff0000; text-decoration-color: #ff0000\">147</span>│   ┃                                                        \n",
       "┃ 7 │ 5 │<span style=\"color: #ff0000; text-decoration-color: #ff0000\">258</span>│ 1 │2<span style=\"color: #ff0000; text-decoration-color: #ff0000\">58</span>│2<span style=\"color: #ff0000; text-decoration-color: #ff0000\">5</span>8│ 4 │2<span style=\"color: #ff0000; text-decoration-color: #ff0000\">5</span>8│ 3 ┃                                                        \n",
       "┃ = │ = │<span style=\"color: #ff0000; text-decoration-color: #ff0000\">3</span>69│ = │<span style=\"color: #ff0000; text-decoration-color: #ff0000\">3</span>69│<span style=\"color: #ff0000; text-decoration-color: #ff0000\">3</span>69│ = │<span style=\"color: #ff0000; text-decoration-color: #ff0000\">369</span>│ = ┃                                                        \n",
       "┠───┼───┼───┼───┼───┼───┼───┼───┼───┨                                                        \n",
       "┃   │14<span style=\"color: #ff0000; text-decoration-color: #ff0000\">7</span>│14<span style=\"color: #ff0000; text-decoration-color: #ff0000\">7</span>│   │<span style=\"color: #ff0000; text-decoration-color: #ff0000\">14</span>7│<span style=\"color: #ff0000; text-decoration-color: #ff0000\">14</span>7│1<span style=\"color: #ff0000; text-decoration-color: #ff0000\">4</span>7│1<span style=\"color: #ff0000; text-decoration-color: #ff0000\">4</span>7│   ┃                                                        \n",
       "┃ 3 │<span style=\"color: #ff0000; text-decoration-color: #ff0000\">25</span>8│<span style=\"color: #ff0000; text-decoration-color: #ff0000\">258</span>│ 5 │2<span style=\"color: #ff0000; text-decoration-color: #ff0000\">58</span>│2<span style=\"color: #ff0000; text-decoration-color: #ff0000\">5</span>8│2<span style=\"color: #ff0000; text-decoration-color: #ff0000\">5</span>8│2<span style=\"color: #ff0000; text-decoration-color: #ff0000\">5</span>8│ 9 ┃                                                        \n",
       "┃ = │<span style=\"color: #ff0000; text-decoration-color: #ff0000\">3</span>6<span style=\"color: #ff0000; text-decoration-color: #ff0000\">9</span>│<span style=\"color: #ff0000; text-decoration-color: #ff0000\">3</span>6<span style=\"color: #ff0000; text-decoration-color: #ff0000\">9</span>│ = │<span style=\"color: #ff0000; text-decoration-color: #ff0000\">3</span>6<span style=\"color: #ff0000; text-decoration-color: #ff0000\">9</span>│<span style=\"color: #ff0000; text-decoration-color: #ff0000\">3</span>6<span style=\"color: #ff0000; text-decoration-color: #ff0000\">9</span>│<span style=\"color: #ff0000; text-decoration-color: #ff0000\">369</span>│<span style=\"color: #ff0000; text-decoration-color: #ff0000\">369</span>│ = ┃                                                        \n",
       "┠───┼───┼───┼───┼───┼───┼───┼───┼───┨                                                        \n",
       "┃   │1<span style=\"color: #ff0000; text-decoration-color: #ff0000\">47</span>│1<span style=\"color: #ff0000; text-decoration-color: #ff0000\">47</span>│   │<span style=\"color: #ff0000; text-decoration-color: #ff0000\">14</span>7│<span style=\"color: #ff0000; text-decoration-color: #ff0000\">14</span>7│1<span style=\"color: #ff0000; text-decoration-color: #ff0000\">4</span>7│   │   ┃                                                        \n",
       "┃ 2 │<span style=\"color: #ff0000; text-decoration-color: #ff0000\">25</span>8│<span style=\"color: #ff0000; text-decoration-color: #ff0000\">258</span>│ 4 │<span style=\"color: #ff0000; text-decoration-color: #ff0000\">258</span>│<span style=\"color: #ff0000; text-decoration-color: #ff0000\">25</span>8│<span style=\"color: #ff0000; text-decoration-color: #ff0000\">25</span>8│ 6 │ 5 ┃                                                        \n",
       "┃ = │<span style=\"color: #ff0000; text-decoration-color: #ff0000\">36</span>9│<span style=\"color: #ff0000; text-decoration-color: #ff0000\">36</span>9│ = │3<span style=\"color: #ff0000; text-decoration-color: #ff0000\">6</span>9│3<span style=\"color: #ff0000; text-decoration-color: #ff0000\">6</span>9│<span style=\"color: #ff0000; text-decoration-color: #ff0000\">369</span>│ = │ = ┃                                                        \n",
       "┗━━━┷━━━┷━━━┷━━━┷━━━┷━━━┷━━━┷━━━┷━━━┛                                                        \n",
       "                                                                                             \n",
       "</pre>\n"
      ],
      "text/plain": [
       "┏━━━┯━━━┯━━━┯━━━┯━━━┯━━━┯━━━┯━━━┯━━━┓                                                        \n",
       "┃14\u001b[91m7\u001b[0m│147│147│\u001b[91m1\u001b[0m\u001b[91m4\u001b[0m\u001b[91m7\u001b[0m│\u001b[91m1\u001b[0m\u001b[91m4\u001b[0m7│\u001b[91m1\u001b[0m\u001b[91m4\u001b[0m\u001b[91m7\u001b[0m│\u001b[91m1\u001b[0m\u001b[91m4\u001b[0m\u001b[91m7\u001b[0m│   │   ┃                                                        \n",
       "┃\u001b[91m2\u001b[0m5\u001b[91m8\u001b[0m│\u001b[91m2\u001b[0m\u001b[91m5\u001b[0m\u001b[91m8\u001b[0m│\u001b[91m2\u001b[0m\u001b[91m5\u001b[0m\u001b[91m8\u001b[0m│\u001b[91m2\u001b[0m\u001b[91m5\u001b[0m\u001b[91m8\u001b[0m│\u001b[91m2\u001b[0m\u001b[91m5\u001b[0m\u001b[91m8\u001b[0m│\u001b[91m2\u001b[0m\u001b[94m1\u001b[0m\u001b[91m8\u001b[0m│\u001b[91m2\u001b[0m\u001b[94m8\u001b[0m\u001b[91m8\u001b[0m│ 9 │ 2 ┃                                                        \n",
       "┃\u001b[91m3\u001b[0m6\u001b[91m9\u001b[0m│36\u001b[91m9\u001b[0m│36\u001b[91m9\u001b[0m│36\u001b[91m9\u001b[0m│36\u001b[91m9\u001b[0m│\u001b[91m3\u001b[0m\u001b[92m=\u001b[0m\u001b[91m9\u001b[0m│\u001b[91m3\u001b[0m\u001b[92m=\u001b[0m\u001b[91m9\u001b[0m│ = │ = ┃                                                        \n",
       "┠───┼───┼───┼───┼───┼───┼───┼───┼───┨                                                        \n",
       "┃1\u001b[91m4\u001b[0m\u001b[91m7\u001b[0m│1\u001b[91m4\u001b[0m7│\u001b[91m1\u001b[0m\u001b[91m4\u001b[0m\u001b[91m7\u001b[0m│\u001b[91m1\u001b[0m\u001b[91m4\u001b[0m\u001b[91m7\u001b[0m│   │   │\u001b[91m1\u001b[0m\u001b[91m4\u001b[0m7│\u001b[91m1\u001b[0m\u001b[91m4\u001b[0m\u001b[91m7\u001b[0m│\u001b[91m1\u001b[0m\u001b[91m4\u001b[0m7┃                                                        \n",
       "┃\u001b[91m2\u001b[0m5\u001b[91m8\u001b[0m│\u001b[91m2\u001b[0m\u001b[91m5\u001b[0m\u001b[91m8\u001b[0m│\u001b[91m2\u001b[0m\u001b[94m2\u001b[0m\u001b[91m8\u001b[0m│2\u001b[91m5\u001b[0m\u001b[91m8\u001b[0m│ 8 │ 4 │\u001b[91m2\u001b[0m\u001b[91m5\u001b[0m\u001b[91m8\u001b[0m│\u001b[91m2\u001b[0m5\u001b[91m8\u001b[0m│\u001b[91m2\u001b[0m\u001b[91m5\u001b[0m\u001b[91m8\u001b[0m┃                                                        \n",
       "┃\u001b[91m3\u001b[0m69│369│\u001b[91m3\u001b[0m\u001b[92m=\u001b[0m\u001b[91m9\u001b[0m│369│ = │ = │36\u001b[91m9\u001b[0m│\u001b[91m3\u001b[0m\u001b[92m=\u001b[0m\u001b[91m9\u001b[0m│\u001b[91m3\u001b[0m6\u001b[91m9\u001b[0m┃                                                        \n",
       "┠───┼───┼───┼───┼───┼───┼───┼───┼───┨                                                        \n",
       "┃\u001b[91m1\u001b[0m4\u001b[91m7\u001b[0m│\u001b[91m1\u001b[0m47│   │\u001b[91m1\u001b[0m\u001b[91m4\u001b[0m\u001b[91m7\u001b[0m│   │\u001b[91m1\u001b[0m\u001b[91m4\u001b[0m7│\u001b[91m1\u001b[0m\u001b[91m4\u001b[0m7│\u001b[91m1\u001b[0m47│   ┃                                                        \n",
       "┃\u001b[91m2\u001b[0m\u001b[91m5\u001b[0m\u001b[91m8\u001b[0m│\u001b[91m2\u001b[0m\u001b[91m5\u001b[0m\u001b[91m8\u001b[0m│ 8 │2\u001b[91m5\u001b[0m\u001b[91m8\u001b[0m│ 5 │2\u001b[91m5\u001b[0m\u001b[91m8\u001b[0m│\u001b[91m2\u001b[0m\u001b[91m5\u001b[0m\u001b[91m8\u001b[0m│\u001b[91m2\u001b[0m\u001b[91m5\u001b[0m\u001b[91m8\u001b[0m│ 1 ┃                                                        \n",
       "┃\u001b[91m3\u001b[0m69│369│ = │369│ = │369│36\u001b[91m9\u001b[0m│3\u001b[91m6\u001b[0m\u001b[91m9\u001b[0m│ = ┃                                                        \n",
       "┠───┼───┼───┼───┼───┼───┼───┼───┼───┨                                                        \n",
       "┃1\u001b[91m4\u001b[0m\u001b[91m7\u001b[0m│1\u001b[91m4\u001b[0m7│1\u001b[91m4\u001b[0m7│\u001b[91m1\u001b[0m\u001b[91m4\u001b[0m\u001b[91m7\u001b[0m│   │\u001b[91m1\u001b[0m\u001b[91m4\u001b[0m\u001b[91m7\u001b[0m│1\u001b[91m4\u001b[0m7│1\u001b[91m4\u001b[0m7│\u001b[91m1\u001b[0m\u001b[91m4\u001b[0m7┃                                                        \n",
       "┃\u001b[91m2\u001b[0m\u001b[91m5\u001b[0m8│\u001b[91m2\u001b[0m\u001b[91m5\u001b[0m8│\u001b[91m2\u001b[0m\u001b[91m5\u001b[0m\u001b[91m8\u001b[0m│2\u001b[91m5\u001b[0m\u001b[91m8\u001b[0m│ 4 │\u001b[91m2\u001b[0m5\u001b[91m8\u001b[0m│2\u001b[91m5\u001b[0m8│2\u001b[91m5\u001b[0m8│\u001b[91m2\u001b[0m\u001b[91m5\u001b[0m8┃                                                        \n",
       "┃\u001b[91m3\u001b[0m69│369│369│\u001b[91m3\u001b[0m\u001b[91m6\u001b[0m9│ = │\u001b[91m3\u001b[0m\u001b[92m=\u001b[0m\u001b[91m9\u001b[0m│36\u001b[91m9\u001b[0m│3\u001b[91m6\u001b[0m\u001b[91m9\u001b[0m│\u001b[91m3\u001b[0m6\u001b[91m9\u001b[0m┃                                                        \n",
       "┠───┼───┼───┼───┼───┼───┼───┼───┼───┨                                                        \n",
       "┃14\u001b[91m7\u001b[0m│   │   │\u001b[91m1\u001b[0m\u001b[91m4\u001b[0m\u001b[91m7\u001b[0m│\u001b[91m1\u001b[0m\u001b[91m4\u001b[0m\u001b[91m7\u001b[0m│\u001b[91m1\u001b[0m\u001b[91m4\u001b[0m\u001b[91m7\u001b[0m│   │147│\u001b[91m1\u001b[0m47┃                                                        \n",
       "┃\u001b[91m2\u001b[0m\u001b[91m5\u001b[0m8│ 2 │ 5 │\u001b[91m2\u001b[0m\u001b[91m5\u001b[0m8│\u001b[91m2\u001b[0m\u001b[91m5\u001b[0m\u001b[91m8\u001b[0m│\u001b[91m2\u001b[0m\u001b[91m5\u001b[0m8│ 9 │\u001b[91m2\u001b[0m\u001b[91m5\u001b[0m8│\u001b[91m2\u001b[0m\u001b[91m5\u001b[0m8┃                                                        \n",
       "┃\u001b[91m3\u001b[0m6\u001b[91m9\u001b[0m│ = │ = │36\u001b[91m9\u001b[0m│36\u001b[91m9\u001b[0m│36\u001b[91m9\u001b[0m│ = │3\u001b[91m6\u001b[0m\u001b[91m9\u001b[0m│\u001b[91m3\u001b[0m6\u001b[91m9\u001b[0m┃                                                        \n",
       "┠───┼───┼───┼───┼───┼───┼───┼───┼───┨                                                        \n",
       "┃\u001b[91m1\u001b[0m4\u001b[91m7\u001b[0m│\u001b[91m1\u001b[0m4\u001b[91m7\u001b[0m│\u001b[91m1\u001b[0m4\u001b[91m7\u001b[0m│   │   │\u001b[91m1\u001b[0m\u001b[91m4\u001b[0m\u001b[91m7\u001b[0m│   │\u001b[91m1\u001b[0m4\u001b[91m7\u001b[0m│\u001b[91m1\u001b[0m4\u001b[91m7\u001b[0m┃                                                        \n",
       "┃\u001b[91m2\u001b[0m\u001b[91m5\u001b[0m8│\u001b[91m2\u001b[0m\u001b[91m5\u001b[0m8│\u001b[91m2\u001b[0m\u001b[91m5\u001b[0m\u001b[91m8\u001b[0m│ 7 │ 1 │2\u001b[91m5\u001b[0m\u001b[91m8\u001b[0m│ 5 │2\u001b[91m5\u001b[0m8│\u001b[91m2\u001b[0m\u001b[91m5\u001b[0m8┃                                                        \n",
       "┃\u001b[91m3\u001b[0m69│369│369│ = │ = │\u001b[91m3\u001b[0m\u001b[91m6\u001b[0m9│ = │3\u001b[91m6\u001b[0m\u001b[91m9\u001b[0m│\u001b[91m3\u001b[0m6\u001b[91m9\u001b[0m┃                                                        \n",
       "┠───┼───┼───┼───┼───┼───┼───┼───┼───┨                                                        \n",
       "┃   │   │\u001b[91m1\u001b[0m\u001b[91m4\u001b[0m\u001b[91m7\u001b[0m│   │\u001b[91m1\u001b[0m\u001b[91m4\u001b[0m\u001b[91m7\u001b[0m│\u001b[91m1\u001b[0m\u001b[91m4\u001b[0m\u001b[91m7\u001b[0m│   │\u001b[91m1\u001b[0m\u001b[91m4\u001b[0m\u001b[91m7\u001b[0m│   ┃                                                        \n",
       "┃ 7 │ 5 │\u001b[91m2\u001b[0m\u001b[91m5\u001b[0m\u001b[91m8\u001b[0m│ 1 │2\u001b[91m5\u001b[0m\u001b[91m8\u001b[0m│2\u001b[91m5\u001b[0m8│ 4 │2\u001b[91m5\u001b[0m8│ 3 ┃                                                        \n",
       "┃ = │ = │\u001b[91m3\u001b[0m69│ = │\u001b[91m3\u001b[0m69│\u001b[91m3\u001b[0m69│ = │\u001b[91m3\u001b[0m\u001b[91m6\u001b[0m\u001b[91m9\u001b[0m│ = ┃                                                        \n",
       "┠───┼───┼───┼───┼───┼───┼───┼───┼───┨                                                        \n",
       "┃   │14\u001b[91m7\u001b[0m│14\u001b[91m7\u001b[0m│   │\u001b[91m1\u001b[0m\u001b[91m4\u001b[0m7│\u001b[91m1\u001b[0m\u001b[91m4\u001b[0m7│1\u001b[91m4\u001b[0m7│1\u001b[91m4\u001b[0m7│   ┃                                                        \n",
       "┃ 3 │\u001b[91m2\u001b[0m\u001b[91m5\u001b[0m8│\u001b[91m2\u001b[0m\u001b[91m5\u001b[0m\u001b[91m8\u001b[0m│ 5 │2\u001b[91m5\u001b[0m\u001b[91m8\u001b[0m│2\u001b[91m5\u001b[0m8│2\u001b[91m5\u001b[0m8│2\u001b[91m5\u001b[0m8│ 9 ┃                                                        \n",
       "┃ = │\u001b[91m3\u001b[0m6\u001b[91m9\u001b[0m│\u001b[91m3\u001b[0m6\u001b[91m9\u001b[0m│ = │\u001b[91m3\u001b[0m6\u001b[91m9\u001b[0m│\u001b[91m3\u001b[0m6\u001b[91m9\u001b[0m│\u001b[91m3\u001b[0m\u001b[91m6\u001b[0m\u001b[91m9\u001b[0m│\u001b[91m3\u001b[0m\u001b[91m6\u001b[0m\u001b[91m9\u001b[0m│ = ┃                                                        \n",
       "┠───┼───┼───┼───┼───┼───┼───┼───┼───┨                                                        \n",
       "┃   │1\u001b[91m4\u001b[0m\u001b[91m7\u001b[0m│1\u001b[91m4\u001b[0m\u001b[91m7\u001b[0m│   │\u001b[91m1\u001b[0m\u001b[91m4\u001b[0m7│\u001b[91m1\u001b[0m\u001b[91m4\u001b[0m7│1\u001b[91m4\u001b[0m7│   │   ┃                                                        \n",
       "┃ 2 │\u001b[91m2\u001b[0m\u001b[91m5\u001b[0m8│\u001b[91m2\u001b[0m\u001b[91m5\u001b[0m\u001b[91m8\u001b[0m│ 4 │\u001b[91m2\u001b[0m\u001b[91m5\u001b[0m\u001b[91m8\u001b[0m│\u001b[91m2\u001b[0m\u001b[91m5\u001b[0m8│\u001b[91m2\u001b[0m\u001b[91m5\u001b[0m8│ 6 │ 5 ┃                                                        \n",
       "┃ = │\u001b[91m3\u001b[0m\u001b[91m6\u001b[0m9│\u001b[91m3\u001b[0m\u001b[91m6\u001b[0m9│ = │3\u001b[91m6\u001b[0m9│3\u001b[91m6\u001b[0m9│\u001b[91m3\u001b[0m\u001b[91m6\u001b[0m\u001b[91m9\u001b[0m│ = │ = ┃                                                        \n",
       "┗━━━┷━━━┷━━━┷━━━┷━━━┷━━━┷━━━┷━━━┷━━━┛                                                        \n",
       "                                                                                             \n"
      ]
     },
     "metadata": {},
     "output_type": "display_data"
    },
    {
     "data": {
      "text/html": [
       "<pre style=\"white-space:pre;overflow-x:auto;line-height:normal;font-family:Menlo,'DejaVu Sans Mono',consolas,'Courier New',monospace\"><span style=\"color: #000080; text-decoration-color: #000080\">Step [0] - 2 (Normal)</span>                                                                        \n",
       "</pre>\n"
      ],
      "text/plain": [
       "\u001b[34mStep [0] - 2 (Normal)\u001b[0m                                                                        \n"
      ]
     },
     "metadata": {},
     "output_type": "display_data"
    },
    {
     "data": {
      "text/html": [
       "<pre style=\"white-space:pre;overflow-x:auto;line-height:normal;font-family:Menlo,'DejaVu Sans Mono',consolas,'Courier New',monospace\">Sudoku(9,9) - [27 rls, 27 ria, 118 gts, 315 gia]                                             \n",
       "</pre>\n"
      ],
      "text/plain": [
       "Sudoku(9,9) - [27 rls, 27 ria, 118 gts, 315 gia]                                             \n"
      ]
     },
     "metadata": {},
     "output_type": "display_data"
    },
    {
     "data": {
      "text/html": [
       "<pre style=\"white-space:pre;overflow-x:auto;line-height:normal;font-family:Menlo,'DejaVu Sans Mono',consolas,'Courier New',monospace\">┏━━━┯━━━┯━━━┯━━━┯━━━┯━━━┯━━━┯━━━┯━━━┓                                                        \n",
       "┃14 │<span style=\"color: #ff0000; text-decoration-color: #ff0000\">1</span>47│<span style=\"color: #ff0000; text-decoration-color: #ff0000\">1</span>47│   │  <span style=\"color: #ff0000; text-decoration-color: #ff0000\">7</span>│   │   │   │   ┃                                                        \n",
       "┃ 5 │   │   │   │ <span style=\"color: #0000ff; text-decoration-color: #0000ff\">7</span> │ 1 │ 8 │ 9 │ 2 ┃                                                        \n",
       "┃ 6 │36 │36 │36 │<span style=\"color: #ff0000; text-decoration-color: #ff0000\">3</span><span style=\"color: #00ff00; text-decoration-color: #00ff00\">=</span> │ = │ = │ = │ = ┃                                                        \n",
       "┠───┼───┼───┼───┼───┼───┼───┼───┼───┨                                                        \n",
       "┃1  │1 7│   │   │   │   │  7│   │  7┃                                                        \n",
       "┃ <span style=\"color: #ff0000; text-decoration-color: #ff0000\">5</span> │   │ 2 │<span style=\"color: #ff0000; text-decoration-color: #ff0000\">2</span>  │ 8 │ 4 │   │ 5 │   ┃                                                        \n",
       "┃ 69│369│ = │369│ = │ = │36 │ = │ 6 ┃                                                        \n",
       "┠───┼───┼───┼───┼───┼───┼───┼───┼───┨                                                        \n",
       "┃ <span style=\"color: #ff0000; text-decoration-color: #ff0000\">4</span> │ <span style=\"color: #ff0000; text-decoration-color: #ff0000\">4</span>7│   │   │   │  <span style=\"color: #ff0000; text-decoration-color: #ff0000\">7</span>│  7│ 47│   ┃                                                        \n",
       "┃   │   │ 8 │2  │ 5 │2  │   │   │ 1 ┃                                                        \n",
       "┃ 69│369│ = │369│ = │<span style=\"color: #ff0000; text-decoration-color: #ff0000\">36</span>9│36 │3  │ = ┃                                                        \n",
       "┠───┼───┼───┼───┼───┼───┼───┼───┼───┨                                                        \n",
       "┃1  │1 7│1 7│   │   │   │1 <span style=\"color: #ff0000; text-decoration-color: #ff0000\">7</span>│1 <span style=\"color: #ff0000; text-decoration-color: #ff0000\">7</span>│  <span style=\"color: #ff0000; text-decoration-color: #ff0000\">7</span>┃                                                        \n",
       "┃  8│  <span style=\"color: #ff0000; text-decoration-color: #ff0000\">8</span>│   │2  │ 4 │ 5 │2 <span style=\"color: #ff0000; text-decoration-color: #ff0000\">8</span>│2 <span style=\"color: #ff0000; text-decoration-color: #ff0000\">8</span>│  8┃                                                        \n",
       "┃ 69│369│369│  9│ = │ = │<span style=\"color: #ff0000; text-decoration-color: #ff0000\">3</span>6 │3  │ 6 ┃                                                        \n",
       "┠───┼───┼───┼───┼───┼───┼───┼───┼───┨                                                        \n",
       "┃14 │   │   │   │   │   │   │1<span style=\"color: #ff0000; text-decoration-color: #ff0000\">4</span>7│ 47┃                                                        \n",
       "┃  <span style=\"color: #ff0000; text-decoration-color: #ff0000\">8</span>│ 2 │ 5 │  8│   │  <span style=\"color: #ff0000; text-decoration-color: #ff0000\">8</span>│ 9 │  <span style=\"color: #ff0000; text-decoration-color: #ff0000\">8</span>│  <span style=\"color: #ff0000; text-decoration-color: #ff0000\">8</span>┃                                                        \n",
       "┃ <span style=\"color: #ff0000; text-decoration-color: #ff0000\">6</span> │ = │ = │36 │36 │36 │ = │<span style=\"color: #ff0000; text-decoration-color: #ff0000\">3</span>  │ <span style=\"color: #ff0000; text-decoration-color: #ff0000\">6</span> ┃                                                        \n",
       "┠───┼───┼───┼───┼───┼───┼───┼───┼───┨                                                        \n",
       "┃ 4 │ 4 │ 4 │   │   │   │   │ <span style=\"color: #ff0000; text-decoration-color: #ff0000\">4</span> │ 4 ┃                                                        \n",
       "┃  8│  <span style=\"color: #ff0000; text-decoration-color: #ff0000\">8</span>│   │ 7 │ 1 │2  │ 5 │2 <span style=\"color: #ff0000; text-decoration-color: #ff0000\">8</span>│  8┃                                                        \n",
       "┃ 69│369│369│ = │ = │  9│ = │3  │ 6 ┃                                                        \n",
       "┠───┼───┼───┼───┼───┼───┼───┼───┼───┨                                                        \n",
       "┃   │   │   │   │   │   │   │   │   ┃                                                        \n",
       "┃ 7 │ 5 │   │ 1 │2  │<span style=\"color: #ff0000; text-decoration-color: #ff0000\">2</span> 8│ 4 │2 8│ 3 ┃                                                        \n",
       "┃ = │ = │ 69│ = │ 69│ 6<span style=\"color: #ff0000; text-decoration-color: #ff0000\">9</span>│ = │   │ = ┃                                                        \n",
       "┠───┼───┼───┼───┼───┼───┼───┼───┼───┨                                                        \n",
       "┃   │14 │14 │   │  7│  7│1 7│1 7│   ┃                                                        \n",
       "┃ 3 │  8│   │ 5 │2  │<span style=\"color: #ff0000; text-decoration-color: #ff0000\">2</span> 8│2 <span style=\"color: #ff0000; text-decoration-color: #ff0000\">8</span>│2 8│ 9 ┃                                                        \n",
       "┃ = │ 6 │ 6 │ = │ 6 │ 6 │   │   │ = ┃                                                        \n",
       "┠───┼───┼───┼───┼───┼───┼───┼───┼───┨                                                        \n",
       "┃   │1  │1  │   │  7│  7│1 7│   │   ┃                                                        \n",
       "┃ 2 │  8│   │ 4 │   │  8│  <span style=\"color: #ff0000; text-decoration-color: #ff0000\">8</span>│ 6 │ 5 ┃                                                        \n",
       "┃ = │  9│  9│ = │3 9│3 <span style=\"color: #ff0000; text-decoration-color: #ff0000\">9</span>│   │ = │ = ┃                                                        \n",
       "┗━━━┷━━━┷━━━┷━━━┷━━━┷━━━┷━━━┷━━━┷━━━┛                                                        \n",
       "                                                                                             \n",
       "</pre>\n"
      ],
      "text/plain": [
       "┏━━━┯━━━┯━━━┯━━━┯━━━┯━━━┯━━━┯━━━┯━━━┓                                                        \n",
       "┃14 │\u001b[91m1\u001b[0m47│\u001b[91m1\u001b[0m47│   │  \u001b[91m7\u001b[0m│   │   │   │   ┃                                                        \n",
       "┃ 5 │   │   │   │ \u001b[94m7\u001b[0m │ 1 │ 8 │ 9 │ 2 ┃                                                        \n",
       "┃ 6 │36 │36 │36 │\u001b[91m3\u001b[0m\u001b[92m=\u001b[0m │ = │ = │ = │ = ┃                                                        \n",
       "┠───┼───┼───┼───┼───┼───┼───┼───┼───┨                                                        \n",
       "┃1  │1 7│   │   │   │   │  7│   │  7┃                                                        \n",
       "┃ \u001b[91m5\u001b[0m │   │ 2 │\u001b[91m2\u001b[0m  │ 8 │ 4 │   │ 5 │   ┃                                                        \n",
       "┃ 69│369│ = │369│ = │ = │36 │ = │ 6 ┃                                                        \n",
       "┠───┼───┼───┼───┼───┼───┼───┼───┼───┨                                                        \n",
       "┃ \u001b[91m4\u001b[0m │ \u001b[91m4\u001b[0m7│   │   │   │  \u001b[91m7\u001b[0m│  7│ 47│   ┃                                                        \n",
       "┃   │   │ 8 │2  │ 5 │2  │   │   │ 1 ┃                                                        \n",
       "┃ 69│369│ = │369│ = │\u001b[91m3\u001b[0m\u001b[91m6\u001b[0m9│36 │3  │ = ┃                                                        \n",
       "┠───┼───┼───┼───┼───┼───┼───┼───┼───┨                                                        \n",
       "┃1  │1 7│1 7│   │   │   │1 \u001b[91m7\u001b[0m│1 \u001b[91m7\u001b[0m│  \u001b[91m7\u001b[0m┃                                                        \n",
       "┃  8│  \u001b[91m8\u001b[0m│   │2  │ 4 │ 5 │2 \u001b[91m8\u001b[0m│2 \u001b[91m8\u001b[0m│  8┃                                                        \n",
       "┃ 69│369│369│  9│ = │ = │\u001b[91m3\u001b[0m6 │3  │ 6 ┃                                                        \n",
       "┠───┼───┼───┼───┼───┼───┼───┼───┼───┨                                                        \n",
       "┃14 │   │   │   │   │   │   │1\u001b[91m4\u001b[0m7│ 47┃                                                        \n",
       "┃  \u001b[91m8\u001b[0m│ 2 │ 5 │  8│   │  \u001b[91m8\u001b[0m│ 9 │  \u001b[91m8\u001b[0m│  \u001b[91m8\u001b[0m┃                                                        \n",
       "┃ \u001b[91m6\u001b[0m │ = │ = │36 │36 │36 │ = │\u001b[91m3\u001b[0m  │ \u001b[91m6\u001b[0m ┃                                                        \n",
       "┠───┼───┼───┼───┼───┼───┼───┼───┼───┨                                                        \n",
       "┃ 4 │ 4 │ 4 │   │   │   │   │ \u001b[91m4\u001b[0m │ 4 ┃                                                        \n",
       "┃  8│  \u001b[91m8\u001b[0m│   │ 7 │ 1 │2  │ 5 │2 \u001b[91m8\u001b[0m│  8┃                                                        \n",
       "┃ 69│369│369│ = │ = │  9│ = │3  │ 6 ┃                                                        \n",
       "┠───┼───┼───┼───┼───┼───┼───┼───┼───┨                                                        \n",
       "┃   │   │   │   │   │   │   │   │   ┃                                                        \n",
       "┃ 7 │ 5 │   │ 1 │2  │\u001b[91m2\u001b[0m 8│ 4 │2 8│ 3 ┃                                                        \n",
       "┃ = │ = │ 69│ = │ 69│ 6\u001b[91m9\u001b[0m│ = │   │ = ┃                                                        \n",
       "┠───┼───┼───┼───┼───┼───┼───┼───┼───┨                                                        \n",
       "┃   │14 │14 │   │  7│  7│1 7│1 7│   ┃                                                        \n",
       "┃ 3 │  8│   │ 5 │2  │\u001b[91m2\u001b[0m 8│2 \u001b[91m8\u001b[0m│2 8│ 9 ┃                                                        \n",
       "┃ = │ 6 │ 6 │ = │ 6 │ 6 │   │   │ = ┃                                                        \n",
       "┠───┼───┼───┼───┼───┼───┼───┼───┼───┨                                                        \n",
       "┃   │1  │1  │   │  7│  7│1 7│   │   ┃                                                        \n",
       "┃ 2 │  8│   │ 4 │   │  8│  \u001b[91m8\u001b[0m│ 6 │ 5 ┃                                                        \n",
       "┃ = │  9│  9│ = │3 9│3 \u001b[91m9\u001b[0m│   │ = │ = ┃                                                        \n",
       "┗━━━┷━━━┷━━━┷━━━┷━━━┷━━━┷━━━┷━━━┷━━━┛                                                        \n",
       "                                                                                             \n"
      ]
     },
     "metadata": {},
     "output_type": "display_data"
    },
    {
     "data": {
      "text/html": [
       "<pre style=\"white-space:pre;overflow-x:auto;line-height:normal;font-family:Menlo,'DejaVu Sans Mono',consolas,'Courier New',monospace\"><span style=\"color: #000080; text-decoration-color: #000080\">Step [0] - 3 (Normal)</span>                                                                        \n",
       "</pre>\n"
      ],
      "text/plain": [
       "\u001b[34mStep [0] - 3 (Normal)\u001b[0m                                                                        \n"
      ]
     },
     "metadata": {},
     "output_type": "display_data"
    },
    {
     "data": {
      "text/html": [
       "<pre style=\"white-space:pre;overflow-x:auto;line-height:normal;font-family:Menlo,'DejaVu Sans Mono',consolas,'Courier New',monospace\">Sudoku(9,9) - [27 rls, 27 ria, 114 gts, 341 gia]                                             \n",
       "</pre>\n"
      ],
      "text/plain": [
       "Sudoku(9,9) - [27 rls, 27 ria, 114 gts, 341 gia]                                             \n"
      ]
     },
     "metadata": {},
     "output_type": "display_data"
    },
    {
     "data": {
      "text/html": [
       "<pre style=\"white-space:pre;overflow-x:auto;line-height:normal;font-family:Menlo,'DejaVu Sans Mono',consolas,'Courier New',monospace\">┏━━━┯━━━┯━━━┯━━━┯━━━┯━━━┯━━━┯━━━┯━━━┓                                                        \n",
       "┃14 │ 4<span style=\"color: #ff0000; text-decoration-color: #ff0000\">7</span>│ 4<span style=\"color: #ff0000; text-decoration-color: #ff0000\">7</span>│   │   │   │   │   │   ┃                                                        \n",
       "┃ 5 │   │   │   │ 7 │ 1 │ 8 │ 9 │ 2 ┃                                                        \n",
       "┃ 6 │36 │36 │36 │ = │ = │ = │ = │ = ┃                                                        \n",
       "┠───┼───┼───┼───┼───┼───┼───┼───┼───┨                                                        \n",
       "┃1  │1 7│   │   │   │   │  7│   │  7┃                                                        \n",
       "┃   │   │ 2 │   │ 8 │ 4 │   │ 5 │   ┃                                                        \n",
       "┃ 69│369│ = │369│ = │ = │36 │ = │ 6 ┃                                                        \n",
       "┠───┼───┼───┼───┼───┼───┼───┼───┼───┨                                                        \n",
       "┃   │  7│   │   │   │   │  7│ 47│   ┃                                                        \n",
       "┃   │   │ 8 │2  │ 5 │2  │   │   │ 1 ┃                                                        \n",
       "┃ 69│369│ = │369│ = │  9│36 │3  │ = ┃                                                        \n",
       "┠───┼───┼───┼───┼───┼───┼───┼───┼───┨                                                        \n",
       "┃1  │1 7│1 7│   │   │   │1  │1  │   ┃                                                        \n",
       "┃  8│   │   │2  │ 4 │ 5 │2  │2  │  8┃                                                        \n",
       "┃ 69│369│369│  9│ = │ = │ 6 │3  │ 6 ┃                                                        \n",
       "┠───┼───┼───┼───┼───┼───┼───┼───┼───┨                                                        \n",
       "┃14 │   │   │   │   │   │   │1 7│ 47┃                                                        \n",
       "┃   │ 2 │ 5 │  8│   │   │ 9 │   │   ┃                                                        \n",
       "┃   │ = │ = │36 │36 │36 │ = │   │   ┃                                                        \n",
       "┠───┼───┼───┼───┼───┼───┼───┼───┼───┨                                                        \n",
       "┃ 4 │ <span style=\"color: #ff0000; text-decoration-color: #ff0000\">4</span> │ <span style=\"color: #ff0000; text-decoration-color: #ff0000\">4</span> │   │   │   │   │   │ 4 ┃                                                        \n",
       "┃  8│   │   │ 7 │ 1 │2  │ 5 │2  │  8┃                                                        \n",
       "┃ <span style=\"color: #ff0000; text-decoration-color: #ff0000\">69</span>│369│369│ = │ = │  9│ = │3  │ <span style=\"color: #ff0000; text-decoration-color: #ff0000\">6</span> ┃                                                        \n",
       "┠───┼───┼───┼───┼───┼───┼───┼───┼───┨                                                        \n",
       "┃   │   │   │   │   │   │   │   │   ┃                                                        \n",
       "┃ 7 │ 5 │   │ 1 │2  │  8│ 4 │2 8│ 3 ┃                                                        \n",
       "┃ = │ = │ 69│ = │ 69│ 6 │ = │   │ = ┃                                                        \n",
       "┠───┼───┼───┼───┼───┼───┼───┼───┼───┨                                                        \n",
       "┃   │14 │14 │   │  <span style=\"color: #ff0000; text-decoration-color: #ff0000\">7</span>│  7│1 7│1 7│   ┃                                                        \n",
       "┃ 3 │  8│   │ 5 │2  │  8│2  │2 8│ 9 ┃                                                        \n",
       "┃ = │ 6 │ 6 │ = │ 6 │ 6 │   │   │ = ┃                                                        \n",
       "┠───┼───┼───┼───┼───┼───┼───┼───┼───┨                                                        \n",
       "┃   │1  │1  │   │  <span style=\"color: #ff0000; text-decoration-color: #ff0000\">7</span>│  7│1 7│   │   ┃                                                        \n",
       "┃ 2 │  8│   │ 4 │   │  8│   │ 6 │ 5 ┃                                                        \n",
       "┃ = │  9│  9│ = │3 9│3  │   │ = │ = ┃                                                        \n",
       "┗━━━┷━━━┷━━━┷━━━┷━━━┷━━━┷━━━┷━━━┷━━━┛                                                        \n",
       "                                                                                             \n",
       "</pre>\n"
      ],
      "text/plain": [
       "┏━━━┯━━━┯━━━┯━━━┯━━━┯━━━┯━━━┯━━━┯━━━┓                                                        \n",
       "┃14 │ 4\u001b[91m7\u001b[0m│ 4\u001b[91m7\u001b[0m│   │   │   │   │   │   ┃                                                        \n",
       "┃ 5 │   │   │   │ 7 │ 1 │ 8 │ 9 │ 2 ┃                                                        \n",
       "┃ 6 │36 │36 │36 │ = │ = │ = │ = │ = ┃                                                        \n",
       "┠───┼───┼───┼───┼───┼───┼───┼───┼───┨                                                        \n",
       "┃1  │1 7│   │   │   │   │  7│   │  7┃                                                        \n",
       "┃   │   │ 2 │   │ 8 │ 4 │   │ 5 │   ┃                                                        \n",
       "┃ 69│369│ = │369│ = │ = │36 │ = │ 6 ┃                                                        \n",
       "┠───┼───┼───┼───┼───┼───┼───┼───┼───┨                                                        \n",
       "┃   │  7│   │   │   │   │  7│ 47│   ┃                                                        \n",
       "┃   │   │ 8 │2  │ 5 │2  │   │   │ 1 ┃                                                        \n",
       "┃ 69│369│ = │369│ = │  9│36 │3  │ = ┃                                                        \n",
       "┠───┼───┼───┼───┼───┼───┼───┼───┼───┨                                                        \n",
       "┃1  │1 7│1 7│   │   │   │1  │1  │   ┃                                                        \n",
       "┃  8│   │   │2  │ 4 │ 5 │2  │2  │  8┃                                                        \n",
       "┃ 69│369│369│  9│ = │ = │ 6 │3  │ 6 ┃                                                        \n",
       "┠───┼───┼───┼───┼───┼───┼───┼───┼───┨                                                        \n",
       "┃14 │   │   │   │   │   │   │1 7│ 47┃                                                        \n",
       "┃   │ 2 │ 5 │  8│   │   │ 9 │   │   ┃                                                        \n",
       "┃   │ = │ = │36 │36 │36 │ = │   │   ┃                                                        \n",
       "┠───┼───┼───┼───┼───┼───┼───┼───┼───┨                                                        \n",
       "┃ 4 │ \u001b[91m4\u001b[0m │ \u001b[91m4\u001b[0m │   │   │   │   │   │ 4 ┃                                                        \n",
       "┃  8│   │   │ 7 │ 1 │2  │ 5 │2  │  8┃                                                        \n",
       "┃ \u001b[91m6\u001b[0m\u001b[91m9\u001b[0m│369│369│ = │ = │  9│ = │3  │ \u001b[91m6\u001b[0m ┃                                                        \n",
       "┠───┼───┼───┼───┼───┼───┼───┼───┼───┨                                                        \n",
       "┃   │   │   │   │   │   │   │   │   ┃                                                        \n",
       "┃ 7 │ 5 │   │ 1 │2  │  8│ 4 │2 8│ 3 ┃                                                        \n",
       "┃ = │ = │ 69│ = │ 69│ 6 │ = │   │ = ┃                                                        \n",
       "┠───┼───┼───┼───┼───┼───┼───┼───┼───┨                                                        \n",
       "┃   │14 │14 │   │  \u001b[91m7\u001b[0m│  7│1 7│1 7│   ┃                                                        \n",
       "┃ 3 │  8│   │ 5 │2  │  8│2  │2 8│ 9 ┃                                                        \n",
       "┃ = │ 6 │ 6 │ = │ 6 │ 6 │   │   │ = ┃                                                        \n",
       "┠───┼───┼───┼───┼───┼───┼───┼───┼───┨                                                        \n",
       "┃   │1  │1  │   │  \u001b[91m7\u001b[0m│  7│1 7│   │   ┃                                                        \n",
       "┃ 2 │  8│   │ 4 │   │  8│   │ 6 │ 5 ┃                                                        \n",
       "┃ = │  9│  9│ = │3 9│3  │   │ = │ = ┃                                                        \n",
       "┗━━━┷━━━┷━━━┷━━━┷━━━┷━━━┷━━━┷━━━┷━━━┛                                                        \n",
       "                                                                                             \n"
      ]
     },
     "metadata": {},
     "output_type": "display_data"
    },
    {
     "data": {
      "text/html": [
       "<pre style=\"white-space:pre;overflow-x:auto;line-height:normal;font-family:Menlo,'DejaVu Sans Mono',consolas,'Courier New',monospace\"><span style=\"color: #000080; text-decoration-color: #000080\">Step [0] - 4 (Normal)</span>                                                                        \n",
       "</pre>\n"
      ],
      "text/plain": [
       "\u001b[34mStep [0] - 4 (Normal)\u001b[0m                                                                        \n"
      ]
     },
     "metadata": {},
     "output_type": "display_data"
    },
    {
     "data": {
      "text/html": [
       "<pre style=\"white-space:pre;overflow-x:auto;line-height:normal;font-family:Menlo,'DejaVu Sans Mono',consolas,'Courier New',monospace\">Sudoku(9,9) - [27 rls, 27 ria, 110 gts, 350 gia]                                             \n",
       "</pre>\n"
      ],
      "text/plain": [
       "Sudoku(9,9) - [27 rls, 27 ria, 110 gts, 350 gia]                                             \n"
      ]
     },
     "metadata": {},
     "output_type": "display_data"
    },
    {
     "data": {
      "text/html": [
       "<pre style=\"white-space:pre;overflow-x:auto;line-height:normal;font-family:Menlo,'DejaVu Sans Mono',consolas,'Courier New',monospace\">┏━━━┯━━━┯━━━┯━━━┯━━━┯━━━┯━━━┯━━━┯━━━┓                                                        \n",
       "┃14 │ 4 │ 4 │   │   │   │   │   │   ┃                                                        \n",
       "┃ 5 │   │   │   │ 7 │ 1 │ 8 │ 9 │ 2 ┃                                                        \n",
       "┃ 6 │36 │36 │36 │ = │ = │ = │ = │ = ┃                                                        \n",
       "┠───┼───┼───┼───┼───┼───┼───┼───┼───┨                                                        \n",
       "┃1  │1 7│   │   │   │   │  7│   │  7┃                                                        \n",
       "┃   │   │ 2 │   │ 8 │ 4 │   │ 5 │   ┃                                                        \n",
       "┃ 69│369│ = │369│ = │ = │36 │ = │ 6 ┃                                                        \n",
       "┠───┼───┼───┼───┼───┼───┼───┼───┼───┨                                                        \n",
       "┃   │  7│   │   │   │   │  7│ 47│   ┃                                                        \n",
       "┃   │   │ 8 │2  │ 5 │2  │   │   │ 1 ┃                                                        \n",
       "┃ 69│369│ = │369│ = │  9│36 │3  │ = ┃                                                        \n",
       "┠───┼───┼───┼───┼───┼───┼───┼───┼───┨                                                        \n",
       "┃1  │1 <span style=\"color: #ff0000; text-decoration-color: #ff0000\">7</span>│1 7│   │   │   │1  │1  │   ┃                                                        \n",
       "┃  8│   │   │2  │ 4 │ 5 │2  │2  │  8┃                                                        \n",
       "┃ <span style=\"color: #ff0000; text-decoration-color: #ff0000\">6</span>9│3<span style=\"color: #ff0000; text-decoration-color: #ff0000\">6</span>9│369│  9│ = │ = │ 6 │3  │ 6 ┃                                                        \n",
       "┠───┼───┼───┼───┼───┼───┼───┼───┼───┨                                                        \n",
       "┃14 │   │   │   │   │   │   │1 7│ 47┃                                                        \n",
       "┃   │ 2 │ 5 │  8│   │   │ 9 │   │   ┃                                                        \n",
       "┃   │ = │ = │36 │36 │36 │ = │   │   ┃                                                        \n",
       "┠───┼───┼───┼───┼───┼───┼───┼───┼───┨                                                        \n",
       "┃ 4 │   │   │   │   │   │   │   │ 4 ┃                                                        \n",
       "┃  8│   │   │ 7 │ 1 │2  │ 5 │2  │  8┃                                                        \n",
       "┃   │369│369│ = │ = │  9│ = │3  │   ┃                                                        \n",
       "┠───┼───┼───┼───┼───┼───┼───┼───┼───┨                                                        \n",
       "┃   │   │   │   │   │   │   │   │   ┃                                                        \n",
       "┃ 7 │ 5 │   │ 1 │2  │  8│ 4 │2 8│ 3 ┃                                                        \n",
       "┃ = │ = │ 69│ = │ 69│ 6 │ = │   │ = ┃                                                        \n",
       "┠───┼───┼───┼───┼───┼───┼───┼───┼───┨                                                        \n",
       "┃   │14 │14 │   │   │  7│1 7│1 7│   ┃                                                        \n",
       "┃ 3 │  8│   │ 5 │2  │  8│2  │2 8│ 9 ┃                                                        \n",
       "┃ = │ 6 │ 6 │ = │ 6 │ 6 │   │   │ = ┃                                                        \n",
       "┠───┼───┼───┼───┼───┼───┼───┼───┼───┨                                                        \n",
       "┃   │1  │1  │   │   │  7│1 7│   │   ┃                                                        \n",
       "┃ 2 │  8│   │ 4 │   │  8│   │ 6 │ 5 ┃                                                        \n",
       "┃ = │  9│  9│ = │3 9│3  │   │ = │ = ┃                                                        \n",
       "┗━━━┷━━━┷━━━┷━━━┷━━━┷━━━┷━━━┷━━━┷━━━┛                                                        \n",
       "                                                                                             \n",
       "</pre>\n"
      ],
      "text/plain": [
       "┏━━━┯━━━┯━━━┯━━━┯━━━┯━━━┯━━━┯━━━┯━━━┓                                                        \n",
       "┃14 │ 4 │ 4 │   │   │   │   │   │   ┃                                                        \n",
       "┃ 5 │   │   │   │ 7 │ 1 │ 8 │ 9 │ 2 ┃                                                        \n",
       "┃ 6 │36 │36 │36 │ = │ = │ = │ = │ = ┃                                                        \n",
       "┠───┼───┼───┼───┼───┼───┼───┼───┼───┨                                                        \n",
       "┃1  │1 7│   │   │   │   │  7│   │  7┃                                                        \n",
       "┃   │   │ 2 │   │ 8 │ 4 │   │ 5 │   ┃                                                        \n",
       "┃ 69│369│ = │369│ = │ = │36 │ = │ 6 ┃                                                        \n",
       "┠───┼───┼───┼───┼───┼───┼───┼───┼───┨                                                        \n",
       "┃   │  7│   │   │   │   │  7│ 47│   ┃                                                        \n",
       "┃   │   │ 8 │2  │ 5 │2  │   │   │ 1 ┃                                                        \n",
       "┃ 69│369│ = │369│ = │  9│36 │3  │ = ┃                                                        \n",
       "┠───┼───┼───┼───┼───┼───┼───┼───┼───┨                                                        \n",
       "┃1  │1 \u001b[91m7\u001b[0m│1 7│   │   │   │1  │1  │   ┃                                                        \n",
       "┃  8│   │   │2  │ 4 │ 5 │2  │2  │  8┃                                                        \n",
       "┃ \u001b[91m6\u001b[0m9│3\u001b[91m6\u001b[0m9│369│  9│ = │ = │ 6 │3  │ 6 ┃                                                        \n",
       "┠───┼───┼───┼───┼───┼───┼───┼───┼───┨                                                        \n",
       "┃14 │   │   │   │   │   │   │1 7│ 47┃                                                        \n",
       "┃   │ 2 │ 5 │  8│   │   │ 9 │   │   ┃                                                        \n",
       "┃   │ = │ = │36 │36 │36 │ = │   │   ┃                                                        \n",
       "┠───┼───┼───┼───┼───┼───┼───┼───┼───┨                                                        \n",
       "┃ 4 │   │   │   │   │   │   │   │ 4 ┃                                                        \n",
       "┃  8│   │   │ 7 │ 1 │2  │ 5 │2  │  8┃                                                        \n",
       "┃   │369│369│ = │ = │  9│ = │3  │   ┃                                                        \n",
       "┠───┼───┼───┼───┼───┼───┼───┼───┼───┨                                                        \n",
       "┃   │   │   │   │   │   │   │   │   ┃                                                        \n",
       "┃ 7 │ 5 │   │ 1 │2  │  8│ 4 │2 8│ 3 ┃                                                        \n",
       "┃ = │ = │ 69│ = │ 69│ 6 │ = │   │ = ┃                                                        \n",
       "┠───┼───┼───┼───┼───┼───┼───┼───┼───┨                                                        \n",
       "┃   │14 │14 │   │   │  7│1 7│1 7│   ┃                                                        \n",
       "┃ 3 │  8│   │ 5 │2  │  8│2  │2 8│ 9 ┃                                                        \n",
       "┃ = │ 6 │ 6 │ = │ 6 │ 6 │   │   │ = ┃                                                        \n",
       "┠───┼───┼───┼───┼───┼───┼───┼───┼───┨                                                        \n",
       "┃   │1  │1  │   │   │  7│1 7│   │   ┃                                                        \n",
       "┃ 2 │  8│   │ 4 │   │  8│   │ 6 │ 5 ┃                                                        \n",
       "┃ = │  9│  9│ = │3 9│3  │   │ = │ = ┃                                                        \n",
       "┗━━━┷━━━┷━━━┷━━━┷━━━┷━━━┷━━━┷━━━┷━━━┛                                                        \n",
       "                                                                                             \n"
      ]
     },
     "metadata": {},
     "output_type": "display_data"
    },
    {
     "data": {
      "text/html": [
       "<pre style=\"white-space:pre;overflow-x:auto;line-height:normal;font-family:Menlo,'DejaVu Sans Mono',consolas,'Courier New',monospace\"><span style=\"color: #000080; text-decoration-color: #000080\">Step [0] - 5 (Normal)</span>                                                                        \n",
       "</pre>\n"
      ],
      "text/plain": [
       "\u001b[34mStep [0] - 5 (Normal)\u001b[0m                                                                        \n"
      ]
     },
     "metadata": {},
     "output_type": "display_data"
    },
    {
     "data": {
      "text/html": [
       "<pre style=\"white-space:pre;overflow-x:auto;line-height:normal;font-family:Menlo,'DejaVu Sans Mono',consolas,'Courier New',monospace\">Sudoku(9,9) - [27 rls, 27 ria, 107 gts, 360 gia]                                             \n",
       "</pre>\n"
      ],
      "text/plain": [
       "Sudoku(9,9) - [27 rls, 27 ria, 107 gts, 360 gia]                                             \n"
      ]
     },
     "metadata": {},
     "output_type": "display_data"
    },
    {
     "data": {
      "text/html": [
       "<pre style=\"white-space:pre;overflow-x:auto;line-height:normal;font-family:Menlo,'DejaVu Sans Mono',consolas,'Courier New',monospace\">┏━━━┯━━━┯━━━┯━━━┯━━━┯━━━┯━━━┯━━━┯━━━┓                                                        \n",
       "┃14 │ 4 │ 4 │   │   │   │   │   │   ┃                                                        \n",
       "┃ 5 │   │   │   │ 7 │ 1 │ 8 │ 9 │ 2 ┃                                                        \n",
       "┃ 6 │3<span style=\"color: #ff0000; text-decoration-color: #ff0000\">6</span> │3<span style=\"color: #ff0000; text-decoration-color: #ff0000\">6</span> │36 │ = │ = │ = │ = │ = ┃                                                        \n",
       "┠───┼───┼───┼───┼───┼───┼───┼───┼───┨                                                        \n",
       "┃1  │1 7│   │   │   │   │  7│   │  7┃                                                        \n",
       "┃   │   │ 2 │   │ 8 │ 4 │   │ 5 │   ┃                                                        \n",
       "┃ 69│3<span style=\"color: #ff0000; text-decoration-color: #ff0000\">6</span>9│ = │369│ = │ = │36 │ = │ 6 ┃                                                        \n",
       "┠───┼───┼───┼───┼───┼───┼───┼───┼───┨                                                        \n",
       "┃   │  7│   │   │   │   │  7│ 47│   ┃                                                        \n",
       "┃   │   │ 8 │2  │ 5 │2  │   │   │ 1 ┃                                                        \n",
       "┃ 69│3<span style=\"color: #ff0000; text-decoration-color: #ff0000\">6</span>9│ = │369│ = │  9│36 │3  │ = ┃                                                        \n",
       "┠───┼───┼───┼───┼───┼───┼───┼───┼───┨                                                        \n",
       "┃1  │1  │1 7│   │   │   │1  │1  │   ┃                                                        \n",
       "┃  8│   │   │2  │ 4 │ 5 │2  │2  │  8┃                                                        \n",
       "┃  9│3 9│369│  9│ = │ = │ 6 │3  │ 6 ┃                                                        \n",
       "┠───┼───┼───┼───┼───┼───┼───┼───┼───┨                                                        \n",
       "┃14 │   │   │   │   │   │   │1 7│ 47┃                                                        \n",
       "┃   │ 2 │ 5 │  8│   │   │ 9 │   │   ┃                                                        \n",
       "┃   │ = │ = │36 │36 │36 │ = │   │   ┃                                                        \n",
       "┠───┼───┼───┼───┼───┼───┼───┼───┼───┨                                                        \n",
       "┃ 4 │   │   │   │   │   │   │   │ 4 ┃                                                        \n",
       "┃  8│   │   │ 7 │ 1 │2  │ 5 │2  │  8┃                                                        \n",
       "┃   │369│369│ = │ = │  9│ = │3  │   ┃                                                        \n",
       "┠───┼───┼───┼───┼───┼───┼───┼───┼───┨                                                        \n",
       "┃   │   │   │   │   │   │   │   │   ┃                                                        \n",
       "┃ 7 │ 5 │   │ 1 │2  │  8│ 4 │2 8│ 3 ┃                                                        \n",
       "┃ = │ = │ 69│ = │ 69│ 6 │ = │   │ = ┃                                                        \n",
       "┠───┼───┼───┼───┼───┼───┼───┼───┼───┨                                                        \n",
       "┃   │<span style=\"color: #ff0000; text-decoration-color: #ff0000\">1</span>4 │14 │   │   │  7│1 7│1 7│   ┃                                                        \n",
       "┃ 3 │  8│   │ 5 │2  │  8│2  │2 8│ 9 ┃                                                        \n",
       "┃ = │ 6 │ 6 │ = │ 6 │ 6 │   │   │ = ┃                                                        \n",
       "┠───┼───┼───┼───┼───┼───┼───┼───┼───┨                                                        \n",
       "┃   │<span style=\"color: #ff0000; text-decoration-color: #ff0000\">1</span>  │1  │   │   │  7│1 7│   │   ┃                                                        \n",
       "┃ 2 │  8│   │ 4 │   │  8│   │ 6 │ 5 ┃                                                        \n",
       "┃ = │  9│  9│ = │3 9│3  │   │ = │ = ┃                                                        \n",
       "┗━━━┷━━━┷━━━┷━━━┷━━━┷━━━┷━━━┷━━━┷━━━┛                                                        \n",
       "                                                                                             \n",
       "</pre>\n"
      ],
      "text/plain": [
       "┏━━━┯━━━┯━━━┯━━━┯━━━┯━━━┯━━━┯━━━┯━━━┓                                                        \n",
       "┃14 │ 4 │ 4 │   │   │   │   │   │   ┃                                                        \n",
       "┃ 5 │   │   │   │ 7 │ 1 │ 8 │ 9 │ 2 ┃                                                        \n",
       "┃ 6 │3\u001b[91m6\u001b[0m │3\u001b[91m6\u001b[0m │36 │ = │ = │ = │ = │ = ┃                                                        \n",
       "┠───┼───┼───┼───┼───┼───┼───┼───┼───┨                                                        \n",
       "┃1  │1 7│   │   │   │   │  7│   │  7┃                                                        \n",
       "┃   │   │ 2 │   │ 8 │ 4 │   │ 5 │   ┃                                                        \n",
       "┃ 69│3\u001b[91m6\u001b[0m9│ = │369│ = │ = │36 │ = │ 6 ┃                                                        \n",
       "┠───┼───┼───┼───┼───┼───┼───┼───┼───┨                                                        \n",
       "┃   │  7│   │   │   │   │  7│ 47│   ┃                                                        \n",
       "┃   │   │ 8 │2  │ 5 │2  │   │   │ 1 ┃                                                        \n",
       "┃ 69│3\u001b[91m6\u001b[0m9│ = │369│ = │  9│36 │3  │ = ┃                                                        \n",
       "┠───┼───┼───┼───┼───┼───┼───┼───┼───┨                                                        \n",
       "┃1  │1  │1 7│   │   │   │1  │1  │   ┃                                                        \n",
       "┃  8│   │   │2  │ 4 │ 5 │2  │2  │  8┃                                                        \n",
       "┃  9│3 9│369│  9│ = │ = │ 6 │3  │ 6 ┃                                                        \n",
       "┠───┼───┼───┼───┼───┼───┼───┼───┼───┨                                                        \n",
       "┃14 │   │   │   │   │   │   │1 7│ 47┃                                                        \n",
       "┃   │ 2 │ 5 │  8│   │   │ 9 │   │   ┃                                                        \n",
       "┃   │ = │ = │36 │36 │36 │ = │   │   ┃                                                        \n",
       "┠───┼───┼───┼───┼───┼───┼───┼───┼───┨                                                        \n",
       "┃ 4 │   │   │   │   │   │   │   │ 4 ┃                                                        \n",
       "┃  8│   │   │ 7 │ 1 │2  │ 5 │2  │  8┃                                                        \n",
       "┃   │369│369│ = │ = │  9│ = │3  │   ┃                                                        \n",
       "┠───┼───┼───┼───┼───┼───┼───┼───┼───┨                                                        \n",
       "┃   │   │   │   │   │   │   │   │   ┃                                                        \n",
       "┃ 7 │ 5 │   │ 1 │2  │  8│ 4 │2 8│ 3 ┃                                                        \n",
       "┃ = │ = │ 69│ = │ 69│ 6 │ = │   │ = ┃                                                        \n",
       "┠───┼───┼───┼───┼───┼───┼───┼───┼───┨                                                        \n",
       "┃   │\u001b[91m1\u001b[0m4 │14 │   │   │  7│1 7│1 7│   ┃                                                        \n",
       "┃ 3 │  8│   │ 5 │2  │  8│2  │2 8│ 9 ┃                                                        \n",
       "┃ = │ 6 │ 6 │ = │ 6 │ 6 │   │   │ = ┃                                                        \n",
       "┠───┼───┼───┼───┼───┼───┼───┼───┼───┨                                                        \n",
       "┃   │\u001b[91m1\u001b[0m  │1  │   │   │  7│1 7│   │   ┃                                                        \n",
       "┃ 2 │  8│   │ 4 │   │  8│   │ 6 │ 5 ┃                                                        \n",
       "┃ = │  9│  9│ = │3 9│3  │   │ = │ = ┃                                                        \n",
       "┗━━━┷━━━┷━━━┷━━━┷━━━┷━━━┷━━━┷━━━┷━━━┛                                                        \n",
       "                                                                                             \n"
      ]
     },
     "metadata": {},
     "output_type": "display_data"
    },
    {
     "data": {
      "text/html": [
       "<pre style=\"white-space:pre;overflow-x:auto;line-height:normal;font-family:Menlo,'DejaVu Sans Mono',consolas,'Courier New',monospace\"><span style=\"color: #000080; text-decoration-color: #000080\">Step [0] - 6 (Normal)</span>                                                                        \n",
       "</pre>\n"
      ],
      "text/plain": [
       "\u001b[34mStep [0] - 6 (Normal)\u001b[0m                                                                        \n"
      ]
     },
     "metadata": {},
     "output_type": "display_data"
    },
    {
     "data": {
      "text/html": [
       "<pre style=\"white-space:pre;overflow-x:auto;line-height:normal;font-family:Menlo,'DejaVu Sans Mono',consolas,'Courier New',monospace\">Sudoku(9,9) - [27 rls, 27 ria, 105 gts, 369 gia]                                             \n",
       "</pre>\n"
      ],
      "text/plain": [
       "Sudoku(9,9) - [27 rls, 27 ria, 105 gts, 369 gia]                                             \n"
      ]
     },
     "metadata": {},
     "output_type": "display_data"
    },
    {
     "data": {
      "text/html": [
       "<pre style=\"white-space:pre;overflow-x:auto;line-height:normal;font-family:Menlo,'DejaVu Sans Mono',consolas,'Courier New',monospace\">┏━━━┯━━━┯━━━┯━━━┯━━━┯━━━┯━━━┯━━━┯━━━┓                                                        \n",
       "┃14 │ 4 │ 4 │   │   │   │   │   │   ┃                                                        \n",
       "┃ 5 │   │   │   │ 7 │ 1 │ 8 │ 9 │ 2 ┃                                                        \n",
       "┃ 6 │3  │3  │36 │ = │ = │ = │ = │ = ┃                                                        \n",
       "┠───┼───┼───┼───┼───┼───┼───┼───┼───┨                                                        \n",
       "┃1  │1 7│   │   │   │   │  7│   │  7┃                                                        \n",
       "┃   │   │ 2 │   │ 8 │ 4 │   │ 5 │   ┃                                                        \n",
       "┃ 69│<span style=\"color: #ff0000; text-decoration-color: #ff0000\">3</span> 9│ = │3<span style=\"color: #ff0000; text-decoration-color: #ff0000\">6</span>9│ = │ = │36 │ = │ 6 ┃                                                        \n",
       "┠───┼───┼───┼───┼───┼───┼───┼───┼───┨                                                        \n",
       "┃   │  7│   │   │   │   │  7│ 47│   ┃                                                        \n",
       "┃   │   │ 8 │2  │ 5 │2  │   │   │ 1 ┃                                                        \n",
       "┃ 69│<span style=\"color: #ff0000; text-decoration-color: #ff0000\">3</span> 9│ = │3<span style=\"color: #ff0000; text-decoration-color: #ff0000\">6</span>9│ = │  9│36 │3  │ = ┃                                                        \n",
       "┠───┼───┼───┼───┼───┼───┼───┼───┼───┨                                                        \n",
       "┃1  │1  │1 7│   │   │   │1  │1  │   ┃                                                        \n",
       "┃  8│   │   │2  │ 4 │ 5 │2  │2  │  8┃                                                        \n",
       "┃  9│3 9│369│  9│ = │ = │ 6 │3  │ 6 ┃                                                        \n",
       "┠───┼───┼───┼───┼───┼───┼───┼───┼───┨                                                        \n",
       "┃14 │   │   │   │   │   │   │1 7│ 47┃                                                        \n",
       "┃   │ 2 │ 5 │  8│   │   │ 9 │   │   ┃                                                        \n",
       "┃   │ = │ = │36 │36 │36 │ = │   │   ┃                                                        \n",
       "┠───┼───┼───┼───┼───┼───┼───┼───┼───┨                                                        \n",
       "┃ 4 │   │   │   │   │   │   │   │ 4 ┃                                                        \n",
       "┃  8│   │   │ 7 │ 1 │2  │ 5 │2  │  8┃                                                        \n",
       "┃   │369│369│ = │ = │  9│ = │3  │   ┃                                                        \n",
       "┠───┼───┼───┼───┼───┼───┼───┼───┼───┨                                                        \n",
       "┃   │   │   │   │   │   │   │   │   ┃                                                        \n",
       "┃ 7 │ 5 │   │ 1 │2  │  8│ 4 │2 8│ 3 ┃                                                        \n",
       "┃ = │ = │ 69│ = │ 69│ 6 │ = │   │ = ┃                                                        \n",
       "┠───┼───┼───┼───┼───┼───┼───┼───┼───┨                                                        \n",
       "┃   │ 4 │14 │   │   │  7│1 7│1 7│   ┃                                                        \n",
       "┃ 3 │  8│   │ 5 │2  │  8│2  │2 8│ 9 ┃                                                        \n",
       "┃ = │ 6 │ 6 │ = │ 6 │ 6 │   │   │ = ┃                                                        \n",
       "┠───┼───┼───┼───┼───┼───┼───┼───┼───┨                                                        \n",
       "┃   │   │1  │   │   │  7│1 7│   │   ┃                                                        \n",
       "┃ 2 │  8│   │ 4 │   │  8│   │ 6 │ 5 ┃                                                        \n",
       "┃ = │  9│  9│ = │3 9│3  │   │ = │ = ┃                                                        \n",
       "┗━━━┷━━━┷━━━┷━━━┷━━━┷━━━┷━━━┷━━━┷━━━┛                                                        \n",
       "                                                                                             \n",
       "</pre>\n"
      ],
      "text/plain": [
       "┏━━━┯━━━┯━━━┯━━━┯━━━┯━━━┯━━━┯━━━┯━━━┓                                                        \n",
       "┃14 │ 4 │ 4 │   │   │   │   │   │   ┃                                                        \n",
       "┃ 5 │   │   │   │ 7 │ 1 │ 8 │ 9 │ 2 ┃                                                        \n",
       "┃ 6 │3  │3  │36 │ = │ = │ = │ = │ = ┃                                                        \n",
       "┠───┼───┼───┼───┼───┼───┼───┼───┼───┨                                                        \n",
       "┃1  │1 7│   │   │   │   │  7│   │  7┃                                                        \n",
       "┃   │   │ 2 │   │ 8 │ 4 │   │ 5 │   ┃                                                        \n",
       "┃ 69│\u001b[91m3\u001b[0m 9│ = │3\u001b[91m6\u001b[0m9│ = │ = │36 │ = │ 6 ┃                                                        \n",
       "┠───┼───┼───┼───┼───┼───┼───┼───┼───┨                                                        \n",
       "┃   │  7│   │   │   │   │  7│ 47│   ┃                                                        \n",
       "┃   │   │ 8 │2  │ 5 │2  │   │   │ 1 ┃                                                        \n",
       "┃ 69│\u001b[91m3\u001b[0m 9│ = │3\u001b[91m6\u001b[0m9│ = │  9│36 │3  │ = ┃                                                        \n",
       "┠───┼───┼───┼───┼───┼───┼───┼───┼───┨                                                        \n",
       "┃1  │1  │1 7│   │   │   │1  │1  │   ┃                                                        \n",
       "┃  8│   │   │2  │ 4 │ 5 │2  │2  │  8┃                                                        \n",
       "┃  9│3 9│369│  9│ = │ = │ 6 │3  │ 6 ┃                                                        \n",
       "┠───┼───┼───┼───┼───┼───┼───┼───┼───┨                                                        \n",
       "┃14 │   │   │   │   │   │   │1 7│ 47┃                                                        \n",
       "┃   │ 2 │ 5 │  8│   │   │ 9 │   │   ┃                                                        \n",
       "┃   │ = │ = │36 │36 │36 │ = │   │   ┃                                                        \n",
       "┠───┼───┼───┼───┼───┼───┼───┼───┼───┨                                                        \n",
       "┃ 4 │   │   │   │   │   │   │   │ 4 ┃                                                        \n",
       "┃  8│   │   │ 7 │ 1 │2  │ 5 │2  │  8┃                                                        \n",
       "┃   │369│369│ = │ = │  9│ = │3  │   ┃                                                        \n",
       "┠───┼───┼───┼───┼───┼───┼───┼───┼───┨                                                        \n",
       "┃   │   │   │   │   │   │   │   │   ┃                                                        \n",
       "┃ 7 │ 5 │   │ 1 │2  │  8│ 4 │2 8│ 3 ┃                                                        \n",
       "┃ = │ = │ 69│ = │ 69│ 6 │ = │   │ = ┃                                                        \n",
       "┠───┼───┼───┼───┼───┼───┼───┼───┼───┨                                                        \n",
       "┃   │ 4 │14 │   │   │  7│1 7│1 7│   ┃                                                        \n",
       "┃ 3 │  8│   │ 5 │2  │  8│2  │2 8│ 9 ┃                                                        \n",
       "┃ = │ 6 │ 6 │ = │ 6 │ 6 │   │   │ = ┃                                                        \n",
       "┠───┼───┼───┼───┼───┼───┼───┼───┼───┨                                                        \n",
       "┃   │   │1  │   │   │  7│1 7│   │   ┃                                                        \n",
       "┃ 2 │  8│   │ 4 │   │  8│   │ 6 │ 5 ┃                                                        \n",
       "┃ = │  9│  9│ = │3 9│3  │   │ = │ = ┃                                                        \n",
       "┗━━━┷━━━┷━━━┷━━━┷━━━┷━━━┷━━━┷━━━┷━━━┛                                                        \n",
       "                                                                                             \n"
      ]
     },
     "metadata": {},
     "output_type": "display_data"
    },
    {
     "data": {
      "text/html": [
       "<pre style=\"white-space:pre;overflow-x:auto;line-height:normal;font-family:Menlo,'DejaVu Sans Mono',consolas,'Courier New',monospace\"><span style=\"color: #000080; text-decoration-color: #000080\">Step [0] - 7 (Hook)</span>                                                                          \n",
       "</pre>\n"
      ],
      "text/plain": [
       "\u001b[34mStep [0] - 7 (Hook)\u001b[0m                                                                          \n"
      ]
     },
     "metadata": {},
     "output_type": "display_data"
    },
    {
     "data": {
      "text/html": [
       "<pre style=\"white-space:pre;overflow-x:auto;line-height:normal;font-family:Menlo,'DejaVu Sans Mono',consolas,'Courier New',monospace\">Sudoku(9,9) - [108 rls, 270 ria, 105 gts, 369 gia]                                           \n",
       "      27         ElementsAtMostOnce                                                          \n",
       "      81         UneqRule                                                                    \n",
       "  ───────                                                                                    \n",
       "      27         ElementsAtLeastOnce                                                         \n",
       "     243         UneqRule                                                                    \n",
       "</pre>\n"
      ],
      "text/plain": [
       "Sudoku(9,9) - [108 rls, 270 ria, 105 gts, 369 gia]                                           \n",
       "      27         ElementsAtMostOnce                                                          \n",
       "      81         UneqRule                                                                    \n",
       "  ───────                                                                                    \n",
       "      27         ElementsAtLeastOnce                                                         \n",
       "     243         UneqRule                                                                    \n"
      ]
     },
     "metadata": {},
     "output_type": "display_data"
    },
    {
     "data": {
      "text/html": [
       "<pre style=\"white-space:pre;overflow-x:auto;line-height:normal;font-family:Menlo,'DejaVu Sans Mono',consolas,'Courier New',monospace\"><span style=\"color: #000080; text-decoration-color: #000080\">Step [0] - 8 (Normal)</span>                                                                        \n",
       "</pre>\n"
      ],
      "text/plain": [
       "\u001b[34mStep [0] - 8 (Normal)\u001b[0m                                                                        \n"
      ]
     },
     "metadata": {},
     "output_type": "display_data"
    },
    {
     "data": {
      "text/html": [
       "<pre style=\"white-space:pre;overflow-x:auto;line-height:normal;font-family:Menlo,'DejaVu Sans Mono',consolas,'Courier New',monospace\">Sudoku(9,9) - [108 rls, 270 ria, 105 gts, 369 gia]                                           \n",
       "</pre>\n"
      ],
      "text/plain": [
       "Sudoku(9,9) - [108 rls, 270 ria, 105 gts, 369 gia]                                           \n"
      ]
     },
     "metadata": {},
     "output_type": "display_data"
    },
    {
     "data": {
      "text/html": [
       "<pre style=\"white-space:pre;overflow-x:auto;line-height:normal;font-family:Menlo,'DejaVu Sans Mono',consolas,'Courier New',monospace\">┏━━━┯━━━┯━━━┯━━━┯━━━┯━━━┯━━━┯━━━┯━━━┓                                                        \n",
       "┃14 │ 4 │ 4 │   │   │   │   │   │   ┃                                                        \n",
       "┃ 5 │   │   │   │ 7 │ 1 │ 8 │ 9 │ 2 ┃                                                        \n",
       "┃ 6 │3  │3  │36 │ = │ = │ = │ = │ = ┃                                                        \n",
       "┠───┼───┼───┼───┼───┼───┼───┼───┼───┨                                                        \n",
       "┃1  │1 7│   │   │   │   │  7│   │  7┃                                                        \n",
       "┃   │   │ 2 │   │ 8 │ 4 │   │ 5 │   ┃                                                        \n",
       "┃ 69│  9│ = │3 9│ = │ = │36 │ = │ 6 ┃                                                        \n",
       "┠───┼───┼───┼───┼───┼───┼───┼───┼───┨                                                        \n",
       "┃   │  7│   │   │   │   │  7│ 47│   ┃                                                        \n",
       "┃   │   │ 8 │2  │ 5 │2  │   │   │ 1 ┃                                                        \n",
       "┃ 69│  9│ = │3 9│ = │  9│36 │3  │ = ┃                                                        \n",
       "┠───┼───┼───┼───┼───┼───┼───┼───┼───┨                                                        \n",
       "┃1  │1  │1 7│   │   │   │1  │1  │   ┃                                                        \n",
       "┃  8│   │   │2  │ 4 │ 5 │2  │2  │  8┃                                                        \n",
       "┃  9│3 9│369│  9│ = │ = │ 6 │3  │ 6 ┃                                                        \n",
       "┠───┼───┼───┼───┼───┼───┼───┼───┼───┨                                                        \n",
       "┃14 │   │   │   │   │   │   │1 7│ 47┃                                                        \n",
       "┃   │ 2 │ 5 │  8│   │   │ 9 │   │   ┃                                                        \n",
       "┃   │ = │ = │36 │36 │36 │ = │   │   ┃                                                        \n",
       "┠───┼───┼───┼───┼───┼───┼───┼───┼───┨                                                        \n",
       "┃ 4 │   │   │   │   │   │   │   │ 4 ┃                                                        \n",
       "┃  8│   │   │ 7 │ 1 │2  │ 5 │2  │  8┃                                                        \n",
       "┃   │369│369│ = │ = │  9│ = │3  │   ┃                                                        \n",
       "┠───┼───┼───┼───┼───┼───┼───┼───┼───┨                                                        \n",
       "┃   │   │   │   │   │   │   │   │   ┃                                                        \n",
       "┃ 7 │ 5 │   │ 1 │2  │  8│ 4 │2 8│ 3 ┃                                                        \n",
       "┃ = │ = │ 69│ = │ 69│ 6 │ = │   │ = ┃                                                        \n",
       "┠───┼───┼───┼───┼───┼───┼───┼───┼───┨                                                        \n",
       "┃   │ 4 │14 │   │   │  7│1 7│1 7│   ┃                                                        \n",
       "┃ 3 │  8│   │ 5 │2  │  8│2  │2 8│ 9 ┃                                                        \n",
       "┃ = │ 6 │ 6 │ = │ 6 │ 6 │   │   │ = ┃                                                        \n",
       "┠───┼───┼───┼───┼───┼───┼───┼───┼───┨                                                        \n",
       "┃   │   │1  │   │   │  7│1 7│   │   ┃                                                        \n",
       "┃ 2 │  8│   │ 4 │   │  8│   │ 6 │ 5 ┃                                                        \n",
       "┃ = │  9│  9│ = │3 9│3  │   │ = │ = ┃                                                        \n",
       "┗━━━┷━━━┷━━━┷━━━┷━━━┷━━━┷━━━┷━━━┷━━━┛                                                        \n",
       "                                                                                             \n",
       "</pre>\n"
      ],
      "text/plain": [
       "┏━━━┯━━━┯━━━┯━━━┯━━━┯━━━┯━━━┯━━━┯━━━┓                                                        \n",
       "┃14 │ 4 │ 4 │   │   │   │   │   │   ┃                                                        \n",
       "┃ 5 │   │   │   │ 7 │ 1 │ 8 │ 9 │ 2 ┃                                                        \n",
       "┃ 6 │3  │3  │36 │ = │ = │ = │ = │ = ┃                                                        \n",
       "┠───┼───┼───┼───┼───┼───┼───┼───┼───┨                                                        \n",
       "┃1  │1 7│   │   │   │   │  7│   │  7┃                                                        \n",
       "┃   │   │ 2 │   │ 8 │ 4 │   │ 5 │   ┃                                                        \n",
       "┃ 69│  9│ = │3 9│ = │ = │36 │ = │ 6 ┃                                                        \n",
       "┠───┼───┼───┼───┼───┼───┼───┼───┼───┨                                                        \n",
       "┃   │  7│   │   │   │   │  7│ 47│   ┃                                                        \n",
       "┃   │   │ 8 │2  │ 5 │2  │   │   │ 1 ┃                                                        \n",
       "┃ 69│  9│ = │3 9│ = │  9│36 │3  │ = ┃                                                        \n",
       "┠───┼───┼───┼───┼───┼───┼───┼───┼───┨                                                        \n",
       "┃1  │1  │1 7│   │   │   │1  │1  │   ┃                                                        \n",
       "┃  8│   │   │2  │ 4 │ 5 │2  │2  │  8┃                                                        \n",
       "┃  9│3 9│369│  9│ = │ = │ 6 │3  │ 6 ┃                                                        \n",
       "┠───┼───┼───┼───┼───┼───┼───┼───┼───┨                                                        \n",
       "┃14 │   │   │   │   │   │   │1 7│ 47┃                                                        \n",
       "┃   │ 2 │ 5 │  8│   │   │ 9 │   │   ┃                                                        \n",
       "┃   │ = │ = │36 │36 │36 │ = │   │   ┃                                                        \n",
       "┠───┼───┼───┼───┼───┼───┼───┼───┼───┨                                                        \n",
       "┃ 4 │   │   │   │   │   │   │   │ 4 ┃                                                        \n",
       "┃  8│   │   │ 7 │ 1 │2  │ 5 │2  │  8┃                                                        \n",
       "┃   │369│369│ = │ = │  9│ = │3  │   ┃                                                        \n",
       "┠───┼───┼───┼───┼───┼───┼───┼───┼───┨                                                        \n",
       "┃   │   │   │   │   │   │   │   │   ┃                                                        \n",
       "┃ 7 │ 5 │   │ 1 │2  │  8│ 4 │2 8│ 3 ┃                                                        \n",
       "┃ = │ = │ 69│ = │ 69│ 6 │ = │   │ = ┃                                                        \n",
       "┠───┼───┼───┼───┼───┼───┼───┼───┼───┨                                                        \n",
       "┃   │ 4 │14 │   │   │  7│1 7│1 7│   ┃                                                        \n",
       "┃ 3 │  8│   │ 5 │2  │  8│2  │2 8│ 9 ┃                                                        \n",
       "┃ = │ 6 │ 6 │ = │ 6 │ 6 │   │   │ = ┃                                                        \n",
       "┠───┼───┼───┼───┼───┼───┼───┼───┼───┨                                                        \n",
       "┃   │   │1  │   │   │  7│1 7│   │   ┃                                                        \n",
       "┃ 2 │  8│   │ 4 │   │  8│   │ 6 │ 5 ┃                                                        \n",
       "┃ = │  9│  9│ = │3 9│3  │   │ = │ = ┃                                                        \n",
       "┗━━━┷━━━┷━━━┷━━━┷━━━┷━━━┷━━━┷━━━┷━━━┛                                                        \n",
       "                                                                                             \n"
      ]
     },
     "metadata": {},
     "output_type": "display_data"
    },
    {
     "data": {
      "text/html": [
       "<pre style=\"white-space:pre;overflow-x:auto;line-height:normal;font-family:Menlo,'DejaVu Sans Mono',consolas,'Courier New',monospace\"><span style=\"color: #000080; text-decoration-color: #000080\">Step [0] - 9 (Normal)</span>                                                                        \n",
       "</pre>\n"
      ],
      "text/plain": [
       "\u001b[34mStep [0] - 9 (Normal)\u001b[0m                                                                        \n"
      ]
     },
     "metadata": {},
     "output_type": "display_data"
    },
    {
     "data": {
      "text/html": [
       "<pre style=\"white-space:pre;overflow-x:auto;line-height:normal;font-family:Menlo,'DejaVu Sans Mono',consolas,'Courier New',monospace\">Sudoku(9,9) - [108 rls, 270 ria, 105 gts, 369 gia]                                           \n",
       "</pre>\n"
      ],
      "text/plain": [
       "Sudoku(9,9) - [108 rls, 270 ria, 105 gts, 369 gia]                                           \n"
      ]
     },
     "metadata": {},
     "output_type": "display_data"
    },
    {
     "data": {
      "text/html": [
       "<pre style=\"white-space:pre;overflow-x:auto;line-height:normal;font-family:Menlo,'DejaVu Sans Mono',consolas,'Courier New',monospace\">┏━━━┯━━━┯━━━┯━━━┯━━━┯━━━┯━━━┯━━━┯━━━┓                                                        \n",
       "┃<span style=\"color: #ff0000; text-decoration-color: #ff0000\">14</span> │ 4 │ 4 │   │   │   │   │   │   ┃                                                        \n",
       "┃ 5 │   │   │ <span style=\"color: #0000ff; text-decoration-color: #0000ff\">6</span> │ 7 │ 1 │ 8 │ 9 │ 2 ┃                                                        \n",
       "┃ <span style=\"color: #00ff00; text-decoration-color: #00ff00\">=</span> │3  │3  │<span style=\"color: #ff0000; text-decoration-color: #ff0000\">3</span><span style=\"color: #00ff00; text-decoration-color: #00ff00\">=</span> │ = │ = │ = │ = │ = ┃                                                        \n",
       "┠───┼───┼───┼───┼───┼───┼───┼───┼───┨                                                        \n",
       "┃1  │1 7│   │   │   │   │  7│   │  7┃                                                        \n",
       "┃   │   │ 2 │   │ 8 │ 4 │   │ 5 │   ┃                                                        \n",
       "┃ 69│  9│ = │3 9│ = │ = │36 │ = │ 6 ┃                                                        \n",
       "┠───┼───┼───┼───┼───┼───┼───┼───┼───┨                                                        \n",
       "┃   │  7│   │   │   │   │  7│ <span style=\"color: #ff0000; text-decoration-color: #ff0000\">47</span>│   ┃                                                        \n",
       "┃   │   │ 8 │2  │ 5 │2  │   │ <span style=\"color: #0000ff; text-decoration-color: #0000ff\">4</span> │ 1 ┃                                                        \n",
       "┃ 69│  9│ = │3 9│ = │  9│36 │<span style=\"color: #ff0000; text-decoration-color: #ff0000\">3</span><span style=\"color: #00ff00; text-decoration-color: #00ff00\">=</span> │ = ┃                                                        \n",
       "┠───┼───┼───┼───┼───┼───┼───┼───┼───┨                                                        \n",
       "┃1  │1  │<span style=\"color: #ff0000; text-decoration-color: #ff0000\">1</span> <span style=\"color: #ff0000; text-decoration-color: #ff0000\">7</span>│   │   │   │1  │1  │   ┃                                                        \n",
       "┃  8│   │ <span style=\"color: #0000ff; text-decoration-color: #0000ff\">7</span> │2  │ 4 │ 5 │2  │2  │  8┃                                                        \n",
       "┃  9│3 9│<span style=\"color: #ff0000; text-decoration-color: #ff0000\">3</span><span style=\"color: #00ff00; text-decoration-color: #00ff00\">=</span><span style=\"color: #ff0000; text-decoration-color: #ff0000\">9</span>│  9│ = │ = │ 6 │3  │ 6 ┃                                                        \n",
       "┠───┼───┼───┼───┼───┼───┼───┼───┼───┨                                                        \n",
       "┃14 │   │   │   │   │   │   │1 7│ 47┃                                                        \n",
       "┃   │ 2 │ 5 │ <span style=\"color: #0000ff; text-decoration-color: #0000ff\">8</span><span style=\"color: #ff0000; text-decoration-color: #ff0000\">8</span>│   │   │ 9 │   │   ┃                                                        \n",
       "┃   │ = │ = │<span style=\"color: #ff0000; text-decoration-color: #ff0000\">3</span><span style=\"color: #00ff00; text-decoration-color: #00ff00\">=</span> │36 │36 │ = │   │   ┃                                                        \n",
       "┠───┼───┼───┼───┼───┼───┼───┼───┼───┨                                                        \n",
       "┃ 4 │   │   │   │   │   │   │   │ 4 ┃                                                        \n",
       "┃  8│   │   │ 7 │ 1 │2  │ 5 │2  │  8┃                                                        \n",
       "┃   │369│369│ = │ = │  9│ = │3  │   ┃                                                        \n",
       "┠───┼───┼───┼───┼───┼───┼───┼───┼───┨                                                        \n",
       "┃   │   │   │   │   │   │   │   │   ┃                                                        \n",
       "┃ 7 │ 5 │   │ 1 │2  │  8│ 4 │2 8│ 3 ┃                                                        \n",
       "┃ = │ = │ 69│ = │ 69│ 6 │ = │   │ = ┃                                                        \n",
       "┠───┼───┼───┼───┼───┼───┼───┼───┼───┨                                                        \n",
       "┃   │ 4 │14 │   │   │  7│1 7│1 7│   ┃                                                        \n",
       "┃ 3 │  8│   │ 5 │2  │  8│2  │2 8│ 9 ┃                                                        \n",
       "┃ = │ 6 │ 6 │ = │ 6 │ 6 │   │   │ = ┃                                                        \n",
       "┠───┼───┼───┼───┼───┼───┼───┼───┼───┨                                                        \n",
       "┃   │   │1  │   │   │  7│1 7│   │   ┃                                                        \n",
       "┃ 2 │  8│   │ 4 │   │  8│   │ 6 │ 5 ┃                                                        \n",
       "┃ = │  9│  9│ = │3 9│3  │   │ = │ = ┃                                                        \n",
       "┗━━━┷━━━┷━━━┷━━━┷━━━┷━━━┷━━━┷━━━┷━━━┛                                                        \n",
       "                                                                                             \n",
       "</pre>\n"
      ],
      "text/plain": [
       "┏━━━┯━━━┯━━━┯━━━┯━━━┯━━━┯━━━┯━━━┯━━━┓                                                        \n",
       "┃\u001b[91m1\u001b[0m\u001b[91m4\u001b[0m │ 4 │ 4 │   │   │   │   │   │   ┃                                                        \n",
       "┃ 5 │   │   │ \u001b[94m6\u001b[0m │ 7 │ 1 │ 8 │ 9 │ 2 ┃                                                        \n",
       "┃ \u001b[92m=\u001b[0m │3  │3  │\u001b[91m3\u001b[0m\u001b[92m=\u001b[0m │ = │ = │ = │ = │ = ┃                                                        \n",
       "┠───┼───┼───┼───┼───┼───┼───┼───┼───┨                                                        \n",
       "┃1  │1 7│   │   │   │   │  7│   │  7┃                                                        \n",
       "┃   │   │ 2 │   │ 8 │ 4 │   │ 5 │   ┃                                                        \n",
       "┃ 69│  9│ = │3 9│ = │ = │36 │ = │ 6 ┃                                                        \n",
       "┠───┼───┼───┼───┼───┼───┼───┼───┼───┨                                                        \n",
       "┃   │  7│   │   │   │   │  7│ \u001b[91m4\u001b[0m\u001b[91m7\u001b[0m│   ┃                                                        \n",
       "┃   │   │ 8 │2  │ 5 │2  │   │ \u001b[94m4\u001b[0m │ 1 ┃                                                        \n",
       "┃ 69│  9│ = │3 9│ = │  9│36 │\u001b[91m3\u001b[0m\u001b[92m=\u001b[0m │ = ┃                                                        \n",
       "┠───┼───┼───┼───┼───┼───┼───┼───┼───┨                                                        \n",
       "┃1  │1  │\u001b[91m1\u001b[0m \u001b[91m7\u001b[0m│   │   │   │1  │1  │   ┃                                                        \n",
       "┃  8│   │ \u001b[94m7\u001b[0m │2  │ 4 │ 5 │2  │2  │  8┃                                                        \n",
       "┃  9│3 9│\u001b[91m3\u001b[0m\u001b[92m=\u001b[0m\u001b[91m9\u001b[0m│  9│ = │ = │ 6 │3  │ 6 ┃                                                        \n",
       "┠───┼───┼───┼───┼───┼───┼───┼───┼───┨                                                        \n",
       "┃14 │   │   │   │   │   │   │1 7│ 47┃                                                        \n",
       "┃   │ 2 │ 5 │ \u001b[94m8\u001b[0m\u001b[91m8\u001b[0m│   │   │ 9 │   │   ┃                                                        \n",
       "┃   │ = │ = │\u001b[91m3\u001b[0m\u001b[92m=\u001b[0m │36 │36 │ = │   │   ┃                                                        \n",
       "┠───┼───┼───┼───┼───┼───┼───┼───┼───┨                                                        \n",
       "┃ 4 │   │   │   │   │   │   │   │ 4 ┃                                                        \n",
       "┃  8│   │   │ 7 │ 1 │2  │ 5 │2  │  8┃                                                        \n",
       "┃   │369│369│ = │ = │  9│ = │3  │   ┃                                                        \n",
       "┠───┼───┼───┼───┼───┼───┼───┼───┼───┨                                                        \n",
       "┃   │   │   │   │   │   │   │   │   ┃                                                        \n",
       "┃ 7 │ 5 │   │ 1 │2  │  8│ 4 │2 8│ 3 ┃                                                        \n",
       "┃ = │ = │ 69│ = │ 69│ 6 │ = │   │ = ┃                                                        \n",
       "┠───┼───┼───┼───┼───┼───┼───┼───┼───┨                                                        \n",
       "┃   │ 4 │14 │   │   │  7│1 7│1 7│   ┃                                                        \n",
       "┃ 3 │  8│   │ 5 │2  │  8│2  │2 8│ 9 ┃                                                        \n",
       "┃ = │ 6 │ 6 │ = │ 6 │ 6 │   │   │ = ┃                                                        \n",
       "┠───┼───┼───┼───┼───┼───┼───┼───┼───┨                                                        \n",
       "┃   │   │1  │   │   │  7│1 7│   │   ┃                                                        \n",
       "┃ 2 │  8│   │ 4 │   │  8│   │ 6 │ 5 ┃                                                        \n",
       "┃ = │  9│  9│ = │3 9│3  │   │ = │ = ┃                                                        \n",
       "┗━━━┷━━━┷━━━┷━━━┷━━━┷━━━┷━━━┷━━━┷━━━┛                                                        \n",
       "                                                                                             \n"
      ]
     },
     "metadata": {},
     "output_type": "display_data"
    },
    {
     "data": {
      "text/html": [
       "<pre style=\"white-space:pre;overflow-x:auto;line-height:normal;font-family:Menlo,'DejaVu Sans Mono',consolas,'Courier New',monospace\"><span style=\"color: #008000; text-decoration-color: #008000\">WingXY - (8, 5): 8 removed from {3, 7, 8} w/ (6, 2), pincers (6, 5), (8, 1)</span>                  \n",
       "</pre>\n"
      ],
      "text/plain": [
       "\u001b[32mWingXY - (8, 5): 8 removed from {3, 7, 8} w/ (6, 2), pincers (6, 5), (8, 1)\u001b[0m                  \n"
      ]
     },
     "metadata": {},
     "output_type": "display_data"
    },
    {
     "data": {
      "text/html": [
       "<pre style=\"white-space:pre;overflow-x:auto;line-height:normal;font-family:Menlo,'DejaVu Sans Mono',consolas,'Courier New',monospace\"><span style=\"color: #008000; text-decoration-color: #008000\">WingXY - (7, 7): 2 removed from {1, 2, 7, 8} w/ (6, 5), pincers (7, 4), (6, 7)</span>               \n",
       "</pre>\n"
      ],
      "text/plain": [
       "\u001b[32mWingXY - (7, 7): 2 removed from {1, 2, 7, 8} w/ (6, 5), pincers (7, 4), (6, 7)\u001b[0m               \n"
      ]
     },
     "metadata": {},
     "output_type": "display_data"
    },
    {
     "data": {
      "text/html": [
       "<pre style=\"white-space:pre;overflow-x:auto;line-height:normal;font-family:Menlo,'DejaVu Sans Mono',consolas,'Courier New',monospace\"><span style=\"color: #008000; text-decoration-color: #008000\">WingXY - (6, 4): 2 removed from {2, 6, 9} w/ (6, 5), pincers (7, 4), (6, 7)</span>                  \n",
       "</pre>\n"
      ],
      "text/plain": [
       "\u001b[32mWingXY - (6, 4): 2 removed from {2, 6, 9} w/ (6, 5), pincers (7, 4), (6, 7)\u001b[0m                  \n"
      ]
     },
     "metadata": {},
     "output_type": "display_data"
    },
    {
     "data": {
      "text/html": [
       "<pre style=\"white-space:pre;overflow-x:auto;line-height:normal;font-family:Menlo,'DejaVu Sans Mono',consolas,'Courier New',monospace\"><span style=\"color: #008000; text-decoration-color: #008000\">WingXY - (7, 6): 2 removed from {1, 2, 7} w/ (6, 5), pincers (7, 4), (6, 7)</span>                  \n",
       "</pre>\n"
      ],
      "text/plain": [
       "\u001b[32mWingXY - (7, 6): 2 removed from {1, 2, 7} w/ (6, 5), pincers (7, 4), (6, 7)\u001b[0m                  \n"
      ]
     },
     "metadata": {},
     "output_type": "display_data"
    },
    {
     "data": {
      "text/html": [
       "<pre style=\"white-space:pre;overflow-x:auto;line-height:normal;font-family:Menlo,'DejaVu Sans Mono',consolas,'Courier New',monospace\"><span style=\"color: #000080; text-decoration-color: #000080\">Step [0] - 10 (Fast)</span>                                                                         \n",
       "</pre>\n"
      ],
      "text/plain": [
       "\u001b[34mStep [0] - 10 (Fast)\u001b[0m                                                                         \n"
      ]
     },
     "metadata": {},
     "output_type": "display_data"
    },
    {
     "data": {
      "text/html": [
       "<pre style=\"white-space:pre;overflow-x:auto;line-height:normal;font-family:Menlo,'DejaVu Sans Mono',consolas,'Courier New',monospace\">Sudoku(9,9) - [108 rls, 270 ria, 105 gts, 369 gia]                                           \n",
       "</pre>\n"
      ],
      "text/plain": [
       "Sudoku(9,9) - [108 rls, 270 ria, 105 gts, 369 gia]                                           \n"
      ]
     },
     "metadata": {},
     "output_type": "display_data"
    },
    {
     "data": {
      "text/html": [
       "<pre style=\"white-space:pre;overflow-x:auto;line-height:normal;font-family:Menlo,'DejaVu Sans Mono',consolas,'Courier New',monospace\">┏━━━┯━━━┯━━━┯━━━┯━━━┯━━━┯━━━┯━━━┯━━━┓                                                        \n",
       "┃   │ 4 │ 4 │   │   │   │   │   │   ┃                                                        \n",
       "┃ 5 │   │   │ 6 │ 7 │ 1 │ 8 │ 9 │ 2 ┃                                                        \n",
       "┃ = │3  │3  │ = │ = │ = │ = │ = │ = ┃                                                        \n",
       "┠───┼───┼───┼───┼───┼───┼───┼───┼───┨                                                        \n",
       "┃1  │1 7│   │   │   │   │  7│   │  7┃                                                        \n",
       "┃   │   │ 2 │   │ 8 │ 4 │   │ 5 │   ┃                                                        \n",
       "┃ 69│  9│ = │3 9│ = │ = │36 │ = │ 6 ┃                                                        \n",
       "┠───┼───┼───┼───┼───┼───┼───┼───┼───┨                                                        \n",
       "┃   │  7│   │   │   │   │  7│   │   ┃                                                        \n",
       "┃   │   │ 8 │2  │ 5 │2  │   │ 4 │ 1 ┃                                                        \n",
       "┃ 69│  9│ = │3 9│ = │  9│36 │ = │ = ┃                                                        \n",
       "┠───┼───┼───┼───┼───┼───┼───┼───┼───┨                                                        \n",
       "┃1  │1  │   │   │   │   │1  │1  │   ┃                                                        \n",
       "┃  8│   │ 7 │2  │ 4 │ 5 │2  │2  │  8┃                                                        \n",
       "┃  9│3 9│ = │  9│ = │ = │ 6 │3  │ 6 ┃                                                        \n",
       "┠───┼───┼───┼───┼───┼───┼───┼───┼───┨                                                        \n",
       "┃14 │   │   │   │   │   │   │1 7│ 47┃                                                        \n",
       "┃   │ 2 │ 5 │ 8 │   │   │ 9 │   │   ┃                                                        \n",
       "┃   │ = │ = │ = │36 │36 │ = │   │   ┃                                                        \n",
       "┠───┼───┼───┼───┼───┼───┼───┼───┼───┨                                                        \n",
       "┃ 4 │   │   │   │   │   │   │   │ 4 ┃                                                        \n",
       "┃  8│   │   │ 7 │ 1 │2  │ 5 │2  │  8┃                                                        \n",
       "┃   │369│369│ = │ = │  9│ = │3  │   ┃                                                        \n",
       "┠───┼───┼───┼───┼───┼───┼───┼───┼───┨                                                        \n",
       "┃   │   │   │   │   │   │   │   │   ┃                                                        \n",
       "┃ 7 │ 5 │   │ 1 │<span style=\"color: #ff0000; text-decoration-color: #ff0000\">2</span>  │  8│ 4 │2 8│ 3 ┃                                                        \n",
       "┃ = │ = │ 69│ = │ 69│ 6 │ = │   │ = ┃                                                        \n",
       "┠───┼───┼───┼───┼───┼───┼───┼───┼───┨                                                        \n",
       "┃   │ 4 │14 │   │   │  7│1 7│1 7│   ┃                                                        \n",
       "┃ 3 │  8│   │ 5 │2  │  8│<span style=\"color: #ff0000; text-decoration-color: #ff0000\">2</span>  │<span style=\"color: #ff0000; text-decoration-color: #ff0000\">2</span> 8│ 9 ┃                                                        \n",
       "┃ = │ 6 │ 6 │ = │ 6 │ 6 │   │   │ = ┃                                                        \n",
       "┠───┼───┼───┼───┼───┼───┼───┼───┼───┨                                                        \n",
       "┃   │   │1  │   │   │  7│1 7│   │   ┃                                                        \n",
       "┃ 2 │  8│   │ 4 │   │  <span style=\"color: #ff0000; text-decoration-color: #ff0000\">8</span>│   │ 6 │ 5 ┃                                                        \n",
       "┃ = │  9│  9│ = │3 9│3  │   │ = │ = ┃                                                        \n",
       "┗━━━┷━━━┷━━━┷━━━┷━━━┷━━━┷━━━┷━━━┷━━━┛                                                        \n",
       "                                                                                             \n",
       "</pre>\n"
      ],
      "text/plain": [
       "┏━━━┯━━━┯━━━┯━━━┯━━━┯━━━┯━━━┯━━━┯━━━┓                                                        \n",
       "┃   │ 4 │ 4 │   │   │   │   │   │   ┃                                                        \n",
       "┃ 5 │   │   │ 6 │ 7 │ 1 │ 8 │ 9 │ 2 ┃                                                        \n",
       "┃ = │3  │3  │ = │ = │ = │ = │ = │ = ┃                                                        \n",
       "┠───┼───┼───┼───┼───┼───┼───┼───┼───┨                                                        \n",
       "┃1  │1 7│   │   │   │   │  7│   │  7┃                                                        \n",
       "┃   │   │ 2 │   │ 8 │ 4 │   │ 5 │   ┃                                                        \n",
       "┃ 69│  9│ = │3 9│ = │ = │36 │ = │ 6 ┃                                                        \n",
       "┠───┼───┼───┼───┼───┼───┼───┼───┼───┨                                                        \n",
       "┃   │  7│   │   │   │   │  7│   │   ┃                                                        \n",
       "┃   │   │ 8 │2  │ 5 │2  │   │ 4 │ 1 ┃                                                        \n",
       "┃ 69│  9│ = │3 9│ = │  9│36 │ = │ = ┃                                                        \n",
       "┠───┼───┼───┼───┼───┼───┼───┼───┼───┨                                                        \n",
       "┃1  │1  │   │   │   │   │1  │1  │   ┃                                                        \n",
       "┃  8│   │ 7 │2  │ 4 │ 5 │2  │2  │  8┃                                                        \n",
       "┃  9│3 9│ = │  9│ = │ = │ 6 │3  │ 6 ┃                                                        \n",
       "┠───┼───┼───┼───┼───┼───┼───┼───┼───┨                                                        \n",
       "┃14 │   │   │   │   │   │   │1 7│ 47┃                                                        \n",
       "┃   │ 2 │ 5 │ 8 │   │   │ 9 │   │   ┃                                                        \n",
       "┃   │ = │ = │ = │36 │36 │ = │   │   ┃                                                        \n",
       "┠───┼───┼───┼───┼───┼───┼───┼───┼───┨                                                        \n",
       "┃ 4 │   │   │   │   │   │   │   │ 4 ┃                                                        \n",
       "┃  8│   │   │ 7 │ 1 │2  │ 5 │2  │  8┃                                                        \n",
       "┃   │369│369│ = │ = │  9│ = │3  │   ┃                                                        \n",
       "┠───┼───┼───┼───┼───┼───┼───┼───┼───┨                                                        \n",
       "┃   │   │   │   │   │   │   │   │   ┃                                                        \n",
       "┃ 7 │ 5 │   │ 1 │\u001b[91m2\u001b[0m  │  8│ 4 │2 8│ 3 ┃                                                        \n",
       "┃ = │ = │ 69│ = │ 69│ 6 │ = │   │ = ┃                                                        \n",
       "┠───┼───┼───┼───┼───┼───┼───┼───┼───┨                                                        \n",
       "┃   │ 4 │14 │   │   │  7│1 7│1 7│   ┃                                                        \n",
       "┃ 3 │  8│   │ 5 │2  │  8│\u001b[91m2\u001b[0m  │\u001b[91m2\u001b[0m 8│ 9 ┃                                                        \n",
       "┃ = │ 6 │ 6 │ = │ 6 │ 6 │   │   │ = ┃                                                        \n",
       "┠───┼───┼───┼───┼───┼───┼───┼───┼───┨                                                        \n",
       "┃   │   │1  │   │   │  7│1 7│   │   ┃                                                        \n",
       "┃ 2 │  8│   │ 4 │   │  \u001b[91m8\u001b[0m│   │ 6 │ 5 ┃                                                        \n",
       "┃ = │  9│  9│ = │3 9│3  │   │ = │ = ┃                                                        \n",
       "┗━━━┷━━━┷━━━┷━━━┷━━━┷━━━┷━━━┷━━━┷━━━┛                                                        \n",
       "                                                                                             \n"
      ]
     },
     "metadata": {},
     "output_type": "display_data"
    },
    {
     "data": {
      "text/html": [
       "<pre style=\"white-space:pre;overflow-x:auto;line-height:normal;font-family:Menlo,'DejaVu Sans Mono',consolas,'Courier New',monospace\"><span style=\"color: #000080; text-decoration-color: #000080\">Step [0] - 11 (Normal)</span>                                                                       \n",
       "</pre>\n"
      ],
      "text/plain": [
       "\u001b[34mStep [0] - 11 (Normal)\u001b[0m                                                                       \n"
      ]
     },
     "metadata": {},
     "output_type": "display_data"
    },
    {
     "data": {
      "text/html": [
       "<pre style=\"white-space:pre;overflow-x:auto;line-height:normal;font-family:Menlo,'DejaVu Sans Mono',consolas,'Courier New',monospace\">Sudoku(9,9) - [108 rls, 270 ria, 105 gts, 369 gia]                                           \n",
       "</pre>\n"
      ],
      "text/plain": [
       "Sudoku(9,9) - [108 rls, 270 ria, 105 gts, 369 gia]                                           \n"
      ]
     },
     "metadata": {},
     "output_type": "display_data"
    },
    {
     "data": {
      "text/html": [
       "<pre style=\"white-space:pre;overflow-x:auto;line-height:normal;font-family:Menlo,'DejaVu Sans Mono',consolas,'Courier New',monospace\">┏━━━┯━━━┯━━━┯━━━┯━━━┯━━━┯━━━┯━━━┯━━━┓                                                        \n",
       "┃   │ 4 │ 4 │   │   │   │   │   │   ┃                                                        \n",
       "┃ 5 │   │   │ 6 │ 7 │ 1 │ 8 │ 9 │ 2 ┃                                                        \n",
       "┃ = │3  │3  │ = │ = │ = │ = │ = │ = ┃                                                        \n",
       "┠───┼───┼───┼───┼───┼───┼───┼───┼───┨                                                        \n",
       "┃1  │1 7│   │   │   │   │  7│   │  7┃                                                        \n",
       "┃   │   │ 2 │   │ 8 │ 4 │   │ 5 │   ┃                                                        \n",
       "┃ 69│  9│ = │3 9│ = │ = │36 │ = │ 6 ┃                                                        \n",
       "┠───┼───┼───┼───┼───┼───┼───┼───┼───┨                                                        \n",
       "┃   │  7│   │   │   │   │  7│   │   ┃                                                        \n",
       "┃   │   │ 8 │2  │ 5 │2  │   │ 4 │ 1 ┃                                                        \n",
       "┃ 69│  9│ = │3 9│ = │  9│36 │ = │ = ┃                                                        \n",
       "┠───┼───┼───┼───┼───┼───┼───┼───┼───┨                                                        \n",
       "┃1  │1  │   │   │   │   │1  │1  │   ┃                                                        \n",
       "┃  8│   │ 7 │2  │ 4 │ 5 │2  │2  │  8┃                                                        \n",
       "┃  9│3 9│ = │  9│ = │ = │ 6 │3  │ 6 ┃                                                        \n",
       "┠───┼───┼───┼───┼───┼───┼───┼───┼───┨                                                        \n",
       "┃14 │   │   │   │   │   │   │1 7│ 47┃                                                        \n",
       "┃   │ 2 │ 5 │ 8 │   │   │ 9 │   │   ┃                                                        \n",
       "┃   │ = │ = │ = │36 │36 │ = │   │   ┃                                                        \n",
       "┠───┼───┼───┼───┼───┼───┼───┼───┼───┨                                                        \n",
       "┃ 4 │   │   │   │   │   │   │   │ 4 ┃                                                        \n",
       "┃  8│   │   │ 7 │ 1 │2  │ 5 │2  │  8┃                                                        \n",
       "┃   │369│369│ = │ = │  9│ = │3  │   ┃                                                        \n",
       "┠───┼───┼───┼───┼───┼───┼───┼───┼───┨                                                        \n",
       "┃   │   │   │   │   │   │   │   │   ┃                                                        \n",
       "┃ 7 │ 5 │   │ 1 │   │  8│ 4 │2 8│ 3 ┃                                                        \n",
       "┃ = │ = │ 69│ = │ 69│ 6 │ = │   │ = ┃                                                        \n",
       "┠───┼───┼───┼───┼───┼───┼───┼───┼───┨                                                        \n",
       "┃   │ 4 │14 │   │   │  7│1 7│1 7│   ┃                                                        \n",
       "┃ 3 │  8│   │ 5 │2  │  8│   │  8│ 9 ┃                                                        \n",
       "┃ = │ 6 │ 6 │ = │ 6 │ 6 │   │   │ = ┃                                                        \n",
       "┠───┼───┼───┼───┼───┼───┼───┼───┼───┨                                                        \n",
       "┃   │   │1  │   │   │  7│1 7│   │   ┃                                                        \n",
       "┃ 2 │  8│   │ 4 │   │   │   │ 6 │ 5 ┃                                                        \n",
       "┃ = │  9│  9│ = │3 9│3  │   │ = │ = ┃                                                        \n",
       "┗━━━┷━━━┷━━━┷━━━┷━━━┷━━━┷━━━┷━━━┷━━━┛                                                        \n",
       "                                                                                             \n",
       "</pre>\n"
      ],
      "text/plain": [
       "┏━━━┯━━━┯━━━┯━━━┯━━━┯━━━┯━━━┯━━━┯━━━┓                                                        \n",
       "┃   │ 4 │ 4 │   │   │   │   │   │   ┃                                                        \n",
       "┃ 5 │   │   │ 6 │ 7 │ 1 │ 8 │ 9 │ 2 ┃                                                        \n",
       "┃ = │3  │3  │ = │ = │ = │ = │ = │ = ┃                                                        \n",
       "┠───┼───┼───┼───┼───┼───┼───┼───┼───┨                                                        \n",
       "┃1  │1 7│   │   │   │   │  7│   │  7┃                                                        \n",
       "┃   │   │ 2 │   │ 8 │ 4 │   │ 5 │   ┃                                                        \n",
       "┃ 69│  9│ = │3 9│ = │ = │36 │ = │ 6 ┃                                                        \n",
       "┠───┼───┼───┼───┼───┼───┼───┼───┼───┨                                                        \n",
       "┃   │  7│   │   │   │   │  7│   │   ┃                                                        \n",
       "┃   │   │ 8 │2  │ 5 │2  │   │ 4 │ 1 ┃                                                        \n",
       "┃ 69│  9│ = │3 9│ = │  9│36 │ = │ = ┃                                                        \n",
       "┠───┼───┼───┼───┼───┼───┼───┼───┼───┨                                                        \n",
       "┃1  │1  │   │   │   │   │1  │1  │   ┃                                                        \n",
       "┃  8│   │ 7 │2  │ 4 │ 5 │2  │2  │  8┃                                                        \n",
       "┃  9│3 9│ = │  9│ = │ = │ 6 │3  │ 6 ┃                                                        \n",
       "┠───┼───┼───┼───┼───┼───┼───┼───┼───┨                                                        \n",
       "┃14 │   │   │   │   │   │   │1 7│ 47┃                                                        \n",
       "┃   │ 2 │ 5 │ 8 │   │   │ 9 │   │   ┃                                                        \n",
       "┃   │ = │ = │ = │36 │36 │ = │   │   ┃                                                        \n",
       "┠───┼───┼───┼───┼───┼───┼───┼───┼───┨                                                        \n",
       "┃ 4 │   │   │   │   │   │   │   │ 4 ┃                                                        \n",
       "┃  8│   │   │ 7 │ 1 │2  │ 5 │2  │  8┃                                                        \n",
       "┃   │369│369│ = │ = │  9│ = │3  │   ┃                                                        \n",
       "┠───┼───┼───┼───┼───┼───┼───┼───┼───┨                                                        \n",
       "┃   │   │   │   │   │   │   │   │   ┃                                                        \n",
       "┃ 7 │ 5 │   │ 1 │   │  8│ 4 │2 8│ 3 ┃                                                        \n",
       "┃ = │ = │ 69│ = │ 69│ 6 │ = │   │ = ┃                                                        \n",
       "┠───┼───┼───┼───┼───┼───┼───┼───┼───┨                                                        \n",
       "┃   │ 4 │14 │   │   │  7│1 7│1 7│   ┃                                                        \n",
       "┃ 3 │  8│   │ 5 │2  │  8│   │  8│ 9 ┃                                                        \n",
       "┃ = │ 6 │ 6 │ = │ 6 │ 6 │   │   │ = ┃                                                        \n",
       "┠───┼───┼───┼───┼───┼───┼───┼───┼───┨                                                        \n",
       "┃   │   │1  │   │   │  7│1 7│   │   ┃                                                        \n",
       "┃ 2 │  8│   │ 4 │   │   │   │ 6 │ 5 ┃                                                        \n",
       "┃ = │  9│  9│ = │3 9│3  │   │ = │ = ┃                                                        \n",
       "┗━━━┷━━━┷━━━┷━━━┷━━━┷━━━┷━━━┷━━━┷━━━┛                                                        \n",
       "                                                                                             \n"
      ]
     },
     "metadata": {},
     "output_type": "display_data"
    },
    {
     "data": {
      "text/html": [
       "<pre style=\"white-space:pre;overflow-x:auto;line-height:normal;font-family:Menlo,'DejaVu Sans Mono',consolas,'Courier New',monospace\"><span style=\"color: #000080; text-decoration-color: #000080\">Step [0] - 12 (Normal)</span>                                                                       \n",
       "</pre>\n"
      ],
      "text/plain": [
       "\u001b[34mStep [0] - 12 (Normal)\u001b[0m                                                                       \n"
      ]
     },
     "metadata": {},
     "output_type": "display_data"
    },
    {
     "data": {
      "text/html": [
       "<pre style=\"white-space:pre;overflow-x:auto;line-height:normal;font-family:Menlo,'DejaVu Sans Mono',consolas,'Courier New',monospace\">Sudoku(9,9) - [108 rls, 270 ria, 82 gts, 411 gia]                                            \n",
       "</pre>\n"
      ],
      "text/plain": [
       "Sudoku(9,9) - [108 rls, 270 ria, 82 gts, 411 gia]                                            \n"
      ]
     },
     "metadata": {},
     "output_type": "display_data"
    },
    {
     "data": {
      "text/html": [
       "<pre style=\"white-space:pre;overflow-x:auto;line-height:normal;font-family:Menlo,'DejaVu Sans Mono',consolas,'Courier New',monospace\">┏━━━┯━━━┯━━━┯━━━┯━━━┯━━━┯━━━┯━━━┯━━━┓                                                        \n",
       "┃   │ 4 │ 4 │   │   │   │   │   │   ┃                                                        \n",
       "┃ 5 │   │   │ 6 │ 7 │ 1 │ 8 │ 9 │ 2 ┃                                                        \n",
       "┃ = │3  │3  │ = │ = │ = │ = │ = │ = ┃                                                        \n",
       "┠───┼───┼───┼───┼───┼───┼───┼───┼───┨                                                        \n",
       "┃1  │1 7│   │   │   │   │  <span style=\"color: #ff0000; text-decoration-color: #ff0000\">7</span>│   │  7┃                                                        \n",
       "┃   │   │ 2 │   │ 8 │ 4 │   │ 5 │   ┃                                                        \n",
       "┃ 69│  9│ = │3 9│ = │ = │36 │ = │ 6 ┃                                                        \n",
       "┠───┼───┼───┼───┼───┼───┼───┼───┼───┨                                                        \n",
       "┃   │  7│   │   │   │   │  <span style=\"color: #ff0000; text-decoration-color: #ff0000\">7</span>│   │   ┃                                                        \n",
       "┃   │   │ 8 │2  │ 5 │2  │   │ 4 │ 1 ┃                                                        \n",
       "┃ 69│  9│ = │3 9│ = │  9│36 │ = │ = ┃                                                        \n",
       "┠───┼───┼───┼───┼───┼───┼───┼───┼───┨                                                        \n",
       "┃1  │1  │   │   │   │   │<span style=\"color: #ff0000; text-decoration-color: #ff0000\">1</span>  │1  │   ┃                                                        \n",
       "┃  8│   │ 7 │2  │ 4 │ 5 │<span style=\"color: #ff0000; text-decoration-color: #ff0000\">2</span><span style=\"color: #0000ff; text-decoration-color: #0000ff\">2</span> │2  │  8┃                                                        \n",
       "┃  9│3 9│ = │  9│ = │ = │ <span style=\"color: #00ff00; text-decoration-color: #00ff00\">=</span> │3  │ 6 ┃                                                        \n",
       "┠───┼───┼───┼───┼───┼───┼───┼───┼───┨                                                        \n",
       "┃14 │   │   │   │   │   │   │1 7│ 47┃                                                        \n",
       "┃   │ 2 │ 5 │ 8 │   │   │ 9 │   │   ┃                                                        \n",
       "┃   │ = │ = │ = │36 │36 │ = │   │   ┃                                                        \n",
       "┠───┼───┼───┼───┼───┼───┼───┼───┼───┨                                                        \n",
       "┃ 4 │   │   │   │   │   │   │   │ 4 ┃                                                        \n",
       "┃  8│   │   │ 7 │ 1 │2  │ 5 │2  │  8┃                                                        \n",
       "┃   │369│369│ = │ = │  9│ = │3  │   ┃                                                        \n",
       "┠───┼───┼───┼───┼───┼───┼───┼───┼───┨                                                        \n",
       "┃   │   │   │   │   │   │   │   │   ┃                                                        \n",
       "┃ 7 │ 5 │   │ 1 │   │ <span style=\"color: #0000ff; text-decoration-color: #0000ff\">8</span><span style=\"color: #ff0000; text-decoration-color: #ff0000\">8</span>│ 4 │<span style=\"color: #ff0000; text-decoration-color: #ff0000\">2</span><span style=\"color: #0000ff; text-decoration-color: #0000ff\">2</span><span style=\"color: #ff0000; text-decoration-color: #ff0000\">8</span>│ 3 ┃                                                        \n",
       "┃ = │ = │ 69│ = │ 69│ <span style=\"color: #00ff00; text-decoration-color: #00ff00\">=</span> │ = │ <span style=\"color: #00ff00; text-decoration-color: #00ff00\">=</span> │ = ┃                                                        \n",
       "┠───┼───┼───┼───┼───┼───┼───┼───┼───┨                                                        \n",
       "┃   │ 4 │14 │   │   │  7│1 7│<span style=\"color: #ff0000; text-decoration-color: #ff0000\">1</span> <span style=\"color: #ff0000; text-decoration-color: #ff0000\">7</span>│   ┃                                                        \n",
       "┃ 3 │  8│   │ 5 │<span style=\"color: #ff0000; text-decoration-color: #ff0000\">2</span><span style=\"color: #0000ff; text-decoration-color: #0000ff\">2</span> │  8│   │ <span style=\"color: #0000ff; text-decoration-color: #0000ff\">8</span><span style=\"color: #ff0000; text-decoration-color: #ff0000\">8</span>│ 9 ┃                                                        \n",
       "┃ = │ 6 │ 6 │ = │ <span style=\"color: #00ff00; text-decoration-color: #00ff00\">=</span> │ 6 │   │ <span style=\"color: #00ff00; text-decoration-color: #00ff00\">=</span> │ = ┃                                                        \n",
       "┠───┼───┼───┼───┼───┼───┼───┼───┼───┨                                                        \n",
       "┃   │   │1  │   │   │  7│1 7│   │   ┃                                                        \n",
       "┃ 2 │ <span style=\"color: #0000ff; text-decoration-color: #0000ff\">8</span><span style=\"color: #ff0000; text-decoration-color: #ff0000\">8</span>│   │ 4 │   │   │   │ 6 │ 5 ┃                                                        \n",
       "┃ = │ <span style=\"color: #00ff00; text-decoration-color: #00ff00\">=</span><span style=\"color: #ff0000; text-decoration-color: #ff0000\">9</span>│  9│ = │3 9│3  │   │ = │ = ┃                                                        \n",
       "┗━━━┷━━━┷━━━┷━━━┷━━━┷━━━┷━━━┷━━━┷━━━┛                                                        \n",
       "                                                                                             \n",
       "</pre>\n"
      ],
      "text/plain": [
       "┏━━━┯━━━┯━━━┯━━━┯━━━┯━━━┯━━━┯━━━┯━━━┓                                                        \n",
       "┃   │ 4 │ 4 │   │   │   │   │   │   ┃                                                        \n",
       "┃ 5 │   │   │ 6 │ 7 │ 1 │ 8 │ 9 │ 2 ┃                                                        \n",
       "┃ = │3  │3  │ = │ = │ = │ = │ = │ = ┃                                                        \n",
       "┠───┼───┼───┼───┼───┼───┼───┼───┼───┨                                                        \n",
       "┃1  │1 7│   │   │   │   │  \u001b[91m7\u001b[0m│   │  7┃                                                        \n",
       "┃   │   │ 2 │   │ 8 │ 4 │   │ 5 │   ┃                                                        \n",
       "┃ 69│  9│ = │3 9│ = │ = │36 │ = │ 6 ┃                                                        \n",
       "┠───┼───┼───┼───┼───┼───┼───┼───┼───┨                                                        \n",
       "┃   │  7│   │   │   │   │  \u001b[91m7\u001b[0m│   │   ┃                                                        \n",
       "┃   │   │ 8 │2  │ 5 │2  │   │ 4 │ 1 ┃                                                        \n",
       "┃ 69│  9│ = │3 9│ = │  9│36 │ = │ = ┃                                                        \n",
       "┠───┼───┼───┼───┼───┼───┼───┼───┼───┨                                                        \n",
       "┃1  │1  │   │   │   │   │\u001b[91m1\u001b[0m  │1  │   ┃                                                        \n",
       "┃  8│   │ 7 │2  │ 4 │ 5 │\u001b[91m2\u001b[0m\u001b[94m2\u001b[0m │2  │  8┃                                                        \n",
       "┃  9│3 9│ = │  9│ = │ = │ \u001b[92m=\u001b[0m │3  │ 6 ┃                                                        \n",
       "┠───┼───┼───┼───┼───┼───┼───┼───┼───┨                                                        \n",
       "┃14 │   │   │   │   │   │   │1 7│ 47┃                                                        \n",
       "┃   │ 2 │ 5 │ 8 │   │   │ 9 │   │   ┃                                                        \n",
       "┃   │ = │ = │ = │36 │36 │ = │   │   ┃                                                        \n",
       "┠───┼───┼───┼───┼───┼───┼───┼───┼───┨                                                        \n",
       "┃ 4 │   │   │   │   │   │   │   │ 4 ┃                                                        \n",
       "┃  8│   │   │ 7 │ 1 │2  │ 5 │2  │  8┃                                                        \n",
       "┃   │369│369│ = │ = │  9│ = │3  │   ┃                                                        \n",
       "┠───┼───┼───┼───┼───┼───┼───┼───┼───┨                                                        \n",
       "┃   │   │   │   │   │   │   │   │   ┃                                                        \n",
       "┃ 7 │ 5 │   │ 1 │   │ \u001b[94m8\u001b[0m\u001b[91m8\u001b[0m│ 4 │\u001b[91m2\u001b[0m\u001b[94m2\u001b[0m\u001b[91m8\u001b[0m│ 3 ┃                                                        \n",
       "┃ = │ = │ 69│ = │ 69│ \u001b[92m=\u001b[0m │ = │ \u001b[92m=\u001b[0m │ = ┃                                                        \n",
       "┠───┼───┼───┼───┼───┼───┼───┼───┼───┨                                                        \n",
       "┃   │ 4 │14 │   │   │  7│1 7│\u001b[91m1\u001b[0m \u001b[91m7\u001b[0m│   ┃                                                        \n",
       "┃ 3 │  8│   │ 5 │\u001b[91m2\u001b[0m\u001b[94m2\u001b[0m │  8│   │ \u001b[94m8\u001b[0m\u001b[91m8\u001b[0m│ 9 ┃                                                        \n",
       "┃ = │ 6 │ 6 │ = │ \u001b[92m=\u001b[0m │ 6 │   │ \u001b[92m=\u001b[0m │ = ┃                                                        \n",
       "┠───┼───┼───┼───┼───┼───┼───┼───┼───┨                                                        \n",
       "┃   │   │1  │   │   │  7│1 7│   │   ┃                                                        \n",
       "┃ 2 │ \u001b[94m8\u001b[0m\u001b[91m8\u001b[0m│   │ 4 │   │   │   │ 6 │ 5 ┃                                                        \n",
       "┃ = │ \u001b[92m=\u001b[0m\u001b[91m9\u001b[0m│  9│ = │3 9│3  │   │ = │ = ┃                                                        \n",
       "┗━━━┷━━━┷━━━┷━━━┷━━━┷━━━┷━━━┷━━━┷━━━┛                                                        \n",
       "                                                                                             \n"
      ]
     },
     "metadata": {},
     "output_type": "display_data"
    },
    {
     "data": {
      "text/html": [
       "<pre style=\"white-space:pre;overflow-x:auto;line-height:normal;font-family:Menlo,'DejaVu Sans Mono',consolas,'Courier New',monospace\"><span style=\"color: #000080; text-decoration-color: #000080\">Step [0] - 13 (Normal)</span>                                                                       \n",
       "</pre>\n"
      ],
      "text/plain": [
       "\u001b[34mStep [0] - 13 (Normal)\u001b[0m                                                                       \n"
      ]
     },
     "metadata": {},
     "output_type": "display_data"
    },
    {
     "data": {
      "text/html": [
       "<pre style=\"white-space:pre;overflow-x:auto;line-height:normal;font-family:Menlo,'DejaVu Sans Mono',consolas,'Courier New',monospace\">Sudoku(9,9) - [108 rls, 270 ria, 58 gts, 449 gia]                                            \n",
       "</pre>\n"
      ],
      "text/plain": [
       "Sudoku(9,9) - [108 rls, 270 ria, 58 gts, 449 gia]                                            \n"
      ]
     },
     "metadata": {},
     "output_type": "display_data"
    },
    {
     "data": {
      "text/html": [
       "<pre style=\"white-space:pre;overflow-x:auto;line-height:normal;font-family:Menlo,'DejaVu Sans Mono',consolas,'Courier New',monospace\">┏━━━┯━━━┯━━━┯━━━┯━━━┯━━━┯━━━┯━━━┯━━━┓                                                        \n",
       "┃   │ 4 │ 4 │   │   │   │   │   │   ┃                                                        \n",
       "┃ 5 │   │   │ 6 │ 7 │ 1 │ 8 │ 9 │ 2 ┃                                                        \n",
       "┃ = │3  │3  │ = │ = │ = │ = │ = │ = ┃                                                        \n",
       "┠───┼───┼───┼───┼───┼───┼───┼───┼───┨                                                        \n",
       "┃<span style=\"color: #ff0000; text-decoration-color: #ff0000\">1</span>  │<span style=\"color: #ff0000; text-decoration-color: #ff0000\">1</span> <span style=\"color: #ff0000; text-decoration-color: #ff0000\">7</span>│   │   │   │   │   │   │  <span style=\"color: #ff0000; text-decoration-color: #ff0000\">7</span>┃                                                        \n",
       "┃   │ <span style=\"color: #0000ff; text-decoration-color: #0000ff\">1</span> │ 2 │   │ 8 │ 4 │   │ 5 │ <span style=\"color: #0000ff; text-decoration-color: #0000ff\">7</span> ┃                                                        \n",
       "┃ 69│ <span style=\"color: #00ff00; text-decoration-color: #00ff00\">=</span><span style=\"color: #ff0000; text-decoration-color: #ff0000\">9</span>│ = │3 9│ = │ = │36 │ = │ <span style=\"color: #00ff00; text-decoration-color: #00ff00\">=</span> ┃                                                        \n",
       "┠───┼───┼───┼───┼───┼───┼───┼───┼───┨                                                        \n",
       "┃   │  7│   │   │   │   │   │   │   ┃                                                        \n",
       "┃   │   │ 8 │2  │ 5 │2  │   │ 4 │ 1 ┃                                                        \n",
       "┃ 69│  9│ = │3 9│ = │  9│36 │ = │ = ┃                                                        \n",
       "┠───┼───┼───┼───┼───┼───┼───┼───┼───┨                                                        \n",
       "┃<span style=\"color: #ff0000; text-decoration-color: #ff0000\">1</span>  │<span style=\"color: #ff0000; text-decoration-color: #ff0000\">1</span>  │   │   │   │   │   │1  │   ┃                                                        \n",
       "┃ <span style=\"color: #0000ff; text-decoration-color: #0000ff\">8</span><span style=\"color: #ff0000; text-decoration-color: #ff0000\">8</span>│   │ 7 │<span style=\"color: #ff0000; text-decoration-color: #ff0000\">2</span><span style=\"color: #0000ff; text-decoration-color: #0000ff\">9</span> │ 4 │ 5 │ 2 │<span style=\"color: #ff0000; text-decoration-color: #ff0000\">2</span>  │  8┃                                                        \n",
       "┃ <span style=\"color: #00ff00; text-decoration-color: #00ff00\">=</span><span style=\"color: #ff0000; text-decoration-color: #ff0000\">9</span>│3 9│ = │ <span style=\"color: #00ff00; text-decoration-color: #00ff00\">=</span><span style=\"color: #ff0000; text-decoration-color: #ff0000\">9</span>│ = │ = │ = │3  │ 6 ┃                                                        \n",
       "┠───┼───┼───┼───┼───┼───┼───┼───┼───┨                                                        \n",
       "┃<span style=\"color: #ff0000; text-decoration-color: #ff0000\">14</span> │   │   │   │   │   │   │<span style=\"color: #ff0000; text-decoration-color: #ff0000\">1</span> <span style=\"color: #ff0000; text-decoration-color: #ff0000\">7</span>│ <span style=\"color: #ff0000; text-decoration-color: #ff0000\">47</span>┃                                                        \n",
       "┃ <span style=\"color: #0000ff; text-decoration-color: #0000ff\">1</span> │ 2 │ 5 │ 8 │   │   │ 9 │ <span style=\"color: #0000ff; text-decoration-color: #0000ff\">7</span> │ <span style=\"color: #0000ff; text-decoration-color: #0000ff\">4</span> ┃                                                        \n",
       "┃ <span style=\"color: #00ff00; text-decoration-color: #00ff00\">=</span> │ = │ = │ = │36 │36 │ = │ <span style=\"color: #00ff00; text-decoration-color: #00ff00\">=</span> │ <span style=\"color: #00ff00; text-decoration-color: #00ff00\">=</span> ┃                                                        \n",
       "┠───┼───┼───┼───┼───┼───┼───┼───┼───┨                                                        \n",
       "┃ <span style=\"color: #ff0000; text-decoration-color: #ff0000\">4</span> │   │   │   │   │   │   │   │ 4 ┃                                                        \n",
       "┃ <span style=\"color: #0000ff; text-decoration-color: #0000ff\">4</span><span style=\"color: #ff0000; text-decoration-color: #ff0000\">8</span>│   │   │ 7 │ 1 │2  │ 5 │<span style=\"color: #ff0000; text-decoration-color: #ff0000\">2</span><span style=\"color: #0000ff; text-decoration-color: #0000ff\">3</span> │  8┃                                                        \n",
       "┃ <span style=\"color: #00ff00; text-decoration-color: #00ff00\">=</span> │369│36<span style=\"color: #ff0000; text-decoration-color: #ff0000\">9</span>│ = │ = │  9│ = │<span style=\"color: #ff0000; text-decoration-color: #ff0000\">3</span><span style=\"color: #00ff00; text-decoration-color: #00ff00\">=</span> │   ┃                                                        \n",
       "┠───┼───┼───┼───┼───┼───┼───┼───┼───┨                                                        \n",
       "┃   │   │   │   │   │   │   │   │   ┃                                                        \n",
       "┃ 7 │ 5 │   │ 1 │   │ 8 │ 4 │ 2 │ 3 ┃                                                        \n",
       "┃ = │ = │ 69│ = │ 69│ = │ = │ = │ = ┃                                                        \n",
       "┠───┼───┼───┼───┼───┼───┼───┼───┼───┨                                                        \n",
       "┃   │ 4 │14 │   │   │  7│1 7│   │   ┃                                                        \n",
       "┃ 3 │  <span style=\"color: #ff0000; text-decoration-color: #ff0000\">8</span>│   │ 5 │ 2 │  <span style=\"color: #ff0000; text-decoration-color: #ff0000\">8</span>│   │ 8 │ 9 ┃                                                        \n",
       "┃ = │ 6 │ 6 │ = │ = │ 6 │   │ = │ = ┃                                                        \n",
       "┠───┼───┼───┼───┼───┼───┼───┼───┼───┨                                                        \n",
       "┃   │   │1  │   │   │  7│1 7│   │   ┃                                                        \n",
       "┃ 2 │ 8 │   │ 4 │   │   │   │ 6 │ 5 ┃                                                        \n",
       "┃ = │ = │  9│ = │3 9│3  │   │ = │ = ┃                                                        \n",
       "┗━━━┷━━━┷━━━┷━━━┷━━━┷━━━┷━━━┷━━━┷━━━┛                                                        \n",
       "                                                                                             \n",
       "</pre>\n"
      ],
      "text/plain": [
       "┏━━━┯━━━┯━━━┯━━━┯━━━┯━━━┯━━━┯━━━┯━━━┓                                                        \n",
       "┃   │ 4 │ 4 │   │   │   │   │   │   ┃                                                        \n",
       "┃ 5 │   │   │ 6 │ 7 │ 1 │ 8 │ 9 │ 2 ┃                                                        \n",
       "┃ = │3  │3  │ = │ = │ = │ = │ = │ = ┃                                                        \n",
       "┠───┼───┼───┼───┼───┼───┼───┼───┼───┨                                                        \n",
       "┃\u001b[91m1\u001b[0m  │\u001b[91m1\u001b[0m \u001b[91m7\u001b[0m│   │   │   │   │   │   │  \u001b[91m7\u001b[0m┃                                                        \n",
       "┃   │ \u001b[94m1\u001b[0m │ 2 │   │ 8 │ 4 │   │ 5 │ \u001b[94m7\u001b[0m ┃                                                        \n",
       "┃ 69│ \u001b[92m=\u001b[0m\u001b[91m9\u001b[0m│ = │3 9│ = │ = │36 │ = │ \u001b[92m=\u001b[0m ┃                                                        \n",
       "┠───┼───┼───┼───┼───┼───┼───┼───┼───┨                                                        \n",
       "┃   │  7│   │   │   │   │   │   │   ┃                                                        \n",
       "┃   │   │ 8 │2  │ 5 │2  │   │ 4 │ 1 ┃                                                        \n",
       "┃ 69│  9│ = │3 9│ = │  9│36 │ = │ = ┃                                                        \n",
       "┠───┼───┼───┼───┼───┼───┼───┼───┼───┨                                                        \n",
       "┃\u001b[91m1\u001b[0m  │\u001b[91m1\u001b[0m  │   │   │   │   │   │1  │   ┃                                                        \n",
       "┃ \u001b[94m8\u001b[0m\u001b[91m8\u001b[0m│   │ 7 │\u001b[91m2\u001b[0m\u001b[94m9\u001b[0m │ 4 │ 5 │ 2 │\u001b[91m2\u001b[0m  │  8┃                                                        \n",
       "┃ \u001b[92m=\u001b[0m\u001b[91m9\u001b[0m│3 9│ = │ \u001b[92m=\u001b[0m\u001b[91m9\u001b[0m│ = │ = │ = │3  │ 6 ┃                                                        \n",
       "┠───┼───┼───┼───┼───┼───┼───┼───┼───┨                                                        \n",
       "┃\u001b[91m1\u001b[0m\u001b[91m4\u001b[0m │   │   │   │   │   │   │\u001b[91m1\u001b[0m \u001b[91m7\u001b[0m│ \u001b[91m4\u001b[0m\u001b[91m7\u001b[0m┃                                                        \n",
       "┃ \u001b[94m1\u001b[0m │ 2 │ 5 │ 8 │   │   │ 9 │ \u001b[94m7\u001b[0m │ \u001b[94m4\u001b[0m ┃                                                        \n",
       "┃ \u001b[92m=\u001b[0m │ = │ = │ = │36 │36 │ = │ \u001b[92m=\u001b[0m │ \u001b[92m=\u001b[0m ┃                                                        \n",
       "┠───┼───┼───┼───┼───┼───┼───┼───┼───┨                                                        \n",
       "┃ \u001b[91m4\u001b[0m │   │   │   │   │   │   │   │ 4 ┃                                                        \n",
       "┃ \u001b[94m4\u001b[0m\u001b[91m8\u001b[0m│   │   │ 7 │ 1 │2  │ 5 │\u001b[91m2\u001b[0m\u001b[94m3\u001b[0m │  8┃                                                        \n",
       "┃ \u001b[92m=\u001b[0m │369│36\u001b[91m9\u001b[0m│ = │ = │  9│ = │\u001b[91m3\u001b[0m\u001b[92m=\u001b[0m │   ┃                                                        \n",
       "┠───┼───┼───┼───┼───┼───┼───┼───┼───┨                                                        \n",
       "┃   │   │   │   │   │   │   │   │   ┃                                                        \n",
       "┃ 7 │ 5 │   │ 1 │   │ 8 │ 4 │ 2 │ 3 ┃                                                        \n",
       "┃ = │ = │ 69│ = │ 69│ = │ = │ = │ = ┃                                                        \n",
       "┠───┼───┼───┼───┼───┼───┼───┼───┼───┨                                                        \n",
       "┃   │ 4 │14 │   │   │  7│1 7│   │   ┃                                                        \n",
       "┃ 3 │  \u001b[91m8\u001b[0m│   │ 5 │ 2 │  \u001b[91m8\u001b[0m│   │ 8 │ 9 ┃                                                        \n",
       "┃ = │ 6 │ 6 │ = │ = │ 6 │   │ = │ = ┃                                                        \n",
       "┠───┼───┼───┼───┼───┼───┼───┼───┼───┨                                                        \n",
       "┃   │   │1  │   │   │  7│1 7│   │   ┃                                                        \n",
       "┃ 2 │ 8 │   │ 4 │   │   │   │ 6 │ 5 ┃                                                        \n",
       "┃ = │ = │  9│ = │3 9│3  │   │ = │ = ┃                                                        \n",
       "┗━━━┷━━━┷━━━┷━━━┷━━━┷━━━┷━━━┷━━━┷━━━┛                                                        \n",
       "                                                                                             \n"
      ]
     },
     "metadata": {},
     "output_type": "display_data"
    },
    {
     "data": {
      "text/html": [
       "<pre style=\"white-space:pre;overflow-x:auto;line-height:normal;font-family:Menlo,'DejaVu Sans Mono',consolas,'Courier New',monospace\"><span style=\"color: #000080; text-decoration-color: #000080\">Step [0] - 14 (Normal)</span>                                                                       \n",
       "</pre>\n"
      ],
      "text/plain": [
       "\u001b[34mStep [0] - 14 (Normal)\u001b[0m                                                                       \n"
      ]
     },
     "metadata": {},
     "output_type": "display_data"
    },
    {
     "data": {
      "text/html": [
       "<pre style=\"white-space:pre;overflow-x:auto;line-height:normal;font-family:Menlo,'DejaVu Sans Mono',consolas,'Courier New',monospace\">Sudoku(9,9) - [105 rls, 273 ria, 36 gts, 473 gia]                                            \n",
       "</pre>\n"
      ],
      "text/plain": [
       "Sudoku(9,9) - [105 rls, 273 ria, 36 gts, 473 gia]                                            \n"
      ]
     },
     "metadata": {},
     "output_type": "display_data"
    },
    {
     "data": {
      "text/html": [
       "<pre style=\"white-space:pre;overflow-x:auto;line-height:normal;font-family:Menlo,'DejaVu Sans Mono',consolas,'Courier New',monospace\">┏━━━┯━━━┯━━━┯━━━┯━━━┯━━━┯━━━┯━━━┯━━━┓                                                        \n",
       "┃   │ <span style=\"color: #ff0000; text-decoration-color: #ff0000\">4</span> │ 4 │   │   │   │   │   │   ┃                                                        \n",
       "┃ 5 │ <span style=\"color: #0000ff; text-decoration-color: #0000ff\">4</span> │   │ 6 │ 7 │ 1 │ 8 │ 9 │ 2 ┃                                                        \n",
       "┃ = │<span style=\"color: #ff0000; text-decoration-color: #ff0000\">3</span><span style=\"color: #00ff00; text-decoration-color: #00ff00\">=</span> │3  │ = │ = │ = │ = │ = │ = ┃                                                        \n",
       "┠───┼───┼───┼───┼───┼───┼───┼───┼───┨                                                        \n",
       "┃   │   │   │   │   │   │   │   │   ┃                                                        \n",
       "┃   │ 1 │ 2 │ <span style=\"color: #0000ff; text-decoration-color: #0000ff\">3</span> │ 8 │ 4 │ <span style=\"color: #0000ff; text-decoration-color: #0000ff\">6</span> │ 5 │ 7 ┃                                                        \n",
       "┃ 69│ = │ = │<span style=\"color: #ff0000; text-decoration-color: #ff0000\">3</span><span style=\"color: #00ff00; text-decoration-color: #00ff00\">=</span><span style=\"color: #ff0000; text-decoration-color: #ff0000\">9</span>│ = │ = │<span style=\"color: #ff0000; text-decoration-color: #ff0000\">3</span><span style=\"color: #00ff00; text-decoration-color: #00ff00\">=</span> │ = │ = ┃                                                        \n",
       "┠───┼───┼───┼───┼───┼───┼───┼───┼───┨                                                        \n",
       "┃   │  <span style=\"color: #ff0000; text-decoration-color: #ff0000\">7</span>│   │   │   │   │   │   │   ┃                                                        \n",
       "┃   │ <span style=\"color: #0000ff; text-decoration-color: #0000ff\">7</span> │ 8 │<span style=\"color: #ff0000; text-decoration-color: #ff0000\">2</span><span style=\"color: #0000ff; text-decoration-color: #0000ff\">2</span> │ 5 │<span style=\"color: #ff0000; text-decoration-color: #ff0000\">2</span><span style=\"color: #0000ff; text-decoration-color: #0000ff\">9</span> │   │ 4 │ 1 ┃                                                        \n",
       "┃ 69│ <span style=\"color: #00ff00; text-decoration-color: #00ff00\">=</span><span style=\"color: #ff0000; text-decoration-color: #ff0000\">9</span>│ = │<span style=\"color: #ff0000; text-decoration-color: #ff0000\">3</span><span style=\"color: #00ff00; text-decoration-color: #00ff00\">=</span><span style=\"color: #ff0000; text-decoration-color: #ff0000\">9</span>│ = │ <span style=\"color: #00ff00; text-decoration-color: #00ff00\">=</span><span style=\"color: #ff0000; text-decoration-color: #ff0000\">9</span>│36 │ = │ = ┃                                                        \n",
       "┠───┼───┼───┼───┼───┼───┼───┼───┼───┨                                                        \n",
       "┃   │   │   │   │   │   │   │<span style=\"color: #ff0000; text-decoration-color: #ff0000\">1</span>  │   ┃                                                        \n",
       "┃ 8 │ <span style=\"color: #0000ff; text-decoration-color: #0000ff\">3</span> │ 7 │ 9 │ 4 │ 5 │ 2 │ <span style=\"color: #0000ff; text-decoration-color: #0000ff\">1</span> │ <span style=\"color: #0000ff; text-decoration-color: #0000ff\">6</span><span style=\"color: #ff0000; text-decoration-color: #ff0000\">8</span>┃                                                        \n",
       "┃ = │<span style=\"color: #ff0000; text-decoration-color: #ff0000\">3</span><span style=\"color: #00ff00; text-decoration-color: #00ff00\">=</span><span style=\"color: #ff0000; text-decoration-color: #ff0000\">9</span>│ = │ = │ = │ = │ = │<span style=\"color: #ff0000; text-decoration-color: #ff0000\">3</span><span style=\"color: #00ff00; text-decoration-color: #00ff00\">=</span> │ <span style=\"color: #00ff00; text-decoration-color: #00ff00\">=</span> ┃                                                        \n",
       "┠───┼───┼───┼───┼───┼───┼───┼───┼───┨                                                        \n",
       "┃   │   │   │   │   │   │   │   │   ┃                                                        \n",
       "┃ 1 │ 2 │ 5 │ 8 │   │   │ 9 │ 7 │ 4 ┃                                                        \n",
       "┃ = │ = │ = │ = │36 │36 │ = │ = │ = ┃                                                        \n",
       "┠───┼───┼───┼───┼───┼───┼───┼───┼───┨                                                        \n",
       "┃   │   │   │   │   │   │   │   │ <span style=\"color: #ff0000; text-decoration-color: #ff0000\">4</span> ┃                                                        \n",
       "┃ 4 │   │ <span style=\"color: #0000ff; text-decoration-color: #0000ff\">6</span> │ 7 │ 1 │<span style=\"color: #ff0000; text-decoration-color: #ff0000\">2</span><span style=\"color: #0000ff; text-decoration-color: #0000ff\">2</span> │ 5 │ 3 │ <span style=\"color: #0000ff; text-decoration-color: #0000ff\">8</span><span style=\"color: #ff0000; text-decoration-color: #ff0000\">8</span>┃                                                        \n",
       "┃ = │<span style=\"color: #ff0000; text-decoration-color: #ff0000\">3</span>69│<span style=\"color: #ff0000; text-decoration-color: #ff0000\">3</span><span style=\"color: #00ff00; text-decoration-color: #00ff00\">=</span> │ = │ = │ <span style=\"color: #00ff00; text-decoration-color: #00ff00\">=</span><span style=\"color: #ff0000; text-decoration-color: #ff0000\">9</span>│ = │ = │ <span style=\"color: #00ff00; text-decoration-color: #00ff00\">=</span> ┃                                                        \n",
       "┠───┼───┼───┼───┼───┼───┼───┼───┼───┨                                                        \n",
       "┃   │   │   │   │   │   │   │   │   ┃                                                        \n",
       "┃ 7 │ 5 │   │ 1 │   │ 8 │ 4 │ 2 │ 3 ┃                                                        \n",
       "┃ = │ = │ 69│ = │ 69│ = │ = │ = │ = ┃                                                        \n",
       "┠───┼───┼───┼───┼───┼───┼───┼───┼───┨                                                        \n",
       "┃   │ 4 │14 │   │   │  7│1 7│   │   ┃                                                        \n",
       "┃ 3 │   │   │ 5 │ 2 │   │   │ 8 │ 9 ┃                                                        \n",
       "┃ = │ 6 │ 6 │ = │ = │ 6 │   │ = │ = ┃                                                        \n",
       "┠───┼───┼───┼───┼───┼───┼───┼───┼───┨                                                        \n",
       "┃   │   │1  │   │   │  7│1 7│   │   ┃                                                        \n",
       "┃ 2 │ 8 │   │ 4 │   │   │   │ 6 │ 5 ┃                                                        \n",
       "┃ = │ = │  9│ = │3 9│3  │   │ = │ = ┃                                                        \n",
       "┗━━━┷━━━┷━━━┷━━━┷━━━┷━━━┷━━━┷━━━┷━━━┛                                                        \n",
       "                                                                                             \n",
       "</pre>\n"
      ],
      "text/plain": [
       "┏━━━┯━━━┯━━━┯━━━┯━━━┯━━━┯━━━┯━━━┯━━━┓                                                        \n",
       "┃   │ \u001b[91m4\u001b[0m │ 4 │   │   │   │   │   │   ┃                                                        \n",
       "┃ 5 │ \u001b[94m4\u001b[0m │   │ 6 │ 7 │ 1 │ 8 │ 9 │ 2 ┃                                                        \n",
       "┃ = │\u001b[91m3\u001b[0m\u001b[92m=\u001b[0m │3  │ = │ = │ = │ = │ = │ = ┃                                                        \n",
       "┠───┼───┼───┼───┼───┼───┼───┼───┼───┨                                                        \n",
       "┃   │   │   │   │   │   │   │   │   ┃                                                        \n",
       "┃   │ 1 │ 2 │ \u001b[94m3\u001b[0m │ 8 │ 4 │ \u001b[94m6\u001b[0m │ 5 │ 7 ┃                                                        \n",
       "┃ 69│ = │ = │\u001b[91m3\u001b[0m\u001b[92m=\u001b[0m\u001b[91m9\u001b[0m│ = │ = │\u001b[91m3\u001b[0m\u001b[92m=\u001b[0m │ = │ = ┃                                                        \n",
       "┠───┼───┼───┼───┼───┼───┼───┼───┼───┨                                                        \n",
       "┃   │  \u001b[91m7\u001b[0m│   │   │   │   │   │   │   ┃                                                        \n",
       "┃   │ \u001b[94m7\u001b[0m │ 8 │\u001b[91m2\u001b[0m\u001b[94m2\u001b[0m │ 5 │\u001b[91m2\u001b[0m\u001b[94m9\u001b[0m │   │ 4 │ 1 ┃                                                        \n",
       "┃ 69│ \u001b[92m=\u001b[0m\u001b[91m9\u001b[0m│ = │\u001b[91m3\u001b[0m\u001b[92m=\u001b[0m\u001b[91m9\u001b[0m│ = │ \u001b[92m=\u001b[0m\u001b[91m9\u001b[0m│36 │ = │ = ┃                                                        \n",
       "┠───┼───┼───┼───┼───┼───┼───┼───┼───┨                                                        \n",
       "┃   │   │   │   │   │   │   │\u001b[91m1\u001b[0m  │   ┃                                                        \n",
       "┃ 8 │ \u001b[94m3\u001b[0m │ 7 │ 9 │ 4 │ 5 │ 2 │ \u001b[94m1\u001b[0m │ \u001b[94m6\u001b[0m\u001b[91m8\u001b[0m┃                                                        \n",
       "┃ = │\u001b[91m3\u001b[0m\u001b[92m=\u001b[0m\u001b[91m9\u001b[0m│ = │ = │ = │ = │ = │\u001b[91m3\u001b[0m\u001b[92m=\u001b[0m │ \u001b[92m=\u001b[0m ┃                                                        \n",
       "┠───┼───┼───┼───┼───┼───┼───┼───┼───┨                                                        \n",
       "┃   │   │   │   │   │   │   │   │   ┃                                                        \n",
       "┃ 1 │ 2 │ 5 │ 8 │   │   │ 9 │ 7 │ 4 ┃                                                        \n",
       "┃ = │ = │ = │ = │36 │36 │ = │ = │ = ┃                                                        \n",
       "┠───┼───┼───┼───┼───┼───┼───┼───┼───┨                                                        \n",
       "┃   │   │   │   │   │   │   │   │ \u001b[91m4\u001b[0m ┃                                                        \n",
       "┃ 4 │   │ \u001b[94m6\u001b[0m │ 7 │ 1 │\u001b[91m2\u001b[0m\u001b[94m2\u001b[0m │ 5 │ 3 │ \u001b[94m8\u001b[0m\u001b[91m8\u001b[0m┃                                                        \n",
       "┃ = │\u001b[91m3\u001b[0m69│\u001b[91m3\u001b[0m\u001b[92m=\u001b[0m │ = │ = │ \u001b[92m=\u001b[0m\u001b[91m9\u001b[0m│ = │ = │ \u001b[92m=\u001b[0m ┃                                                        \n",
       "┠───┼───┼───┼───┼───┼───┼───┼───┼───┨                                                        \n",
       "┃   │   │   │   │   │   │   │   │   ┃                                                        \n",
       "┃ 7 │ 5 │   │ 1 │   │ 8 │ 4 │ 2 │ 3 ┃                                                        \n",
       "┃ = │ = │ 69│ = │ 69│ = │ = │ = │ = ┃                                                        \n",
       "┠───┼───┼───┼───┼───┼───┼───┼───┼───┨                                                        \n",
       "┃   │ 4 │14 │   │   │  7│1 7│   │   ┃                                                        \n",
       "┃ 3 │   │   │ 5 │ 2 │   │   │ 8 │ 9 ┃                                                        \n",
       "┃ = │ 6 │ 6 │ = │ = │ 6 │   │ = │ = ┃                                                        \n",
       "┠───┼───┼───┼───┼───┼───┼───┼───┼───┨                                                        \n",
       "┃   │   │1  │   │   │  7│1 7│   │   ┃                                                        \n",
       "┃ 2 │ 8 │   │ 4 │   │   │   │ 6 │ 5 ┃                                                        \n",
       "┃ = │ = │  9│ = │3 9│3  │   │ = │ = ┃                                                        \n",
       "┗━━━┷━━━┷━━━┷━━━┷━━━┷━━━┷━━━┷━━━┷━━━┛                                                        \n",
       "                                                                                             \n"
      ]
     },
     "metadata": {},
     "output_type": "display_data"
    },
    {
     "data": {
      "text/html": [
       "<pre style=\"white-space:pre;overflow-x:auto;line-height:normal;font-family:Menlo,'DejaVu Sans Mono',consolas,'Courier New',monospace\"><span style=\"color: #000080; text-decoration-color: #000080\">Step [0] - 15 (Normal)</span>                                                                       \n",
       "</pre>\n"
      ],
      "text/plain": [
       "\u001b[34mStep [0] - 15 (Normal)\u001b[0m                                                                       \n"
      ]
     },
     "metadata": {},
     "output_type": "display_data"
    },
    {
     "data": {
      "text/html": [
       "<pre style=\"white-space:pre;overflow-x:auto;line-height:normal;font-family:Menlo,'DejaVu Sans Mono',consolas,'Courier New',monospace\">Sudoku(9,9) - [87 rls, 291 ria, 19 gts, 490 gia]                                             \n",
       "</pre>\n"
      ],
      "text/plain": [
       "Sudoku(9,9) - [87 rls, 291 ria, 19 gts, 490 gia]                                             \n"
      ]
     },
     "metadata": {},
     "output_type": "display_data"
    },
    {
     "data": {
      "text/html": [
       "<pre style=\"white-space:pre;overflow-x:auto;line-height:normal;font-family:Menlo,'DejaVu Sans Mono',consolas,'Courier New',monospace\">┏━━━┯━━━┯━━━┯━━━┯━━━┯━━━┯━━━┯━━━┯━━━┓                                                        \n",
       "┃   │   │ <span style=\"color: #ff0000; text-decoration-color: #ff0000\">4</span> │   │   │   │   │   │   ┃                                                        \n",
       "┃ 5 │ 4 │ <span style=\"color: #0000ff; text-decoration-color: #0000ff\">3</span> │ 6 │ 7 │ 1 │ 8 │ 9 │ 2 ┃                                                        \n",
       "┃ = │ = │<span style=\"color: #ff0000; text-decoration-color: #ff0000\">3</span><span style=\"color: #00ff00; text-decoration-color: #00ff00\">=</span> │ = │ = │ = │ = │ = │ = ┃                                                        \n",
       "┠───┼───┼───┼───┼───┼───┼───┼───┼───┨                                                        \n",
       "┃   │   │   │   │   │   │   │   │   ┃                                                        \n",
       "┃ <span style=\"color: #0000ff; text-decoration-color: #0000ff\">9</span> │ 1 │ 2 │ 3 │ 8 │ 4 │ 6 │ 5 │ 7 ┃                                                        \n",
       "┃ <span style=\"color: #00ff00; text-decoration-color: #00ff00\">=</span><span style=\"color: #ff0000; text-decoration-color: #ff0000\">9</span>│ = │ = │ = │ = │ = │ = │ = │ = ┃                                                        \n",
       "┠───┼───┼───┼───┼───┼───┼───┼───┼───┨                                                        \n",
       "┃   │   │   │   │   │   │   │   │   ┃                                                        \n",
       "┃ <span style=\"color: #0000ff; text-decoration-color: #0000ff\">6</span> │ 7 │ 8 │ 2 │ 5 │ 9 │ <span style=\"color: #0000ff; text-decoration-color: #0000ff\">3</span> │ 4 │ 1 ┃                                                        \n",
       "┃ <span style=\"color: #00ff00; text-decoration-color: #00ff00\">=</span><span style=\"color: #ff0000; text-decoration-color: #ff0000\">9</span>│ = │ = │ = │ = │ = │<span style=\"color: #ff0000; text-decoration-color: #ff0000\">3</span><span style=\"color: #00ff00; text-decoration-color: #00ff00\">=</span> │ = │ = ┃                                                        \n",
       "┠───┼───┼───┼───┼───┼───┼───┼───┼───┨                                                        \n",
       "┃   │   │   │   │   │   │   │   │   ┃                                                        \n",
       "┃ 8 │ 3 │ 7 │ 9 │ 4 │ 5 │ 2 │ 1 │ 6 ┃                                                        \n",
       "┃ = │ = │ = │ = │ = │ = │ = │ = │ = ┃                                                        \n",
       "┠───┼───┼───┼───┼───┼───┼───┼───┼───┨                                                        \n",
       "┃   │   │   │   │   │   │   │   │   ┃                                                        \n",
       "┃ 1 │ 2 │ 5 │ 8 │   │   │ 9 │ 7 │ 4 ┃                                                        \n",
       "┃ = │ = │ = │ = │36 │36 │ = │ = │ = ┃                                                        \n",
       "┠───┼───┼───┼───┼───┼───┼───┼───┼───┨                                                        \n",
       "┃   │   │   │   │   │   │   │   │   ┃                                                        \n",
       "┃ 4 │ <span style=\"color: #0000ff; text-decoration-color: #0000ff\">9</span> │ 6 │ 7 │ 1 │ 2 │ 5 │ 3 │ 8 ┃                                                        \n",
       "┃ = │ <span style=\"color: #00ff00; text-decoration-color: #00ff00\">=</span><span style=\"color: #ff0000; text-decoration-color: #ff0000\">9</span>│ = │ = │ = │ = │ = │ = │ = ┃                                                        \n",
       "┠───┼───┼───┼───┼───┼───┼───┼───┼───┨                                                        \n",
       "┃   │   │   │   │   │   │   │   │   ┃                                                        \n",
       "┃ 7 │ 5 │ <span style=\"color: #0000ff; text-decoration-color: #0000ff\">9</span> │ 1 │   │ 8 │ 4 │ 2 │ 3 ┃                                                        \n",
       "┃ = │ = │ <span style=\"color: #00ff00; text-decoration-color: #00ff00\">=</span><span style=\"color: #ff0000; text-decoration-color: #ff0000\">9</span>│ = │ 69│ = │ = │ = │ = ┃                                                        \n",
       "┠───┼───┼───┼───┼───┼───┼───┼───┼───┨                                                        \n",
       "┃   │ <span style=\"color: #ff0000; text-decoration-color: #ff0000\">4</span> │14 │   │   │  7│1 7│   │   ┃                                                        \n",
       "┃ 3 │ <span style=\"color: #0000ff; text-decoration-color: #0000ff\">6</span> │   │ 5 │ 2 │   │   │ 8 │ 9 ┃                                                        \n",
       "┃ = │ <span style=\"color: #00ff00; text-decoration-color: #00ff00\">=</span> │ <span style=\"color: #ff0000; text-decoration-color: #ff0000\">6</span> │ = │ = │ 6 │   │ = │ = ┃                                                        \n",
       "┠───┼───┼───┼───┼───┼───┼───┼───┼───┨                                                        \n",
       "┃   │   │1  │   │   │  7│1 7│   │   ┃                                                        \n",
       "┃ 2 │ 8 │   │ 4 │   │   │   │ 6 │ 5 ┃                                                        \n",
       "┃ = │ = │  9│ = │3 9│3  │   │ = │ = ┃                                                        \n",
       "┗━━━┷━━━┷━━━┷━━━┷━━━┷━━━┷━━━┷━━━┷━━━┛                                                        \n",
       "                                                                                             \n",
       "</pre>\n"
      ],
      "text/plain": [
       "┏━━━┯━━━┯━━━┯━━━┯━━━┯━━━┯━━━┯━━━┯━━━┓                                                        \n",
       "┃   │   │ \u001b[91m4\u001b[0m │   │   │   │   │   │   ┃                                                        \n",
       "┃ 5 │ 4 │ \u001b[94m3\u001b[0m │ 6 │ 7 │ 1 │ 8 │ 9 │ 2 ┃                                                        \n",
       "┃ = │ = │\u001b[91m3\u001b[0m\u001b[92m=\u001b[0m │ = │ = │ = │ = │ = │ = ┃                                                        \n",
       "┠───┼───┼───┼───┼───┼───┼───┼───┼───┨                                                        \n",
       "┃   │   │   │   │   │   │   │   │   ┃                                                        \n",
       "┃ \u001b[94m9\u001b[0m │ 1 │ 2 │ 3 │ 8 │ 4 │ 6 │ 5 │ 7 ┃                                                        \n",
       "┃ \u001b[92m=\u001b[0m\u001b[91m9\u001b[0m│ = │ = │ = │ = │ = │ = │ = │ = ┃                                                        \n",
       "┠───┼───┼───┼───┼───┼───┼───┼───┼───┨                                                        \n",
       "┃   │   │   │   │   │   │   │   │   ┃                                                        \n",
       "┃ \u001b[94m6\u001b[0m │ 7 │ 8 │ 2 │ 5 │ 9 │ \u001b[94m3\u001b[0m │ 4 │ 1 ┃                                                        \n",
       "┃ \u001b[92m=\u001b[0m\u001b[91m9\u001b[0m│ = │ = │ = │ = │ = │\u001b[91m3\u001b[0m\u001b[92m=\u001b[0m │ = │ = ┃                                                        \n",
       "┠───┼───┼───┼───┼───┼───┼───┼───┼───┨                                                        \n",
       "┃   │   │   │   │   │   │   │   │   ┃                                                        \n",
       "┃ 8 │ 3 │ 7 │ 9 │ 4 │ 5 │ 2 │ 1 │ 6 ┃                                                        \n",
       "┃ = │ = │ = │ = │ = │ = │ = │ = │ = ┃                                                        \n",
       "┠───┼───┼───┼───┼───┼───┼───┼───┼───┨                                                        \n",
       "┃   │   │   │   │   │   │   │   │   ┃                                                        \n",
       "┃ 1 │ 2 │ 5 │ 8 │   │   │ 9 │ 7 │ 4 ┃                                                        \n",
       "┃ = │ = │ = │ = │36 │36 │ = │ = │ = ┃                                                        \n",
       "┠───┼───┼───┼───┼───┼───┼───┼───┼───┨                                                        \n",
       "┃   │   │   │   │   │   │   │   │   ┃                                                        \n",
       "┃ 4 │ \u001b[94m9\u001b[0m │ 6 │ 7 │ 1 │ 2 │ 5 │ 3 │ 8 ┃                                                        \n",
       "┃ = │ \u001b[92m=\u001b[0m\u001b[91m9\u001b[0m│ = │ = │ = │ = │ = │ = │ = ┃                                                        \n",
       "┠───┼───┼───┼───┼───┼───┼───┼───┼───┨                                                        \n",
       "┃   │   │   │   │   │   │   │   │   ┃                                                        \n",
       "┃ 7 │ 5 │ \u001b[94m9\u001b[0m │ 1 │   │ 8 │ 4 │ 2 │ 3 ┃                                                        \n",
       "┃ = │ = │ \u001b[92m=\u001b[0m\u001b[91m9\u001b[0m│ = │ 69│ = │ = │ = │ = ┃                                                        \n",
       "┠───┼───┼───┼───┼───┼───┼───┼───┼───┨                                                        \n",
       "┃   │ \u001b[91m4\u001b[0m │14 │   │   │  7│1 7│   │   ┃                                                        \n",
       "┃ 3 │ \u001b[94m6\u001b[0m │   │ 5 │ 2 │   │   │ 8 │ 9 ┃                                                        \n",
       "┃ = │ \u001b[92m=\u001b[0m │ \u001b[91m6\u001b[0m │ = │ = │ 6 │   │ = │ = ┃                                                        \n",
       "┠───┼───┼───┼───┼───┼───┼───┼───┼───┨                                                        \n",
       "┃   │   │1  │   │   │  7│1 7│   │   ┃                                                        \n",
       "┃ 2 │ 8 │   │ 4 │   │   │   │ 6 │ 5 ┃                                                        \n",
       "┃ = │ = │  9│ = │3 9│3  │   │ = │ = ┃                                                        \n",
       "┗━━━┷━━━┷━━━┷━━━┷━━━┷━━━┷━━━┷━━━┷━━━┛                                                        \n",
       "                                                                                             \n"
      ]
     },
     "metadata": {},
     "output_type": "display_data"
    },
    {
     "data": {
      "text/html": [
       "<pre style=\"white-space:pre;overflow-x:auto;line-height:normal;font-family:Menlo,'DejaVu Sans Mono',consolas,'Courier New',monospace\"><span style=\"color: #000080; text-decoration-color: #000080\">Step [0] - 16 (Normal)</span>                                                                       \n",
       "</pre>\n"
      ],
      "text/plain": [
       "\u001b[34mStep [0] - 16 (Normal)\u001b[0m                                                                       \n"
      ]
     },
     "metadata": {},
     "output_type": "display_data"
    },
    {
     "data": {
      "text/html": [
       "<pre style=\"white-space:pre;overflow-x:auto;line-height:normal;font-family:Menlo,'DejaVu Sans Mono',consolas,'Courier New',monospace\">Sudoku(9,9) - [69 rls, 309 ria, 8 gts, 505 gia]                                              \n",
       "</pre>\n"
      ],
      "text/plain": [
       "Sudoku(9,9) - [69 rls, 309 ria, 8 gts, 505 gia]                                              \n"
      ]
     },
     "metadata": {},
     "output_type": "display_data"
    },
    {
     "data": {
      "text/html": [
       "<pre style=\"white-space:pre;overflow-x:auto;line-height:normal;font-family:Menlo,'DejaVu Sans Mono',consolas,'Courier New',monospace\">┏━━━┯━━━┯━━━┯━━━┯━━━┯━━━┯━━━┯━━━┯━━━┓                                                        \n",
       "┃   │   │   │   │   │   │   │   │   ┃                                                        \n",
       "┃ 5 │ 4 │ 3 │ 6 │ 7 │ 1 │ 8 │ 9 │ 2 ┃                                                        \n",
       "┃ = │ = │ = │ = │ = │ = │ = │ = │ = ┃                                                        \n",
       "┠───┼───┼───┼───┼───┼───┼───┼───┼───┨                                                        \n",
       "┃   │   │   │   │   │   │   │   │   ┃                                                        \n",
       "┃ 9 │ 1 │ 2 │ 3 │ 8 │ 4 │ 6 │ 5 │ 7 ┃                                                        \n",
       "┃ = │ = │ = │ = │ = │ = │ = │ = │ = ┃                                                        \n",
       "┠───┼───┼───┼───┼───┼───┼───┼───┼───┨                                                        \n",
       "┃   │   │   │   │   │   │   │   │   ┃                                                        \n",
       "┃ 6 │ 7 │ 8 │ 2 │ 5 │ 9 │ 3 │ 4 │ 1 ┃                                                        \n",
       "┃ = │ = │ = │ = │ = │ = │ = │ = │ = ┃                                                        \n",
       "┠───┼───┼───┼───┼───┼───┼───┼───┼───┨                                                        \n",
       "┃   │   │   │   │   │   │   │   │   ┃                                                        \n",
       "┃ 8 │ 3 │ 7 │ 9 │ 4 │ 5 │ 2 │ 1 │ 6 ┃                                                        \n",
       "┃ = │ = │ = │ = │ = │ = │ = │ = │ = ┃                                                        \n",
       "┠───┼───┼───┼───┼───┼───┼───┼───┼───┨                                                        \n",
       "┃   │   │   │   │   │   │   │   │   ┃                                                        \n",
       "┃ 1 │ 2 │ 5 │ 8 │ <span style=\"color: #0000ff; text-decoration-color: #0000ff\">3</span> │   │ 9 │ 7 │ 4 ┃                                                        \n",
       "┃ = │ = │ = │ = │<span style=\"color: #ff0000; text-decoration-color: #ff0000\">3</span><span style=\"color: #00ff00; text-decoration-color: #00ff00\">=</span> │36 │ = │ = │ = ┃                                                        \n",
       "┠───┼───┼───┼───┼───┼───┼───┼───┼───┨                                                        \n",
       "┃   │   │   │   │   │   │   │   │   ┃                                                        \n",
       "┃ 4 │ 9 │ 6 │ 7 │ 1 │ 2 │ 5 │ 3 │ 8 ┃                                                        \n",
       "┃ = │ = │ = │ = │ = │ = │ = │ = │ = ┃                                                        \n",
       "┠───┼───┼───┼───┼───┼───┼───┼───┼───┨                                                        \n",
       "┃   │   │   │   │   │   │   │   │   ┃                                                        \n",
       "┃ 7 │ 5 │ 9 │ 1 │ <span style=\"color: #0000ff; text-decoration-color: #0000ff\">6</span> │ 8 │ 4 │ 2 │ 3 ┃                                                        \n",
       "┃ = │ = │ = │ = │ <span style=\"color: #00ff00; text-decoration-color: #00ff00\">=</span><span style=\"color: #ff0000; text-decoration-color: #ff0000\">9</span>│ = │ = │ = │ = ┃                                                        \n",
       "┠───┼───┼───┼───┼───┼───┼───┼───┼───┨                                                        \n",
       "┃   │   │<span style=\"color: #ff0000; text-decoration-color: #ff0000\">14</span> │   │   │  <span style=\"color: #ff0000; text-decoration-color: #ff0000\">7</span>│1 7│   │   ┃                                                        \n",
       "┃ 3 │ 6 │ <span style=\"color: #0000ff; text-decoration-color: #0000ff\">4</span> │ 5 │ 2 │ <span style=\"color: #0000ff; text-decoration-color: #0000ff\">7</span> │   │ 8 │ 9 ┃                                                        \n",
       "┃ = │ = │ <span style=\"color: #00ff00; text-decoration-color: #00ff00\">=</span> │ = │ = │ <span style=\"color: #00ff00; text-decoration-color: #00ff00\">=</span> │   │ = │ = ┃                                                        \n",
       "┠───┼───┼───┼───┼───┼───┼───┼───┼───┨                                                        \n",
       "┃   │   │<span style=\"color: #ff0000; text-decoration-color: #ff0000\">1</span>  │   │   │  7│1 7│   │   ┃                                                        \n",
       "┃ 2 │ 8 │ <span style=\"color: #0000ff; text-decoration-color: #0000ff\">1</span> │ 4 │   │   │   │ 6 │ 5 ┃                                                        \n",
       "┃ = │ = │ <span style=\"color: #00ff00; text-decoration-color: #00ff00\">=</span><span style=\"color: #ff0000; text-decoration-color: #ff0000\">9</span>│ = │3 9│3  │   │ = │ = ┃                                                        \n",
       "┗━━━┷━━━┷━━━┷━━━┷━━━┷━━━┷━━━┷━━━┷━━━┛                                                        \n",
       "                                                                                             \n",
       "</pre>\n"
      ],
      "text/plain": [
       "┏━━━┯━━━┯━━━┯━━━┯━━━┯━━━┯━━━┯━━━┯━━━┓                                                        \n",
       "┃   │   │   │   │   │   │   │   │   ┃                                                        \n",
       "┃ 5 │ 4 │ 3 │ 6 │ 7 │ 1 │ 8 │ 9 │ 2 ┃                                                        \n",
       "┃ = │ = │ = │ = │ = │ = │ = │ = │ = ┃                                                        \n",
       "┠───┼───┼───┼───┼───┼───┼───┼───┼───┨                                                        \n",
       "┃   │   │   │   │   │   │   │   │   ┃                                                        \n",
       "┃ 9 │ 1 │ 2 │ 3 │ 8 │ 4 │ 6 │ 5 │ 7 ┃                                                        \n",
       "┃ = │ = │ = │ = │ = │ = │ = │ = │ = ┃                                                        \n",
       "┠───┼───┼───┼───┼───┼───┼───┼───┼───┨                                                        \n",
       "┃   │   │   │   │   │   │   │   │   ┃                                                        \n",
       "┃ 6 │ 7 │ 8 │ 2 │ 5 │ 9 │ 3 │ 4 │ 1 ┃                                                        \n",
       "┃ = │ = │ = │ = │ = │ = │ = │ = │ = ┃                                                        \n",
       "┠───┼───┼───┼───┼───┼───┼───┼───┼───┨                                                        \n",
       "┃   │   │   │   │   │   │   │   │   ┃                                                        \n",
       "┃ 8 │ 3 │ 7 │ 9 │ 4 │ 5 │ 2 │ 1 │ 6 ┃                                                        \n",
       "┃ = │ = │ = │ = │ = │ = │ = │ = │ = ┃                                                        \n",
       "┠───┼───┼───┼───┼───┼───┼───┼───┼───┨                                                        \n",
       "┃   │   │   │   │   │   │   │   │   ┃                                                        \n",
       "┃ 1 │ 2 │ 5 │ 8 │ \u001b[94m3\u001b[0m │   │ 9 │ 7 │ 4 ┃                                                        \n",
       "┃ = │ = │ = │ = │\u001b[91m3\u001b[0m\u001b[92m=\u001b[0m │36 │ = │ = │ = ┃                                                        \n",
       "┠───┼───┼───┼───┼───┼───┼───┼───┼───┨                                                        \n",
       "┃   │   │   │   │   │   │   │   │   ┃                                                        \n",
       "┃ 4 │ 9 │ 6 │ 7 │ 1 │ 2 │ 5 │ 3 │ 8 ┃                                                        \n",
       "┃ = │ = │ = │ = │ = │ = │ = │ = │ = ┃                                                        \n",
       "┠───┼───┼───┼───┼───┼───┼───┼───┼───┨                                                        \n",
       "┃   │   │   │   │   │   │   │   │   ┃                                                        \n",
       "┃ 7 │ 5 │ 9 │ 1 │ \u001b[94m6\u001b[0m │ 8 │ 4 │ 2 │ 3 ┃                                                        \n",
       "┃ = │ = │ = │ = │ \u001b[92m=\u001b[0m\u001b[91m9\u001b[0m│ = │ = │ = │ = ┃                                                        \n",
       "┠───┼───┼───┼───┼───┼───┼───┼───┼───┨                                                        \n",
       "┃   │   │\u001b[91m1\u001b[0m\u001b[91m4\u001b[0m │   │   │  \u001b[91m7\u001b[0m│1 7│   │   ┃                                                        \n",
       "┃ 3 │ 6 │ \u001b[94m4\u001b[0m │ 5 │ 2 │ \u001b[94m7\u001b[0m │   │ 8 │ 9 ┃                                                        \n",
       "┃ = │ = │ \u001b[92m=\u001b[0m │ = │ = │ \u001b[92m=\u001b[0m │   │ = │ = ┃                                                        \n",
       "┠───┼───┼───┼───┼───┼───┼───┼───┼───┨                                                        \n",
       "┃   │   │\u001b[91m1\u001b[0m  │   │   │  7│1 7│   │   ┃                                                        \n",
       "┃ 2 │ 8 │ \u001b[94m1\u001b[0m │ 4 │   │   │   │ 6 │ 5 ┃                                                        \n",
       "┃ = │ = │ \u001b[92m=\u001b[0m\u001b[91m9\u001b[0m│ = │3 9│3  │   │ = │ = ┃                                                        \n",
       "┗━━━┷━━━┷━━━┷━━━┷━━━┷━━━┷━━━┷━━━┷━━━┛                                                        \n",
       "                                                                                             \n"
      ]
     },
     "metadata": {},
     "output_type": "display_data"
    },
    {
     "data": {
      "text/html": [
       "<pre style=\"white-space:pre;overflow-x:auto;line-height:normal;font-family:Menlo,'DejaVu Sans Mono',consolas,'Courier New',monospace\"><span style=\"color: #000080; text-decoration-color: #000080\">Step [0] - 17 (Normal)</span>                                                                       \n",
       "</pre>\n"
      ],
      "text/plain": [
       "\u001b[34mStep [0] - 17 (Normal)\u001b[0m                                                                       \n"
      ]
     },
     "metadata": {},
     "output_type": "display_data"
    },
    {
     "data": {
      "text/html": [
       "<pre style=\"white-space:pre;overflow-x:auto;line-height:normal;font-family:Menlo,'DejaVu Sans Mono',consolas,'Courier New',monospace\">Sudoku(9,9) - [38 rls, 340 ria, 0 gts, 513 gia]                                              \n",
       "</pre>\n"
      ],
      "text/plain": [
       "Sudoku(9,9) - [38 rls, 340 ria, 0 gts, 513 gia]                                              \n"
      ]
     },
     "metadata": {},
     "output_type": "display_data"
    },
    {
     "data": {
      "text/html": [
       "<pre style=\"white-space:pre;overflow-x:auto;line-height:normal;font-family:Menlo,'DejaVu Sans Mono',consolas,'Courier New',monospace\">┏━━━┯━━━┯━━━┯━━━┯━━━┯━━━┯━━━┯━━━┯━━━┓                                                        \n",
       "┃   │   │   │   │   │   │   │   │   ┃                                                        \n",
       "┃ 5 │ 4 │ 3 │ 6 │ 7 │ 1 │ 8 │ 9 │ 2 ┃                                                        \n",
       "┃ = │ = │ = │ = │ = │ = │ = │ = │ = ┃                                                        \n",
       "┠───┼───┼───┼───┼───┼───┼───┼───┼───┨                                                        \n",
       "┃   │   │   │   │   │   │   │   │   ┃                                                        \n",
       "┃ 9 │ 1 │ 2 │ 3 │ 8 │ 4 │ 6 │ 5 │ 7 ┃                                                        \n",
       "┃ = │ = │ = │ = │ = │ = │ = │ = │ = ┃                                                        \n",
       "┠───┼───┼───┼───┼───┼───┼───┼───┼───┨                                                        \n",
       "┃   │   │   │   │   │   │   │   │   ┃                                                        \n",
       "┃ 6 │ 7 │ 8 │ 2 │ 5 │ 9 │ 3 │ 4 │ 1 ┃                                                        \n",
       "┃ = │ = │ = │ = │ = │ = │ = │ = │ = ┃                                                        \n",
       "┠───┼───┼───┼───┼───┼───┼───┼───┼───┨                                                        \n",
       "┃   │   │   │   │   │   │   │   │   ┃                                                        \n",
       "┃ 8 │ 3 │ 7 │ 9 │ 4 │ 5 │ 2 │ 1 │ 6 ┃                                                        \n",
       "┃ = │ = │ = │ = │ = │ = │ = │ = │ = ┃                                                        \n",
       "┠───┼───┼───┼───┼───┼───┼───┼───┼───┨                                                        \n",
       "┃   │   │   │   │   │   │   │   │   ┃                                                        \n",
       "┃ 1 │ 2 │ 5 │ 8 │ 3 │ <span style=\"color: #0000ff; text-decoration-color: #0000ff\">6</span> │ 9 │ 7 │ 4 ┃                                                        \n",
       "┃ = │ = │ = │ = │ = │<span style=\"color: #ff0000; text-decoration-color: #ff0000\">3</span><span style=\"color: #00ff00; text-decoration-color: #00ff00\">=</span> │ = │ = │ = ┃                                                        \n",
       "┠───┼───┼───┼───┼───┼───┼───┼───┼───┨                                                        \n",
       "┃   │   │   │   │   │   │   │   │   ┃                                                        \n",
       "┃ 4 │ 9 │ 6 │ 7 │ 1 │ 2 │ 5 │ 3 │ 8 ┃                                                        \n",
       "┃ = │ = │ = │ = │ = │ = │ = │ = │ = ┃                                                        \n",
       "┠───┼───┼───┼───┼───┼───┼───┼───┼───┨                                                        \n",
       "┃   │   │   │   │   │   │   │   │   ┃                                                        \n",
       "┃ 7 │ 5 │ 9 │ 1 │ 6 │ 8 │ 4 │ 2 │ 3 ┃                                                        \n",
       "┃ = │ = │ = │ = │ = │ = │ = │ = │ = ┃                                                        \n",
       "┠───┼───┼───┼───┼───┼───┼───┼───┼───┨                                                        \n",
       "┃   │   │   │   │   │   │<span style=\"color: #ff0000; text-decoration-color: #ff0000\">1</span> <span style=\"color: #ff0000; text-decoration-color: #ff0000\">7</span>│   │   ┃                                                        \n",
       "┃ 3 │ 6 │ 4 │ 5 │ 2 │ 7 │ <span style=\"color: #0000ff; text-decoration-color: #0000ff\">1</span> │ 8 │ 9 ┃                                                        \n",
       "┃ = │ = │ = │ = │ = │ = │ <span style=\"color: #00ff00; text-decoration-color: #00ff00\">=</span> │ = │ = ┃                                                        \n",
       "┠───┼───┼───┼───┼───┼───┼───┼───┼───┨                                                        \n",
       "┃   │   │   │   │   │  <span style=\"color: #ff0000; text-decoration-color: #ff0000\">7</span>│<span style=\"color: #ff0000; text-decoration-color: #ff0000\">1</span> <span style=\"color: #ff0000; text-decoration-color: #ff0000\">7</span>│   │   ┃                                                        \n",
       "┃ 2 │ 8 │ 1 │ 4 │ <span style=\"color: #0000ff; text-decoration-color: #0000ff\">9</span> │ <span style=\"color: #0000ff; text-decoration-color: #0000ff\">3</span> │ <span style=\"color: #0000ff; text-decoration-color: #0000ff\">7</span> │ 6 │ 5 ┃                                                        \n",
       "┃ = │ = │ = │ = │<span style=\"color: #ff0000; text-decoration-color: #ff0000\">3</span><span style=\"color: #00ff00; text-decoration-color: #00ff00\">=</span><span style=\"color: #ff0000; text-decoration-color: #ff0000\">9</span>│<span style=\"color: #ff0000; text-decoration-color: #ff0000\">3</span><span style=\"color: #00ff00; text-decoration-color: #00ff00\">=</span> │ <span style=\"color: #00ff00; text-decoration-color: #00ff00\">=</span> │ = │ = ┃                                                        \n",
       "┗━━━┷━━━┷━━━┷━━━┷━━━┷━━━┷━━━┷━━━┷━━━┛                                                        \n",
       "                                                                                             \n",
       "</pre>\n"
      ],
      "text/plain": [
       "┏━━━┯━━━┯━━━┯━━━┯━━━┯━━━┯━━━┯━━━┯━━━┓                                                        \n",
       "┃   │   │   │   │   │   │   │   │   ┃                                                        \n",
       "┃ 5 │ 4 │ 3 │ 6 │ 7 │ 1 │ 8 │ 9 │ 2 ┃                                                        \n",
       "┃ = │ = │ = │ = │ = │ = │ = │ = │ = ┃                                                        \n",
       "┠───┼───┼───┼───┼───┼───┼───┼───┼───┨                                                        \n",
       "┃   │   │   │   │   │   │   │   │   ┃                                                        \n",
       "┃ 9 │ 1 │ 2 │ 3 │ 8 │ 4 │ 6 │ 5 │ 7 ┃                                                        \n",
       "┃ = │ = │ = │ = │ = │ = │ = │ = │ = ┃                                                        \n",
       "┠───┼───┼───┼───┼───┼───┼───┼───┼───┨                                                        \n",
       "┃   │   │   │   │   │   │   │   │   ┃                                                        \n",
       "┃ 6 │ 7 │ 8 │ 2 │ 5 │ 9 │ 3 │ 4 │ 1 ┃                                                        \n",
       "┃ = │ = │ = │ = │ = │ = │ = │ = │ = ┃                                                        \n",
       "┠───┼───┼───┼───┼───┼───┼───┼───┼───┨                                                        \n",
       "┃   │   │   │   │   │   │   │   │   ┃                                                        \n",
       "┃ 8 │ 3 │ 7 │ 9 │ 4 │ 5 │ 2 │ 1 │ 6 ┃                                                        \n",
       "┃ = │ = │ = │ = │ = │ = │ = │ = │ = ┃                                                        \n",
       "┠───┼───┼───┼───┼───┼───┼───┼───┼───┨                                                        \n",
       "┃   │   │   │   │   │   │   │   │   ┃                                                        \n",
       "┃ 1 │ 2 │ 5 │ 8 │ 3 │ \u001b[94m6\u001b[0m │ 9 │ 7 │ 4 ┃                                                        \n",
       "┃ = │ = │ = │ = │ = │\u001b[91m3\u001b[0m\u001b[92m=\u001b[0m │ = │ = │ = ┃                                                        \n",
       "┠───┼───┼───┼───┼───┼───┼───┼───┼───┨                                                        \n",
       "┃   │   │   │   │   │   │   │   │   ┃                                                        \n",
       "┃ 4 │ 9 │ 6 │ 7 │ 1 │ 2 │ 5 │ 3 │ 8 ┃                                                        \n",
       "┃ = │ = │ = │ = │ = │ = │ = │ = │ = ┃                                                        \n",
       "┠───┼───┼───┼───┼───┼───┼───┼───┼───┨                                                        \n",
       "┃   │   │   │   │   │   │   │   │   ┃                                                        \n",
       "┃ 7 │ 5 │ 9 │ 1 │ 6 │ 8 │ 4 │ 2 │ 3 ┃                                                        \n",
       "┃ = │ = │ = │ = │ = │ = │ = │ = │ = ┃                                                        \n",
       "┠───┼───┼───┼───┼───┼───┼───┼───┼───┨                                                        \n",
       "┃   │   │   │   │   │   │\u001b[91m1\u001b[0m \u001b[91m7\u001b[0m│   │   ┃                                                        \n",
       "┃ 3 │ 6 │ 4 │ 5 │ 2 │ 7 │ \u001b[94m1\u001b[0m │ 8 │ 9 ┃                                                        \n",
       "┃ = │ = │ = │ = │ = │ = │ \u001b[92m=\u001b[0m │ = │ = ┃                                                        \n",
       "┠───┼───┼───┼───┼───┼───┼───┼───┼───┨                                                        \n",
       "┃   │   │   │   │   │  \u001b[91m7\u001b[0m│\u001b[91m1\u001b[0m \u001b[91m7\u001b[0m│   │   ┃                                                        \n",
       "┃ 2 │ 8 │ 1 │ 4 │ \u001b[94m9\u001b[0m │ \u001b[94m3\u001b[0m │ \u001b[94m7\u001b[0m │ 6 │ 5 ┃                                                        \n",
       "┃ = │ = │ = │ = │\u001b[91m3\u001b[0m\u001b[92m=\u001b[0m\u001b[91m9\u001b[0m│\u001b[91m3\u001b[0m\u001b[92m=\u001b[0m │ \u001b[92m=\u001b[0m │ = │ = ┃                                                        \n",
       "┗━━━┷━━━┷━━━┷━━━┷━━━┷━━━┷━━━┷━━━┷━━━┛                                                        \n",
       "                                                                                             \n"
      ]
     },
     "metadata": {},
     "output_type": "display_data"
    },
    {
     "data": {
      "text/html": [
       "<pre style=\"white-space:pre;overflow-x:auto;line-height:normal;font-family:Menlo,'DejaVu Sans Mono',consolas,'Courier New',monospace\"><span style=\"color: #000080; text-decoration-color: #000080\">Step [0] - 18 (Normal)</span>                                                                       \n",
       "</pre>\n"
      ],
      "text/plain": [
       "\u001b[34mStep [0] - 18 (Normal)\u001b[0m                                                                       \n"
      ]
     },
     "metadata": {},
     "output_type": "display_data"
    },
    {
     "data": {
      "text/html": [
       "<pre style=\"white-space:pre;overflow-x:auto;line-height:normal;font-family:Menlo,'DejaVu Sans Mono',consolas,'Courier New',monospace\">Sudoku(9,9) - [0 rls, 378 ria, 0 gts, 513 gia]                                               \n",
       "</pre>\n"
      ],
      "text/plain": [
       "Sudoku(9,9) - [0 rls, 378 ria, 0 gts, 513 gia]                                               \n"
      ]
     },
     "metadata": {},
     "output_type": "display_data"
    },
    {
     "data": {
      "text/html": [
       "<pre style=\"white-space:pre;overflow-x:auto;line-height:normal;font-family:Menlo,'DejaVu Sans Mono',consolas,'Courier New',monospace\">┏━━━┯━━━┯━━━┯━━━┯━━━┯━━━┯━━━┯━━━┯━━━┓                                                        \n",
       "┃   │   │   │   │   │   │   │   │   ┃                                                        \n",
       "┃ 5 │ 4 │ 3 │ 6 │ 7 │ 1 │ 8 │ 9 │ 2 ┃                                                        \n",
       "┃ = │ = │ = │ = │ = │ = │ = │ = │ = ┃                                                        \n",
       "┠───┼───┼───┼───┼───┼───┼───┼───┼───┨                                                        \n",
       "┃   │   │   │   │   │   │   │   │   ┃                                                        \n",
       "┃ 9 │ 1 │ 2 │ 3 │ 8 │ 4 │ 6 │ 5 │ 7 ┃                                                        \n",
       "┃ = │ = │ = │ = │ = │ = │ = │ = │ = ┃                                                        \n",
       "┠───┼───┼───┼───┼───┼───┼───┼───┼───┨                                                        \n",
       "┃   │   │   │   │   │   │   │   │   ┃                                                        \n",
       "┃ 6 │ 7 │ 8 │ 2 │ 5 │ 9 │ 3 │ 4 │ 1 ┃                                                        \n",
       "┃ = │ = │ = │ = │ = │ = │ = │ = │ = ┃                                                        \n",
       "┠───┼───┼───┼───┼───┼───┼───┼───┼───┨                                                        \n",
       "┃   │   │   │   │   │   │   │   │   ┃                                                        \n",
       "┃ 8 │ 3 │ 7 │ 9 │ 4 │ 5 │ 2 │ 1 │ 6 ┃                                                        \n",
       "┃ = │ = │ = │ = │ = │ = │ = │ = │ = ┃                                                        \n",
       "┠───┼───┼───┼───┼───┼───┼───┼───┼───┨                                                        \n",
       "┃   │   │   │   │   │   │   │   │   ┃                                                        \n",
       "┃ 1 │ 2 │ 5 │ 8 │ 3 │ 6 │ 9 │ 7 │ 4 ┃                                                        \n",
       "┃ = │ = │ = │ = │ = │ = │ = │ = │ = ┃                                                        \n",
       "┠───┼───┼───┼───┼───┼───┼───┼───┼───┨                                                        \n",
       "┃   │   │   │   │   │   │   │   │   ┃                                                        \n",
       "┃ 4 │ 9 │ 6 │ 7 │ 1 │ 2 │ 5 │ 3 │ 8 ┃                                                        \n",
       "┃ = │ = │ = │ = │ = │ = │ = │ = │ = ┃                                                        \n",
       "┠───┼───┼───┼───┼───┼───┼───┼───┼───┨                                                        \n",
       "┃   │   │   │   │   │   │   │   │   ┃                                                        \n",
       "┃ 7 │ 5 │ 9 │ 1 │ 6 │ 8 │ 4 │ 2 │ 3 ┃                                                        \n",
       "┃ = │ = │ = │ = │ = │ = │ = │ = │ = ┃                                                        \n",
       "┠───┼───┼───┼───┼───┼───┼───┼───┼───┨                                                        \n",
       "┃   │   │   │   │   │   │   │   │   ┃                                                        \n",
       "┃ 3 │ 6 │ 4 │ 5 │ 2 │ 7 │ 1 │ 8 │ 9 ┃                                                        \n",
       "┃ = │ = │ = │ = │ = │ = │ = │ = │ = ┃                                                        \n",
       "┠───┼───┼───┼───┼───┼───┼───┼───┼───┨                                                        \n",
       "┃   │   │   │   │   │   │   │   │   ┃                                                        \n",
       "┃ 2 │ 8 │ 1 │ 4 │ 9 │ 3 │ 7 │ 6 │ 5 ┃                                                        \n",
       "┃ = │ = │ = │ = │ = │ = │ = │ = │ = ┃                                                        \n",
       "┗━━━┷━━━┷━━━┷━━━┷━━━┷━━━┷━━━┷━━━┷━━━┛                                                        \n",
       "                                                                                             \n",
       "</pre>\n"
      ],
      "text/plain": [
       "┏━━━┯━━━┯━━━┯━━━┯━━━┯━━━┯━━━┯━━━┯━━━┓                                                        \n",
       "┃   │   │   │   │   │   │   │   │   ┃                                                        \n",
       "┃ 5 │ 4 │ 3 │ 6 │ 7 │ 1 │ 8 │ 9 │ 2 ┃                                                        \n",
       "┃ = │ = │ = │ = │ = │ = │ = │ = │ = ┃                                                        \n",
       "┠───┼───┼───┼───┼───┼───┼───┼───┼───┨                                                        \n",
       "┃   │   │   │   │   │   │   │   │   ┃                                                        \n",
       "┃ 9 │ 1 │ 2 │ 3 │ 8 │ 4 │ 6 │ 5 │ 7 ┃                                                        \n",
       "┃ = │ = │ = │ = │ = │ = │ = │ = │ = ┃                                                        \n",
       "┠───┼───┼───┼───┼───┼───┼───┼───┼───┨                                                        \n",
       "┃   │   │   │   │   │   │   │   │   ┃                                                        \n",
       "┃ 6 │ 7 │ 8 │ 2 │ 5 │ 9 │ 3 │ 4 │ 1 ┃                                                        \n",
       "┃ = │ = │ = │ = │ = │ = │ = │ = │ = ┃                                                        \n",
       "┠───┼───┼───┼───┼───┼───┼───┼───┼───┨                                                        \n",
       "┃   │   │   │   │   │   │   │   │   ┃                                                        \n",
       "┃ 8 │ 3 │ 7 │ 9 │ 4 │ 5 │ 2 │ 1 │ 6 ┃                                                        \n",
       "┃ = │ = │ = │ = │ = │ = │ = │ = │ = ┃                                                        \n",
       "┠───┼───┼───┼───┼───┼───┼───┼───┼───┨                                                        \n",
       "┃   │   │   │   │   │   │   │   │   ┃                                                        \n",
       "┃ 1 │ 2 │ 5 │ 8 │ 3 │ 6 │ 9 │ 7 │ 4 ┃                                                        \n",
       "┃ = │ = │ = │ = │ = │ = │ = │ = │ = ┃                                                        \n",
       "┠───┼───┼───┼───┼───┼───┼───┼───┼───┨                                                        \n",
       "┃   │   │   │   │   │   │   │   │   ┃                                                        \n",
       "┃ 4 │ 9 │ 6 │ 7 │ 1 │ 2 │ 5 │ 3 │ 8 ┃                                                        \n",
       "┃ = │ = │ = │ = │ = │ = │ = │ = │ = ┃                                                        \n",
       "┠───┼───┼───┼───┼───┼───┼───┼───┼───┨                                                        \n",
       "┃   │   │   │   │   │   │   │   │   ┃                                                        \n",
       "┃ 7 │ 5 │ 9 │ 1 │ 6 │ 8 │ 4 │ 2 │ 3 ┃                                                        \n",
       "┃ = │ = │ = │ = │ = │ = │ = │ = │ = ┃                                                        \n",
       "┠───┼───┼───┼───┼───┼───┼───┼───┼───┨                                                        \n",
       "┃   │   │   │   │   │   │   │   │   ┃                                                        \n",
       "┃ 3 │ 6 │ 4 │ 5 │ 2 │ 7 │ 1 │ 8 │ 9 ┃                                                        \n",
       "┃ = │ = │ = │ = │ = │ = │ = │ = │ = ┃                                                        \n",
       "┠───┼───┼───┼───┼───┼───┼───┼───┼───┨                                                        \n",
       "┃   │   │   │   │   │   │   │   │   ┃                                                        \n",
       "┃ 2 │ 8 │ 1 │ 4 │ 9 │ 3 │ 7 │ 6 │ 5 ┃                                                        \n",
       "┃ = │ = │ = │ = │ = │ = │ = │ = │ = ┃                                                        \n",
       "┗━━━┷━━━┷━━━┷━━━┷━━━┷━━━┷━━━┷━━━┷━━━┛                                                        \n",
       "                                                                                             \n"
      ]
     },
     "metadata": {},
     "output_type": "display_data"
    },
    {
     "data": {
      "text/html": [
       "<pre style=\"white-space:pre;overflow-x:auto;line-height:normal;font-family:Menlo,'DejaVu Sans Mono',consolas,'Courier New',monospace\">Done after 19 steps:    SolveStatus.SOLVED                                                   \n",
       "</pre>\n"
      ],
      "text/plain": [
       "Done after 19 steps:    SolveStatus.SOLVED                                                   \n"
      ]
     },
     "metadata": {},
     "output_type": "display_data"
    },
    {
     "data": {
      "text/html": [
       "<pre style=\"white-space:pre;overflow-x:auto;line-height:normal;font-family:Menlo,'DejaVu Sans Mono',consolas,'Courier New',monospace\">Sudoku(9,9) - [0 rls, 378 ria, 0 gts, 513 gia]                                               \n",
       "</pre>\n"
      ],
      "text/plain": [
       "Sudoku(9,9) - [0 rls, 378 ria, 0 gts, 513 gia]                                               \n"
      ]
     },
     "metadata": {},
     "output_type": "display_data"
    },
    {
     "data": {
      "text/html": [
       "<pre style=\"white-space:pre;overflow-x:auto;line-height:normal;font-family:Menlo,'DejaVu Sans Mono',consolas,'Courier New',monospace\">┏━━━┯━━━┯━━━┯━━━┯━━━┯━━━┯━━━┯━━━┯━━━┓                                                        \n",
       "┃   │   │   │   │   │   │   │   │   ┃                                                        \n",
       "┃ 5 │ 4 │ 3 │ 6 │ 7 │ 1 │ 8 │ 9 │ 2 ┃                                                        \n",
       "┃ = │ = │ = │ = │ = │ = │ = │ = │ = ┃                                                        \n",
       "┠───┼───┼───┼───┼───┼───┼───┼───┼───┨                                                        \n",
       "┃   │   │   │   │   │   │   │   │   ┃                                                        \n",
       "┃ 9 │ 1 │ 2 │ 3 │ 8 │ 4 │ 6 │ 5 │ 7 ┃                                                        \n",
       "┃ = │ = │ = │ = │ = │ = │ = │ = │ = ┃                                                        \n",
       "┠───┼───┼───┼───┼───┼───┼───┼───┼───┨                                                        \n",
       "┃   │   │   │   │   │   │   │   │   ┃                                                        \n",
       "┃ 6 │ 7 │ 8 │ 2 │ 5 │ 9 │ 3 │ 4 │ 1 ┃                                                        \n",
       "┃ = │ = │ = │ = │ = │ = │ = │ = │ = ┃                                                        \n",
       "┠───┼───┼───┼───┼───┼───┼───┼───┼───┨                                                        \n",
       "┃   │   │   │   │   │   │   │   │   ┃                                                        \n",
       "┃ 8 │ 3 │ 7 │ 9 │ 4 │ 5 │ 2 │ 1 │ 6 ┃                                                        \n",
       "┃ = │ = │ = │ = │ = │ = │ = │ = │ = ┃                                                        \n",
       "┠───┼───┼───┼───┼───┼───┼───┼───┼───┨                                                        \n",
       "┃   │   │   │   │   │   │   │   │   ┃                                                        \n",
       "┃ 1 │ 2 │ 5 │ 8 │ 3 │ 6 │ 9 │ 7 │ 4 ┃                                                        \n",
       "┃ = │ = │ = │ = │ = │ = │ = │ = │ = ┃                                                        \n",
       "┠───┼───┼───┼───┼───┼───┼───┼───┼───┨                                                        \n",
       "┃   │   │   │   │   │   │   │   │   ┃                                                        \n",
       "┃ 4 │ 9 │ 6 │ 7 │ 1 │ 2 │ 5 │ 3 │ 8 ┃                                                        \n",
       "┃ = │ = │ = │ = │ = │ = │ = │ = │ = ┃                                                        \n",
       "┠───┼───┼───┼───┼───┼───┼───┼───┼───┨                                                        \n",
       "┃   │   │   │   │   │   │   │   │   ┃                                                        \n",
       "┃ 7 │ 5 │ 9 │ 1 │ 6 │ 8 │ 4 │ 2 │ 3 ┃                                                        \n",
       "┃ = │ = │ = │ = │ = │ = │ = │ = │ = ┃                                                        \n",
       "┠───┼───┼───┼───┼───┼───┼───┼───┼───┨                                                        \n",
       "┃   │   │   │   │   │   │   │   │   ┃                                                        \n",
       "┃ 3 │ 6 │ 4 │ 5 │ 2 │ 7 │ 1 │ 8 │ 9 ┃                                                        \n",
       "┃ = │ = │ = │ = │ = │ = │ = │ = │ = ┃                                                        \n",
       "┠───┼───┼───┼───┼───┼───┼───┼───┼───┨                                                        \n",
       "┃   │   │   │   │   │   │   │   │   ┃                                                        \n",
       "┃ 2 │ 8 │ 1 │ 4 │ 9 │ 3 │ 7 │ 6 │ 5 ┃                                                        \n",
       "┃ = │ = │ = │ = │ = │ = │ = │ = │ = ┃                                                        \n",
       "┗━━━┷━━━┷━━━┷━━━┷━━━┷━━━┷━━━┷━━━┷━━━┛                                                        \n",
       "                                                                                             \n",
       "</pre>\n"
      ],
      "text/plain": [
       "┏━━━┯━━━┯━━━┯━━━┯━━━┯━━━┯━━━┯━━━┯━━━┓                                                        \n",
       "┃   │   │   │   │   │   │   │   │   ┃                                                        \n",
       "┃ 5 │ 4 │ 3 │ 6 │ 7 │ 1 │ 8 │ 9 │ 2 ┃                                                        \n",
       "┃ = │ = │ = │ = │ = │ = │ = │ = │ = ┃                                                        \n",
       "┠───┼───┼───┼───┼───┼───┼───┼───┼───┨                                                        \n",
       "┃   │   │   │   │   │   │   │   │   ┃                                                        \n",
       "┃ 9 │ 1 │ 2 │ 3 │ 8 │ 4 │ 6 │ 5 │ 7 ┃                                                        \n",
       "┃ = │ = │ = │ = │ = │ = │ = │ = │ = ┃                                                        \n",
       "┠───┼───┼───┼───┼───┼───┼───┼───┼───┨                                                        \n",
       "┃   │   │   │   │   │   │   │   │   ┃                                                        \n",
       "┃ 6 │ 7 │ 8 │ 2 │ 5 │ 9 │ 3 │ 4 │ 1 ┃                                                        \n",
       "┃ = │ = │ = │ = │ = │ = │ = │ = │ = ┃                                                        \n",
       "┠───┼───┼───┼───┼───┼───┼───┼───┼───┨                                                        \n",
       "┃   │   │   │   │   │   │   │   │   ┃                                                        \n",
       "┃ 8 │ 3 │ 7 │ 9 │ 4 │ 5 │ 2 │ 1 │ 6 ┃                                                        \n",
       "┃ = │ = │ = │ = │ = │ = │ = │ = │ = ┃                                                        \n",
       "┠───┼───┼───┼───┼───┼───┼───┼───┼───┨                                                        \n",
       "┃   │   │   │   │   │   │   │   │   ┃                                                        \n",
       "┃ 1 │ 2 │ 5 │ 8 │ 3 │ 6 │ 9 │ 7 │ 4 ┃                                                        \n",
       "┃ = │ = │ = │ = │ = │ = │ = │ = │ = ┃                                                        \n",
       "┠───┼───┼───┼───┼───┼───┼───┼───┼───┨                                                        \n",
       "┃   │   │   │   │   │   │   │   │   ┃                                                        \n",
       "┃ 4 │ 9 │ 6 │ 7 │ 1 │ 2 │ 5 │ 3 │ 8 ┃                                                        \n",
       "┃ = │ = │ = │ = │ = │ = │ = │ = │ = ┃                                                        \n",
       "┠───┼───┼───┼───┼───┼───┼───┼───┼───┨                                                        \n",
       "┃   │   │   │   │   │   │   │   │   ┃                                                        \n",
       "┃ 7 │ 5 │ 9 │ 1 │ 6 │ 8 │ 4 │ 2 │ 3 ┃                                                        \n",
       "┃ = │ = │ = │ = │ = │ = │ = │ = │ = ┃                                                        \n",
       "┠───┼───┼───┼───┼───┼───┼───┼───┼───┨                                                        \n",
       "┃   │   │   │   │   │   │   │   │   ┃                                                        \n",
       "┃ 3 │ 6 │ 4 │ 5 │ 2 │ 7 │ 1 │ 8 │ 9 ┃                                                        \n",
       "┃ = │ = │ = │ = │ = │ = │ = │ = │ = ┃                                                        \n",
       "┠───┼───┼───┼───┼───┼───┼───┼───┼───┨                                                        \n",
       "┃   │   │   │   │   │   │   │   │   ┃                                                        \n",
       "┃ 2 │ 8 │ 1 │ 4 │ 9 │ 3 │ 7 │ 6 │ 5 ┃                                                        \n",
       "┃ = │ = │ = │ = │ = │ = │ = │ = │ = ┃                                                        \n",
       "┗━━━┷━━━┷━━━┷━━━┷━━━┷━━━┷━━━┷━━━┷━━━┛                                                        \n",
       "                                                                                             \n"
      ]
     },
     "metadata": {},
     "output_type": "display_data"
    },
    {
     "data": {
      "text/html": [
       "<pre style=\"white-space:pre;overflow-x:auto;line-height:normal;font-family:Menlo,'DejaVu Sans Mono',consolas,'Courier New',monospace\"><span style=\"color: #000080; text-decoration-color: #000080\">Solution 0</span>                                                                                   \n",
       "</pre>\n"
      ],
      "text/plain": [
       "\u001b[34mSolution 0\u001b[0m                                                                                   \n"
      ]
     },
     "metadata": {},
     "output_type": "display_data"
    },
    {
     "data": {
      "text/html": [
       "<pre style=\"white-space:pre;overflow-x:auto;line-height:normal;font-family:Menlo,'DejaVu Sans Mono',consolas,'Courier New',monospace\">Sudoku(9,9)                                                                                  \n",
       "</pre>\n"
      ],
      "text/plain": [
       "Sudoku(9,9)                                                                                  \n"
      ]
     },
     "metadata": {},
     "output_type": "display_data"
    },
    {
     "data": {
      "text/html": [
       "<pre style=\"white-space:pre;overflow-x:auto;line-height:normal;font-family:Menlo,'DejaVu Sans Mono',consolas,'Courier New',monospace\">┏━━━┯━━━┯━━━┓                                                                                \n",
       "┃543│671│892┃                                                                                \n",
       "┃912│384│657┃                                                                                \n",
       "┃678│259│341┃                                                                                \n",
       "┠───┼───┼───┨                                                                                \n",
       "┃837│945│216┃                                                                                \n",
       "┃125│836│974┃                                                                                \n",
       "┃496│712│538┃                                                                                \n",
       "┠───┼───┼───┨                                                                                \n",
       "┃759│168│423┃                                                                                \n",
       "┃364│527│189┃                                                                                \n",
       "┃281│493│765┃                                                                                \n",
       "┗━━━┷━━━┷━━━┛                                                                                \n",
       "                                                                                             \n",
       "</pre>\n"
      ],
      "text/plain": [
       "┏━━━┯━━━┯━━━┓                                                                                \n",
       "┃543│671│892┃                                                                                \n",
       "┃912│384│657┃                                                                                \n",
       "┃678│259│341┃                                                                                \n",
       "┠───┼───┼───┨                                                                                \n",
       "┃837│945│216┃                                                                                \n",
       "┃125│836│974┃                                                                                \n",
       "┃496│712│538┃                                                                                \n",
       "┠───┼───┼───┨                                                                                \n",
       "┃759│168│423┃                                                                                \n",
       "┃364│527│189┃                                                                                \n",
       "┃281│493│765┃                                                                                \n",
       "┗━━━┷━━━┷━━━┛                                                                                \n",
       "                                                                                             \n"
      ]
     },
     "metadata": {},
     "output_type": "display_data"
    },
    {
     "data": {
      "text/plain": [
       "{<gridsolver.abstract_grids.immutable_grid.ImmutableGrid at 0x2074cba3f40>}"
      ]
     },
     "execution_count": 2,
     "metadata": {},
     "output_type": "execute_result"
    }
   ],
   "source": [
    "g = create_from_str_and_class(\"\"\"\n",
    ".......92\n",
    "....84...\n",
    "..8.5...1\n",
    "....4....\n",
    ".25...9..\n",
    "...71.5..\n",
    "75.1..4.3\n",
    "3..5....9\n",
    "2..4...65\n",
    "\"\"\", \"Sudoku\")\n",
    "solver.solve(g, -1)"
   ]
  }
 ],
 "metadata": {
  "kernelspec": {
   "display_name": "Python 3 (ipykernel)",
   "language": "python",
   "name": "python3"
  },
  "language_info": {
   "codemirror_mode": {
    "name": "ipython",
    "version": 3
   },
   "file_extension": ".py",
   "mimetype": "text/x-python",
   "name": "python",
   "nbconvert_exporter": "python",
   "pygments_lexer": "ipython3",
   "version": "3.9.9"
  }
 },
 "nbformat": 4,
 "nbformat_minor": 5
}
